{
  "nbformat": 4,
  "nbformat_minor": 0,
  "metadata": {
    "colab": {
      "name": "Copy of transformer.ipynb",
      "provenance": [],
      "collapsed_sections": [
        "s_qNSzzyaCbD"
      ],
      "toc_visible": true,
      "include_colab_link": true
    },
    "kernelspec": {
      "display_name": "Python 3",
      "name": "python3"
    },
    "widgets": {
      "application/vnd.jupyter.widget-state+json": {
        "2a53c0deee5746c2bea8e6b5d6ac4f79": {
          "model_module": "@jupyter-widgets/controls",
          "model_name": "HBoxModel",
          "state": {
            "_view_name": "HBoxView",
            "_dom_classes": [],
            "_model_name": "HBoxModel",
            "_view_module": "@jupyter-widgets/controls",
            "_model_module_version": "1.5.0",
            "_view_count": null,
            "_view_module_version": "1.5.0",
            "box_style": "",
            "layout": "IPY_MODEL_05dffddae8a04d5eb5abeb3ca924779d",
            "_model_module": "@jupyter-widgets/controls",
            "children": [
              "IPY_MODEL_dde24de4e378417bbad96b1955b81321",
              "IPY_MODEL_d40e389e1f3f4307b5171c5cd42cfd41"
            ]
          }
        },
        "05dffddae8a04d5eb5abeb3ca924779d": {
          "model_module": "@jupyter-widgets/base",
          "model_name": "LayoutModel",
          "state": {
            "_view_name": "LayoutView",
            "grid_template_rows": null,
            "right": null,
            "justify_content": null,
            "_view_module": "@jupyter-widgets/base",
            "overflow": null,
            "_model_module_version": "1.2.0",
            "_view_count": null,
            "flex_flow": null,
            "width": null,
            "min_width": null,
            "border": null,
            "align_items": null,
            "bottom": null,
            "_model_module": "@jupyter-widgets/base",
            "top": null,
            "grid_column": null,
            "overflow_y": null,
            "overflow_x": null,
            "grid_auto_flow": null,
            "grid_area": null,
            "grid_template_columns": null,
            "flex": null,
            "_model_name": "LayoutModel",
            "justify_items": null,
            "grid_row": null,
            "max_height": null,
            "align_content": null,
            "visibility": null,
            "align_self": null,
            "height": null,
            "min_height": null,
            "padding": null,
            "grid_auto_rows": null,
            "grid_gap": null,
            "max_width": null,
            "order": null,
            "_view_module_version": "1.2.0",
            "grid_template_areas": null,
            "object_position": null,
            "object_fit": null,
            "grid_auto_columns": null,
            "margin": null,
            "display": null,
            "left": null
          }
        },
        "dde24de4e378417bbad96b1955b81321": {
          "model_module": "@jupyter-widgets/controls",
          "model_name": "FloatProgressModel",
          "state": {
            "_view_name": "ProgressView",
            "style": "IPY_MODEL_f4e3018ae78945a6a2fdcef8baac09ea",
            "_dom_classes": [],
            "description": "Dl Completed...: 100%",
            "_model_name": "FloatProgressModel",
            "bar_style": "success",
            "max": 1,
            "_view_module": "@jupyter-widgets/controls",
            "_model_module_version": "1.5.0",
            "value": 1,
            "_view_count": null,
            "_view_module_version": "1.5.0",
            "orientation": "horizontal",
            "min": 0,
            "description_tooltip": null,
            "_model_module": "@jupyter-widgets/controls",
            "layout": "IPY_MODEL_c3e0d50ee2024438af725cf0942b2142"
          }
        },
        "d40e389e1f3f4307b5171c5cd42cfd41": {
          "model_module": "@jupyter-widgets/controls",
          "model_name": "HTMLModel",
          "state": {
            "_view_name": "HTMLView",
            "style": "IPY_MODEL_9e80a8018d6b4ce7886b53ddd6beb4e7",
            "_dom_classes": [],
            "description": "",
            "_model_name": "HTMLModel",
            "placeholder": "​",
            "_view_module": "@jupyter-widgets/controls",
            "_model_module_version": "1.5.0",
            "value": " 1/1 [00:06&lt;00:00,  6.79s/ url]",
            "_view_count": null,
            "_view_module_version": "1.5.0",
            "description_tooltip": null,
            "_model_module": "@jupyter-widgets/controls",
            "layout": "IPY_MODEL_fe47221ac5e440e6ab82dee15a92d0fd"
          }
        },
        "f4e3018ae78945a6a2fdcef8baac09ea": {
          "model_module": "@jupyter-widgets/controls",
          "model_name": "ProgressStyleModel",
          "state": {
            "_view_name": "StyleView",
            "_model_name": "ProgressStyleModel",
            "description_width": "initial",
            "_view_module": "@jupyter-widgets/base",
            "_model_module_version": "1.5.0",
            "_view_count": null,
            "_view_module_version": "1.2.0",
            "bar_color": null,
            "_model_module": "@jupyter-widgets/controls"
          }
        },
        "c3e0d50ee2024438af725cf0942b2142": {
          "model_module": "@jupyter-widgets/base",
          "model_name": "LayoutModel",
          "state": {
            "_view_name": "LayoutView",
            "grid_template_rows": null,
            "right": null,
            "justify_content": null,
            "_view_module": "@jupyter-widgets/base",
            "overflow": null,
            "_model_module_version": "1.2.0",
            "_view_count": null,
            "flex_flow": null,
            "width": null,
            "min_width": null,
            "border": null,
            "align_items": null,
            "bottom": null,
            "_model_module": "@jupyter-widgets/base",
            "top": null,
            "grid_column": null,
            "overflow_y": null,
            "overflow_x": null,
            "grid_auto_flow": null,
            "grid_area": null,
            "grid_template_columns": null,
            "flex": null,
            "_model_name": "LayoutModel",
            "justify_items": null,
            "grid_row": null,
            "max_height": null,
            "align_content": null,
            "visibility": null,
            "align_self": null,
            "height": null,
            "min_height": null,
            "padding": null,
            "grid_auto_rows": null,
            "grid_gap": null,
            "max_width": null,
            "order": null,
            "_view_module_version": "1.2.0",
            "grid_template_areas": null,
            "object_position": null,
            "object_fit": null,
            "grid_auto_columns": null,
            "margin": null,
            "display": null,
            "left": null
          }
        },
        "9e80a8018d6b4ce7886b53ddd6beb4e7": {
          "model_module": "@jupyter-widgets/controls",
          "model_name": "DescriptionStyleModel",
          "state": {
            "_view_name": "StyleView",
            "_model_name": "DescriptionStyleModel",
            "description_width": "",
            "_view_module": "@jupyter-widgets/base",
            "_model_module_version": "1.5.0",
            "_view_count": null,
            "_view_module_version": "1.2.0",
            "_model_module": "@jupyter-widgets/controls"
          }
        },
        "fe47221ac5e440e6ab82dee15a92d0fd": {
          "model_module": "@jupyter-widgets/base",
          "model_name": "LayoutModel",
          "state": {
            "_view_name": "LayoutView",
            "grid_template_rows": null,
            "right": null,
            "justify_content": null,
            "_view_module": "@jupyter-widgets/base",
            "overflow": null,
            "_model_module_version": "1.2.0",
            "_view_count": null,
            "flex_flow": null,
            "width": null,
            "min_width": null,
            "border": null,
            "align_items": null,
            "bottom": null,
            "_model_module": "@jupyter-widgets/base",
            "top": null,
            "grid_column": null,
            "overflow_y": null,
            "overflow_x": null,
            "grid_auto_flow": null,
            "grid_area": null,
            "grid_template_columns": null,
            "flex": null,
            "_model_name": "LayoutModel",
            "justify_items": null,
            "grid_row": null,
            "max_height": null,
            "align_content": null,
            "visibility": null,
            "align_self": null,
            "height": null,
            "min_height": null,
            "padding": null,
            "grid_auto_rows": null,
            "grid_gap": null,
            "max_width": null,
            "order": null,
            "_view_module_version": "1.2.0",
            "grid_template_areas": null,
            "object_position": null,
            "object_fit": null,
            "grid_auto_columns": null,
            "margin": null,
            "display": null,
            "left": null
          }
        },
        "ac8d0d6c7bed4198a3d9e9ced32e1ad9": {
          "model_module": "@jupyter-widgets/controls",
          "model_name": "HBoxModel",
          "state": {
            "_view_name": "HBoxView",
            "_dom_classes": [],
            "_model_name": "HBoxModel",
            "_view_module": "@jupyter-widgets/controls",
            "_model_module_version": "1.5.0",
            "_view_count": null,
            "_view_module_version": "1.5.0",
            "box_style": "",
            "layout": "IPY_MODEL_d688ffa1872648a0b9251414e989a6de",
            "_model_module": "@jupyter-widgets/controls",
            "children": [
              "IPY_MODEL_4a8169f698ad43e4ad8c9ba13e1c02b9",
              "IPY_MODEL_0904aedd0d1541a2a589cf1556de32e4"
            ]
          }
        },
        "d688ffa1872648a0b9251414e989a6de": {
          "model_module": "@jupyter-widgets/base",
          "model_name": "LayoutModel",
          "state": {
            "_view_name": "LayoutView",
            "grid_template_rows": null,
            "right": null,
            "justify_content": null,
            "_view_module": "@jupyter-widgets/base",
            "overflow": null,
            "_model_module_version": "1.2.0",
            "_view_count": null,
            "flex_flow": null,
            "width": null,
            "min_width": null,
            "border": null,
            "align_items": null,
            "bottom": null,
            "_model_module": "@jupyter-widgets/base",
            "top": null,
            "grid_column": null,
            "overflow_y": null,
            "overflow_x": null,
            "grid_auto_flow": null,
            "grid_area": null,
            "grid_template_columns": null,
            "flex": null,
            "_model_name": "LayoutModel",
            "justify_items": null,
            "grid_row": null,
            "max_height": null,
            "align_content": null,
            "visibility": null,
            "align_self": null,
            "height": null,
            "min_height": null,
            "padding": null,
            "grid_auto_rows": null,
            "grid_gap": null,
            "max_width": null,
            "order": null,
            "_view_module_version": "1.2.0",
            "grid_template_areas": null,
            "object_position": null,
            "object_fit": null,
            "grid_auto_columns": null,
            "margin": null,
            "display": null,
            "left": null
          }
        },
        "4a8169f698ad43e4ad8c9ba13e1c02b9": {
          "model_module": "@jupyter-widgets/controls",
          "model_name": "FloatProgressModel",
          "state": {
            "_view_name": "ProgressView",
            "style": "IPY_MODEL_cdf872d42479412891569a3b43d2d370",
            "_dom_classes": [],
            "description": "Dl Size...: 100%",
            "_model_name": "FloatProgressModel",
            "bar_style": "success",
            "max": 1,
            "_view_module": "@jupyter-widgets/controls",
            "_model_module_version": "1.5.0",
            "value": 1,
            "_view_count": null,
            "_view_module_version": "1.5.0",
            "orientation": "horizontal",
            "min": 0,
            "description_tooltip": null,
            "_model_module": "@jupyter-widgets/controls",
            "layout": "IPY_MODEL_6258cc6d4ab64fbdbc4fecb329f31807"
          }
        },
        "0904aedd0d1541a2a589cf1556de32e4": {
          "model_module": "@jupyter-widgets/controls",
          "model_name": "HTMLModel",
          "state": {
            "_view_name": "HTMLView",
            "style": "IPY_MODEL_523c6c2fa9c849fe94cab9e769792c31",
            "_dom_classes": [],
            "description": "",
            "_model_name": "HTMLModel",
            "placeholder": "​",
            "_view_module": "@jupyter-widgets/controls",
            "_model_module_version": "1.5.0",
            "value": " 124/124 [00:06&lt;00:00, 18.34 MiB/s]",
            "_view_count": null,
            "_view_module_version": "1.5.0",
            "description_tooltip": null,
            "_model_module": "@jupyter-widgets/controls",
            "layout": "IPY_MODEL_7ff5e38ccb004fc2b0e5c0f552274148"
          }
        },
        "cdf872d42479412891569a3b43d2d370": {
          "model_module": "@jupyter-widgets/controls",
          "model_name": "ProgressStyleModel",
          "state": {
            "_view_name": "StyleView",
            "_model_name": "ProgressStyleModel",
            "description_width": "initial",
            "_view_module": "@jupyter-widgets/base",
            "_model_module_version": "1.5.0",
            "_view_count": null,
            "_view_module_version": "1.2.0",
            "bar_color": null,
            "_model_module": "@jupyter-widgets/controls"
          }
        },
        "6258cc6d4ab64fbdbc4fecb329f31807": {
          "model_module": "@jupyter-widgets/base",
          "model_name": "LayoutModel",
          "state": {
            "_view_name": "LayoutView",
            "grid_template_rows": null,
            "right": null,
            "justify_content": null,
            "_view_module": "@jupyter-widgets/base",
            "overflow": null,
            "_model_module_version": "1.2.0",
            "_view_count": null,
            "flex_flow": null,
            "width": null,
            "min_width": null,
            "border": null,
            "align_items": null,
            "bottom": null,
            "_model_module": "@jupyter-widgets/base",
            "top": null,
            "grid_column": null,
            "overflow_y": null,
            "overflow_x": null,
            "grid_auto_flow": null,
            "grid_area": null,
            "grid_template_columns": null,
            "flex": null,
            "_model_name": "LayoutModel",
            "justify_items": null,
            "grid_row": null,
            "max_height": null,
            "align_content": null,
            "visibility": null,
            "align_self": null,
            "height": null,
            "min_height": null,
            "padding": null,
            "grid_auto_rows": null,
            "grid_gap": null,
            "max_width": null,
            "order": null,
            "_view_module_version": "1.2.0",
            "grid_template_areas": null,
            "object_position": null,
            "object_fit": null,
            "grid_auto_columns": null,
            "margin": null,
            "display": null,
            "left": null
          }
        },
        "523c6c2fa9c849fe94cab9e769792c31": {
          "model_module": "@jupyter-widgets/controls",
          "model_name": "DescriptionStyleModel",
          "state": {
            "_view_name": "StyleView",
            "_model_name": "DescriptionStyleModel",
            "description_width": "",
            "_view_module": "@jupyter-widgets/base",
            "_model_module_version": "1.5.0",
            "_view_count": null,
            "_view_module_version": "1.2.0",
            "_model_module": "@jupyter-widgets/controls"
          }
        },
        "7ff5e38ccb004fc2b0e5c0f552274148": {
          "model_module": "@jupyter-widgets/base",
          "model_name": "LayoutModel",
          "state": {
            "_view_name": "LayoutView",
            "grid_template_rows": null,
            "right": null,
            "justify_content": null,
            "_view_module": "@jupyter-widgets/base",
            "overflow": null,
            "_model_module_version": "1.2.0",
            "_view_count": null,
            "flex_flow": null,
            "width": null,
            "min_width": null,
            "border": null,
            "align_items": null,
            "bottom": null,
            "_model_module": "@jupyter-widgets/base",
            "top": null,
            "grid_column": null,
            "overflow_y": null,
            "overflow_x": null,
            "grid_auto_flow": null,
            "grid_area": null,
            "grid_template_columns": null,
            "flex": null,
            "_model_name": "LayoutModel",
            "justify_items": null,
            "grid_row": null,
            "max_height": null,
            "align_content": null,
            "visibility": null,
            "align_self": null,
            "height": null,
            "min_height": null,
            "padding": null,
            "grid_auto_rows": null,
            "grid_gap": null,
            "max_width": null,
            "order": null,
            "_view_module_version": "1.2.0",
            "grid_template_areas": null,
            "object_position": null,
            "object_fit": null,
            "grid_auto_columns": null,
            "margin": null,
            "display": null,
            "left": null
          }
        },
        "58e50934d19943b5bed073082cb26c5a": {
          "model_module": "@jupyter-widgets/controls",
          "model_name": "HBoxModel",
          "state": {
            "_view_name": "HBoxView",
            "_dom_classes": [],
            "_model_name": "HBoxModel",
            "_view_module": "@jupyter-widgets/controls",
            "_model_module_version": "1.5.0",
            "_view_count": null,
            "_view_module_version": "1.5.0",
            "box_style": "",
            "layout": "IPY_MODEL_77a15f28332843c9b98c979278734fd7",
            "_model_module": "@jupyter-widgets/controls",
            "children": [
              "IPY_MODEL_547a33fded634eff9aa28df1277cb01a",
              "IPY_MODEL_2a21a36eb9674595ad75e57b1c180de0"
            ]
          }
        },
        "77a15f28332843c9b98c979278734fd7": {
          "model_module": "@jupyter-widgets/base",
          "model_name": "LayoutModel",
          "state": {
            "_view_name": "LayoutView",
            "grid_template_rows": null,
            "right": null,
            "justify_content": null,
            "_view_module": "@jupyter-widgets/base",
            "overflow": null,
            "_model_module_version": "1.2.0",
            "_view_count": null,
            "flex_flow": null,
            "width": null,
            "min_width": null,
            "border": null,
            "align_items": null,
            "bottom": null,
            "_model_module": "@jupyter-widgets/base",
            "top": null,
            "grid_column": null,
            "overflow_y": null,
            "overflow_x": null,
            "grid_auto_flow": null,
            "grid_area": null,
            "grid_template_columns": null,
            "flex": null,
            "_model_name": "LayoutModel",
            "justify_items": null,
            "grid_row": null,
            "max_height": null,
            "align_content": null,
            "visibility": null,
            "align_self": null,
            "height": null,
            "min_height": null,
            "padding": null,
            "grid_auto_rows": null,
            "grid_gap": null,
            "max_width": null,
            "order": null,
            "_view_module_version": "1.2.0",
            "grid_template_areas": null,
            "object_position": null,
            "object_fit": null,
            "grid_auto_columns": null,
            "margin": null,
            "display": null,
            "left": null
          }
        },
        "547a33fded634eff9aa28df1277cb01a": {
          "model_module": "@jupyter-widgets/controls",
          "model_name": "FloatProgressModel",
          "state": {
            "_view_name": "ProgressView",
            "style": "IPY_MODEL_8492e27067e547789c03c0f233134831",
            "_dom_classes": [],
            "description": "Extraction completed...: 100%",
            "_model_name": "FloatProgressModel",
            "bar_style": "success",
            "max": 1,
            "_view_module": "@jupyter-widgets/controls",
            "_model_module_version": "1.5.0",
            "value": 1,
            "_view_count": null,
            "_view_module_version": "1.5.0",
            "orientation": "horizontal",
            "min": 0,
            "description_tooltip": null,
            "_model_module": "@jupyter-widgets/controls",
            "layout": "IPY_MODEL_1b948312fead4ad0a827544d98cfe6ba"
          }
        },
        "2a21a36eb9674595ad75e57b1c180de0": {
          "model_module": "@jupyter-widgets/controls",
          "model_name": "HTMLModel",
          "state": {
            "_view_name": "HTMLView",
            "style": "IPY_MODEL_cb5d57b1c7db4e26a13a0836a203cf6b",
            "_dom_classes": [],
            "description": "",
            "_model_name": "HTMLModel",
            "placeholder": "​",
            "_view_module": "@jupyter-widgets/controls",
            "_model_module_version": "1.5.0",
            "value": " 1/1 [00:06&lt;00:00,  6.73s/ file]",
            "_view_count": null,
            "_view_module_version": "1.5.0",
            "description_tooltip": null,
            "_model_module": "@jupyter-widgets/controls",
            "layout": "IPY_MODEL_8f21aeb996044f4196362f027cbe70be"
          }
        },
        "8492e27067e547789c03c0f233134831": {
          "model_module": "@jupyter-widgets/controls",
          "model_name": "ProgressStyleModel",
          "state": {
            "_view_name": "StyleView",
            "_model_name": "ProgressStyleModel",
            "description_width": "initial",
            "_view_module": "@jupyter-widgets/base",
            "_model_module_version": "1.5.0",
            "_view_count": null,
            "_view_module_version": "1.2.0",
            "bar_color": null,
            "_model_module": "@jupyter-widgets/controls"
          }
        },
        "1b948312fead4ad0a827544d98cfe6ba": {
          "model_module": "@jupyter-widgets/base",
          "model_name": "LayoutModel",
          "state": {
            "_view_name": "LayoutView",
            "grid_template_rows": null,
            "right": null,
            "justify_content": null,
            "_view_module": "@jupyter-widgets/base",
            "overflow": null,
            "_model_module_version": "1.2.0",
            "_view_count": null,
            "flex_flow": null,
            "width": null,
            "min_width": null,
            "border": null,
            "align_items": null,
            "bottom": null,
            "_model_module": "@jupyter-widgets/base",
            "top": null,
            "grid_column": null,
            "overflow_y": null,
            "overflow_x": null,
            "grid_auto_flow": null,
            "grid_area": null,
            "grid_template_columns": null,
            "flex": null,
            "_model_name": "LayoutModel",
            "justify_items": null,
            "grid_row": null,
            "max_height": null,
            "align_content": null,
            "visibility": null,
            "align_self": null,
            "height": null,
            "min_height": null,
            "padding": null,
            "grid_auto_rows": null,
            "grid_gap": null,
            "max_width": null,
            "order": null,
            "_view_module_version": "1.2.0",
            "grid_template_areas": null,
            "object_position": null,
            "object_fit": null,
            "grid_auto_columns": null,
            "margin": null,
            "display": null,
            "left": null
          }
        },
        "cb5d57b1c7db4e26a13a0836a203cf6b": {
          "model_module": "@jupyter-widgets/controls",
          "model_name": "DescriptionStyleModel",
          "state": {
            "_view_name": "StyleView",
            "_model_name": "DescriptionStyleModel",
            "description_width": "",
            "_view_module": "@jupyter-widgets/base",
            "_model_module_version": "1.5.0",
            "_view_count": null,
            "_view_module_version": "1.2.0",
            "_model_module": "@jupyter-widgets/controls"
          }
        },
        "8f21aeb996044f4196362f027cbe70be": {
          "model_module": "@jupyter-widgets/base",
          "model_name": "LayoutModel",
          "state": {
            "_view_name": "LayoutView",
            "grid_template_rows": null,
            "right": null,
            "justify_content": null,
            "_view_module": "@jupyter-widgets/base",
            "overflow": null,
            "_model_module_version": "1.2.0",
            "_view_count": null,
            "flex_flow": null,
            "width": null,
            "min_width": null,
            "border": null,
            "align_items": null,
            "bottom": null,
            "_model_module": "@jupyter-widgets/base",
            "top": null,
            "grid_column": null,
            "overflow_y": null,
            "overflow_x": null,
            "grid_auto_flow": null,
            "grid_area": null,
            "grid_template_columns": null,
            "flex": null,
            "_model_name": "LayoutModel",
            "justify_items": null,
            "grid_row": null,
            "max_height": null,
            "align_content": null,
            "visibility": null,
            "align_self": null,
            "height": null,
            "min_height": null,
            "padding": null,
            "grid_auto_rows": null,
            "grid_gap": null,
            "max_width": null,
            "order": null,
            "_view_module_version": "1.2.0",
            "grid_template_areas": null,
            "object_position": null,
            "object_fit": null,
            "grid_auto_columns": null,
            "margin": null,
            "display": null,
            "left": null
          }
        },
        "ff431d47d7f247788a227d47f044f040": {
          "model_module": "@jupyter-widgets/controls",
          "model_name": "HBoxModel",
          "state": {
            "_view_name": "HBoxView",
            "_dom_classes": [],
            "_model_name": "HBoxModel",
            "_view_module": "@jupyter-widgets/controls",
            "_model_module_version": "1.5.0",
            "_view_count": null,
            "_view_module_version": "1.5.0",
            "box_style": "",
            "layout": "IPY_MODEL_02b5db7b2fa14851829441b11ea2ed39",
            "_model_module": "@jupyter-widgets/controls",
            "children": [
              "IPY_MODEL_a47381bbe0a04b759cd0646a25e57d46",
              "IPY_MODEL_18fd43f400964fdc8533dc9dba28a968"
            ]
          }
        },
        "02b5db7b2fa14851829441b11ea2ed39": {
          "model_module": "@jupyter-widgets/base",
          "model_name": "LayoutModel",
          "state": {
            "_view_name": "LayoutView",
            "grid_template_rows": null,
            "right": null,
            "justify_content": null,
            "_view_module": "@jupyter-widgets/base",
            "overflow": null,
            "_model_module_version": "1.2.0",
            "_view_count": null,
            "flex_flow": null,
            "width": null,
            "min_width": null,
            "border": null,
            "align_items": null,
            "bottom": null,
            "_model_module": "@jupyter-widgets/base",
            "top": null,
            "grid_column": null,
            "overflow_y": null,
            "overflow_x": null,
            "grid_auto_flow": null,
            "grid_area": null,
            "grid_template_columns": null,
            "flex": null,
            "_model_name": "LayoutModel",
            "justify_items": null,
            "grid_row": null,
            "max_height": null,
            "align_content": null,
            "visibility": null,
            "align_self": null,
            "height": null,
            "min_height": null,
            "padding": null,
            "grid_auto_rows": null,
            "grid_gap": null,
            "max_width": null,
            "order": null,
            "_view_module_version": "1.2.0",
            "grid_template_areas": null,
            "object_position": null,
            "object_fit": null,
            "grid_auto_columns": null,
            "margin": null,
            "display": null,
            "left": null
          }
        },
        "a47381bbe0a04b759cd0646a25e57d46": {
          "model_module": "@jupyter-widgets/controls",
          "model_name": "FloatProgressModel",
          "state": {
            "_view_name": "ProgressView",
            "style": "IPY_MODEL_be5de0fbca5947128a76ce4ef1c9cb28",
            "_dom_classes": [],
            "description": "100%",
            "_model_name": "FloatProgressModel",
            "bar_style": "",
            "max": 3,
            "_view_module": "@jupyter-widgets/controls",
            "_model_module_version": "1.5.0",
            "value": 3,
            "_view_count": null,
            "_view_module_version": "1.5.0",
            "orientation": "horizontal",
            "min": 0,
            "description_tooltip": null,
            "_model_module": "@jupyter-widgets/controls",
            "layout": "IPY_MODEL_ff8a2083096b4c3485b0bcb67cb55ec9"
          }
        },
        "18fd43f400964fdc8533dc9dba28a968": {
          "model_module": "@jupyter-widgets/controls",
          "model_name": "HTMLModel",
          "state": {
            "_view_name": "HTMLView",
            "style": "IPY_MODEL_59f6fa607821428990da7e17ecf738fb",
            "_dom_classes": [],
            "description": "",
            "_model_name": "HTMLModel",
            "placeholder": "​",
            "_view_module": "@jupyter-widgets/controls",
            "_model_module_version": "1.5.0",
            "value": " 3/3 [00:10&lt;00:00,  5.06s/ splits]",
            "_view_count": null,
            "_view_module_version": "1.5.0",
            "description_tooltip": null,
            "_model_module": "@jupyter-widgets/controls",
            "layout": "IPY_MODEL_de72a0f1a723490d8e05989abb5f02af"
          }
        },
        "be5de0fbca5947128a76ce4ef1c9cb28": {
          "model_module": "@jupyter-widgets/controls",
          "model_name": "ProgressStyleModel",
          "state": {
            "_view_name": "StyleView",
            "_model_name": "ProgressStyleModel",
            "description_width": "initial",
            "_view_module": "@jupyter-widgets/base",
            "_model_module_version": "1.5.0",
            "_view_count": null,
            "_view_module_version": "1.2.0",
            "bar_color": null,
            "_model_module": "@jupyter-widgets/controls"
          }
        },
        "ff8a2083096b4c3485b0bcb67cb55ec9": {
          "model_module": "@jupyter-widgets/base",
          "model_name": "LayoutModel",
          "state": {
            "_view_name": "LayoutView",
            "grid_template_rows": null,
            "right": null,
            "justify_content": null,
            "_view_module": "@jupyter-widgets/base",
            "overflow": null,
            "_model_module_version": "1.2.0",
            "_view_count": null,
            "flex_flow": null,
            "width": null,
            "min_width": null,
            "border": null,
            "align_items": null,
            "bottom": null,
            "_model_module": "@jupyter-widgets/base",
            "top": null,
            "grid_column": null,
            "overflow_y": null,
            "overflow_x": null,
            "grid_auto_flow": null,
            "grid_area": null,
            "grid_template_columns": null,
            "flex": null,
            "_model_name": "LayoutModel",
            "justify_items": null,
            "grid_row": null,
            "max_height": null,
            "align_content": null,
            "visibility": null,
            "align_self": null,
            "height": null,
            "min_height": null,
            "padding": null,
            "grid_auto_rows": null,
            "grid_gap": null,
            "max_width": null,
            "order": null,
            "_view_module_version": "1.2.0",
            "grid_template_areas": null,
            "object_position": null,
            "object_fit": null,
            "grid_auto_columns": null,
            "margin": null,
            "display": null,
            "left": null
          }
        },
        "59f6fa607821428990da7e17ecf738fb": {
          "model_module": "@jupyter-widgets/controls",
          "model_name": "DescriptionStyleModel",
          "state": {
            "_view_name": "StyleView",
            "_model_name": "DescriptionStyleModel",
            "description_width": "",
            "_view_module": "@jupyter-widgets/base",
            "_model_module_version": "1.5.0",
            "_view_count": null,
            "_view_module_version": "1.2.0",
            "_model_module": "@jupyter-widgets/controls"
          }
        },
        "de72a0f1a723490d8e05989abb5f02af": {
          "model_module": "@jupyter-widgets/base",
          "model_name": "LayoutModel",
          "state": {
            "_view_name": "LayoutView",
            "grid_template_rows": null,
            "right": null,
            "justify_content": null,
            "_view_module": "@jupyter-widgets/base",
            "overflow": null,
            "_model_module_version": "1.2.0",
            "_view_count": null,
            "flex_flow": null,
            "width": null,
            "min_width": null,
            "border": null,
            "align_items": null,
            "bottom": null,
            "_model_module": "@jupyter-widgets/base",
            "top": null,
            "grid_column": null,
            "overflow_y": null,
            "overflow_x": null,
            "grid_auto_flow": null,
            "grid_area": null,
            "grid_template_columns": null,
            "flex": null,
            "_model_name": "LayoutModel",
            "justify_items": null,
            "grid_row": null,
            "max_height": null,
            "align_content": null,
            "visibility": null,
            "align_self": null,
            "height": null,
            "min_height": null,
            "padding": null,
            "grid_auto_rows": null,
            "grid_gap": null,
            "max_width": null,
            "order": null,
            "_view_module_version": "1.2.0",
            "grid_template_areas": null,
            "object_position": null,
            "object_fit": null,
            "grid_auto_columns": null,
            "margin": null,
            "display": null,
            "left": null
          }
        },
        "67fb0dc9932b4c38b709aad014223d0d": {
          "model_module": "@jupyter-widgets/controls",
          "model_name": "HBoxModel",
          "state": {
            "_view_name": "HBoxView",
            "_dom_classes": [],
            "_model_name": "HBoxModel",
            "_view_module": "@jupyter-widgets/controls",
            "_model_module_version": "1.5.0",
            "_view_count": null,
            "_view_module_version": "1.5.0",
            "box_style": "",
            "layout": "IPY_MODEL_f7cb1fcea7e842e995385c13c9a52925",
            "_model_module": "@jupyter-widgets/controls",
            "children": [
              "IPY_MODEL_27d49951e64144e29ab7424f72b887c3",
              "IPY_MODEL_5f8b69dfe2a6446988d740f689e5d55b"
            ]
          }
        },
        "f7cb1fcea7e842e995385c13c9a52925": {
          "model_module": "@jupyter-widgets/base",
          "model_name": "LayoutModel",
          "state": {
            "_view_name": "LayoutView",
            "grid_template_rows": null,
            "right": null,
            "justify_content": null,
            "_view_module": "@jupyter-widgets/base",
            "overflow": null,
            "_model_module_version": "1.2.0",
            "_view_count": null,
            "flex_flow": null,
            "width": null,
            "min_width": null,
            "border": null,
            "align_items": null,
            "bottom": null,
            "_model_module": "@jupyter-widgets/base",
            "top": null,
            "grid_column": null,
            "overflow_y": null,
            "overflow_x": null,
            "grid_auto_flow": null,
            "grid_area": null,
            "grid_template_columns": null,
            "flex": null,
            "_model_name": "LayoutModel",
            "justify_items": null,
            "grid_row": null,
            "max_height": null,
            "align_content": null,
            "visibility": null,
            "align_self": null,
            "height": null,
            "min_height": null,
            "padding": null,
            "grid_auto_rows": null,
            "grid_gap": null,
            "max_width": null,
            "order": null,
            "_view_module_version": "1.2.0",
            "grid_template_areas": null,
            "object_position": null,
            "object_fit": null,
            "grid_auto_columns": null,
            "margin": null,
            "display": null,
            "left": null
          }
        },
        "27d49951e64144e29ab7424f72b887c3": {
          "model_module": "@jupyter-widgets/controls",
          "model_name": "FloatProgressModel",
          "state": {
            "_view_name": "ProgressView",
            "style": "IPY_MODEL_8b126213fda3477a88012064a78db418",
            "_dom_classes": [],
            "description": "100%",
            "_model_name": "FloatProgressModel",
            "bar_style": "",
            "max": 51785,
            "_view_module": "@jupyter-widgets/controls",
            "_model_module_version": "1.5.0",
            "value": 51785,
            "_view_count": null,
            "_view_module_version": "1.5.0",
            "orientation": "horizontal",
            "min": 0,
            "description_tooltip": null,
            "_model_module": "@jupyter-widgets/controls",
            "layout": "IPY_MODEL_d6002bdd0b114ab1acef49b140124f02"
          }
        },
        "5f8b69dfe2a6446988d740f689e5d55b": {
          "model_module": "@jupyter-widgets/controls",
          "model_name": "HTMLModel",
          "state": {
            "_view_name": "HTMLView",
            "style": "IPY_MODEL_2bbf7a6148a449ffbf1cd5a7641880ee",
            "_dom_classes": [],
            "description": "",
            "_model_name": "HTMLModel",
            "placeholder": "​",
            "_view_module": "@jupyter-widgets/controls",
            "_model_module_version": "1.5.0",
            "value": " 51785/51785 [00:09&lt;00:00, 5514.54 examples/s]",
            "_view_count": null,
            "_view_module_version": "1.5.0",
            "description_tooltip": null,
            "_model_module": "@jupyter-widgets/controls",
            "layout": "IPY_MODEL_8a480cba7545455ea5c305037692b358"
          }
        },
        "8b126213fda3477a88012064a78db418": {
          "model_module": "@jupyter-widgets/controls",
          "model_name": "ProgressStyleModel",
          "state": {
            "_view_name": "StyleView",
            "_model_name": "ProgressStyleModel",
            "description_width": "initial",
            "_view_module": "@jupyter-widgets/base",
            "_model_module_version": "1.5.0",
            "_view_count": null,
            "_view_module_version": "1.2.0",
            "bar_color": null,
            "_model_module": "@jupyter-widgets/controls"
          }
        },
        "d6002bdd0b114ab1acef49b140124f02": {
          "model_module": "@jupyter-widgets/base",
          "model_name": "LayoutModel",
          "state": {
            "_view_name": "LayoutView",
            "grid_template_rows": null,
            "right": null,
            "justify_content": null,
            "_view_module": "@jupyter-widgets/base",
            "overflow": null,
            "_model_module_version": "1.2.0",
            "_view_count": null,
            "flex_flow": null,
            "width": null,
            "min_width": null,
            "border": null,
            "align_items": null,
            "bottom": null,
            "_model_module": "@jupyter-widgets/base",
            "top": null,
            "grid_column": null,
            "overflow_y": null,
            "overflow_x": null,
            "grid_auto_flow": null,
            "grid_area": null,
            "grid_template_columns": null,
            "flex": null,
            "_model_name": "LayoutModel",
            "justify_items": null,
            "grid_row": null,
            "max_height": null,
            "align_content": null,
            "visibility": null,
            "align_self": null,
            "height": null,
            "min_height": null,
            "padding": null,
            "grid_auto_rows": null,
            "grid_gap": null,
            "max_width": null,
            "order": null,
            "_view_module_version": "1.2.0",
            "grid_template_areas": null,
            "object_position": null,
            "object_fit": null,
            "grid_auto_columns": null,
            "margin": null,
            "display": null,
            "left": null
          }
        },
        "2bbf7a6148a449ffbf1cd5a7641880ee": {
          "model_module": "@jupyter-widgets/controls",
          "model_name": "DescriptionStyleModel",
          "state": {
            "_view_name": "StyleView",
            "_model_name": "DescriptionStyleModel",
            "description_width": "",
            "_view_module": "@jupyter-widgets/base",
            "_model_module_version": "1.5.0",
            "_view_count": null,
            "_view_module_version": "1.2.0",
            "_model_module": "@jupyter-widgets/controls"
          }
        },
        "8a480cba7545455ea5c305037692b358": {
          "model_module": "@jupyter-widgets/base",
          "model_name": "LayoutModel",
          "state": {
            "_view_name": "LayoutView",
            "grid_template_rows": null,
            "right": null,
            "justify_content": null,
            "_view_module": "@jupyter-widgets/base",
            "overflow": null,
            "_model_module_version": "1.2.0",
            "_view_count": null,
            "flex_flow": null,
            "width": null,
            "min_width": null,
            "border": null,
            "align_items": null,
            "bottom": null,
            "_model_module": "@jupyter-widgets/base",
            "top": null,
            "grid_column": null,
            "overflow_y": null,
            "overflow_x": null,
            "grid_auto_flow": null,
            "grid_area": null,
            "grid_template_columns": null,
            "flex": null,
            "_model_name": "LayoutModel",
            "justify_items": null,
            "grid_row": null,
            "max_height": null,
            "align_content": null,
            "visibility": null,
            "align_self": null,
            "height": null,
            "min_height": null,
            "padding": null,
            "grid_auto_rows": null,
            "grid_gap": null,
            "max_width": null,
            "order": null,
            "_view_module_version": "1.2.0",
            "grid_template_areas": null,
            "object_position": null,
            "object_fit": null,
            "grid_auto_columns": null,
            "margin": null,
            "display": null,
            "left": null
          }
        },
        "70cb19505b1c4680a04af60a40280861": {
          "model_module": "@jupyter-widgets/controls",
          "model_name": "HBoxModel",
          "state": {
            "_view_name": "HBoxView",
            "_dom_classes": [],
            "_model_name": "HBoxModel",
            "_view_module": "@jupyter-widgets/controls",
            "_model_module_version": "1.5.0",
            "_view_count": null,
            "_view_module_version": "1.5.0",
            "box_style": "",
            "layout": "IPY_MODEL_02cab5370dad414bab99ce4e4dbdbf9a",
            "_model_module": "@jupyter-widgets/controls",
            "children": [
              "IPY_MODEL_6f6765d711c74fc69cecfb8bbebfec28",
              "IPY_MODEL_ef7ab6c1ee7c4e19acfe430ab0895674"
            ]
          }
        },
        "02cab5370dad414bab99ce4e4dbdbf9a": {
          "model_module": "@jupyter-widgets/base",
          "model_name": "LayoutModel",
          "state": {
            "_view_name": "LayoutView",
            "grid_template_rows": null,
            "right": null,
            "justify_content": null,
            "_view_module": "@jupyter-widgets/base",
            "overflow": null,
            "_model_module_version": "1.2.0",
            "_view_count": null,
            "flex_flow": null,
            "width": null,
            "min_width": null,
            "border": null,
            "align_items": null,
            "bottom": null,
            "_model_module": "@jupyter-widgets/base",
            "top": null,
            "grid_column": null,
            "overflow_y": null,
            "overflow_x": null,
            "grid_auto_flow": null,
            "grid_area": null,
            "grid_template_columns": null,
            "flex": null,
            "_model_name": "LayoutModel",
            "justify_items": null,
            "grid_row": null,
            "max_height": null,
            "align_content": null,
            "visibility": null,
            "align_self": null,
            "height": null,
            "min_height": null,
            "padding": null,
            "grid_auto_rows": null,
            "grid_gap": null,
            "max_width": null,
            "order": null,
            "_view_module_version": "1.2.0",
            "grid_template_areas": null,
            "object_position": null,
            "object_fit": null,
            "grid_auto_columns": null,
            "margin": null,
            "display": null,
            "left": null
          }
        },
        "6f6765d711c74fc69cecfb8bbebfec28": {
          "model_module": "@jupyter-widgets/controls",
          "model_name": "FloatProgressModel",
          "state": {
            "_view_name": "ProgressView",
            "style": "IPY_MODEL_d636b410cd3540dcbbc611b013ec910b",
            "_dom_classes": [],
            "description": " 84%",
            "_model_name": "FloatProgressModel",
            "bar_style": "danger",
            "max": 51785,
            "_view_module": "@jupyter-widgets/controls",
            "_model_module_version": "1.5.0",
            "value": 43687,
            "_view_count": null,
            "_view_module_version": "1.5.0",
            "orientation": "horizontal",
            "min": 0,
            "description_tooltip": null,
            "_model_module": "@jupyter-widgets/controls",
            "layout": "IPY_MODEL_dfe91080fb474fb3833f1a5ef9a13620"
          }
        },
        "ef7ab6c1ee7c4e19acfe430ab0895674": {
          "model_module": "@jupyter-widgets/controls",
          "model_name": "HTMLModel",
          "state": {
            "_view_name": "HTMLView",
            "style": "IPY_MODEL_304874b06ee944d6a52810d3cc783bed",
            "_dom_classes": [],
            "description": "",
            "_model_name": "HTMLModel",
            "placeholder": "​",
            "_view_module": "@jupyter-widgets/controls",
            "_model_module_version": "1.5.0",
            "value": " 43687/51785 [00:00&lt;10:11, 13.25 examples/s]",
            "_view_count": null,
            "_view_module_version": "1.5.0",
            "description_tooltip": null,
            "_model_module": "@jupyter-widgets/controls",
            "layout": "IPY_MODEL_edcca1955ebe44e7b423b7cb3d5f3c13"
          }
        },
        "d636b410cd3540dcbbc611b013ec910b": {
          "model_module": "@jupyter-widgets/controls",
          "model_name": "ProgressStyleModel",
          "state": {
            "_view_name": "StyleView",
            "_model_name": "ProgressStyleModel",
            "description_width": "initial",
            "_view_module": "@jupyter-widgets/base",
            "_model_module_version": "1.5.0",
            "_view_count": null,
            "_view_module_version": "1.2.0",
            "bar_color": null,
            "_model_module": "@jupyter-widgets/controls"
          }
        },
        "dfe91080fb474fb3833f1a5ef9a13620": {
          "model_module": "@jupyter-widgets/base",
          "model_name": "LayoutModel",
          "state": {
            "_view_name": "LayoutView",
            "grid_template_rows": null,
            "right": null,
            "justify_content": null,
            "_view_module": "@jupyter-widgets/base",
            "overflow": null,
            "_model_module_version": "1.2.0",
            "_view_count": null,
            "flex_flow": null,
            "width": null,
            "min_width": null,
            "border": null,
            "align_items": null,
            "bottom": null,
            "_model_module": "@jupyter-widgets/base",
            "top": null,
            "grid_column": null,
            "overflow_y": null,
            "overflow_x": null,
            "grid_auto_flow": null,
            "grid_area": null,
            "grid_template_columns": null,
            "flex": null,
            "_model_name": "LayoutModel",
            "justify_items": null,
            "grid_row": null,
            "max_height": null,
            "align_content": null,
            "visibility": null,
            "align_self": null,
            "height": null,
            "min_height": null,
            "padding": null,
            "grid_auto_rows": null,
            "grid_gap": null,
            "max_width": null,
            "order": null,
            "_view_module_version": "1.2.0",
            "grid_template_areas": null,
            "object_position": null,
            "object_fit": null,
            "grid_auto_columns": null,
            "margin": null,
            "display": null,
            "left": null
          }
        },
        "304874b06ee944d6a52810d3cc783bed": {
          "model_module": "@jupyter-widgets/controls",
          "model_name": "DescriptionStyleModel",
          "state": {
            "_view_name": "StyleView",
            "_model_name": "DescriptionStyleModel",
            "description_width": "",
            "_view_module": "@jupyter-widgets/base",
            "_model_module_version": "1.5.0",
            "_view_count": null,
            "_view_module_version": "1.2.0",
            "_model_module": "@jupyter-widgets/controls"
          }
        },
        "edcca1955ebe44e7b423b7cb3d5f3c13": {
          "model_module": "@jupyter-widgets/base",
          "model_name": "LayoutModel",
          "state": {
            "_view_name": "LayoutView",
            "grid_template_rows": null,
            "right": null,
            "justify_content": null,
            "_view_module": "@jupyter-widgets/base",
            "overflow": null,
            "_model_module_version": "1.2.0",
            "_view_count": null,
            "flex_flow": null,
            "width": null,
            "min_width": null,
            "border": null,
            "align_items": null,
            "bottom": null,
            "_model_module": "@jupyter-widgets/base",
            "top": null,
            "grid_column": null,
            "overflow_y": null,
            "overflow_x": null,
            "grid_auto_flow": null,
            "grid_area": null,
            "grid_template_columns": null,
            "flex": null,
            "_model_name": "LayoutModel",
            "justify_items": null,
            "grid_row": null,
            "max_height": null,
            "align_content": null,
            "visibility": null,
            "align_self": null,
            "height": null,
            "min_height": null,
            "padding": null,
            "grid_auto_rows": null,
            "grid_gap": null,
            "max_width": null,
            "order": null,
            "_view_module_version": "1.2.0",
            "grid_template_areas": null,
            "object_position": null,
            "object_fit": null,
            "grid_auto_columns": null,
            "margin": null,
            "display": null,
            "left": null
          }
        },
        "aac5fcb5e51845adbeabf1a97609a85c": {
          "model_module": "@jupyter-widgets/controls",
          "model_name": "HBoxModel",
          "state": {
            "_view_name": "HBoxView",
            "_dom_classes": [],
            "_model_name": "HBoxModel",
            "_view_module": "@jupyter-widgets/controls",
            "_model_module_version": "1.5.0",
            "_view_count": null,
            "_view_module_version": "1.5.0",
            "box_style": "",
            "layout": "IPY_MODEL_c865b8a9292f48fdaf34a7c55f73c8b1",
            "_model_module": "@jupyter-widgets/controls",
            "children": [
              "IPY_MODEL_a15d366ca5d449c48d04c3cd0453b803",
              "IPY_MODEL_be41d62bb6884c6c83f1c13e42c17a2c"
            ]
          }
        },
        "c865b8a9292f48fdaf34a7c55f73c8b1": {
          "model_module": "@jupyter-widgets/base",
          "model_name": "LayoutModel",
          "state": {
            "_view_name": "LayoutView",
            "grid_template_rows": null,
            "right": null,
            "justify_content": null,
            "_view_module": "@jupyter-widgets/base",
            "overflow": null,
            "_model_module_version": "1.2.0",
            "_view_count": null,
            "flex_flow": null,
            "width": null,
            "min_width": null,
            "border": null,
            "align_items": null,
            "bottom": null,
            "_model_module": "@jupyter-widgets/base",
            "top": null,
            "grid_column": null,
            "overflow_y": null,
            "overflow_x": null,
            "grid_auto_flow": null,
            "grid_area": null,
            "grid_template_columns": null,
            "flex": null,
            "_model_name": "LayoutModel",
            "justify_items": null,
            "grid_row": null,
            "max_height": null,
            "align_content": null,
            "visibility": null,
            "align_self": null,
            "height": null,
            "min_height": null,
            "padding": null,
            "grid_auto_rows": null,
            "grid_gap": null,
            "max_width": null,
            "order": null,
            "_view_module_version": "1.2.0",
            "grid_template_areas": null,
            "object_position": null,
            "object_fit": null,
            "grid_auto_columns": null,
            "margin": null,
            "display": null,
            "left": null
          }
        },
        "a15d366ca5d449c48d04c3cd0453b803": {
          "model_module": "@jupyter-widgets/controls",
          "model_name": "FloatProgressModel",
          "state": {
            "_view_name": "ProgressView",
            "style": "IPY_MODEL_71f7f3ebe10d4fdfa544468024f49d65",
            "_dom_classes": [],
            "description": "100%",
            "_model_name": "FloatProgressModel",
            "bar_style": "",
            "max": 1193,
            "_view_module": "@jupyter-widgets/controls",
            "_model_module_version": "1.5.0",
            "value": 1193,
            "_view_count": null,
            "_view_module_version": "1.5.0",
            "orientation": "horizontal",
            "min": 0,
            "description_tooltip": null,
            "_model_module": "@jupyter-widgets/controls",
            "layout": "IPY_MODEL_398fb46758e34fa8b221bccf5e99afc4"
          }
        },
        "be41d62bb6884c6c83f1c13e42c17a2c": {
          "model_module": "@jupyter-widgets/controls",
          "model_name": "HTMLModel",
          "state": {
            "_view_name": "HTMLView",
            "style": "IPY_MODEL_f178a27fd9ee4aa5a6ec4c6ab6d00a9e",
            "_dom_classes": [],
            "description": "",
            "_model_name": "HTMLModel",
            "placeholder": "​",
            "_view_module": "@jupyter-widgets/controls",
            "_model_module_version": "1.5.0",
            "value": " 1193/1193 [00:00&lt;00:00, 2577.43 examples/s]",
            "_view_count": null,
            "_view_module_version": "1.5.0",
            "description_tooltip": null,
            "_model_module": "@jupyter-widgets/controls",
            "layout": "IPY_MODEL_f5bdb36ba28f4e0e91dc097aa82c274c"
          }
        },
        "71f7f3ebe10d4fdfa544468024f49d65": {
          "model_module": "@jupyter-widgets/controls",
          "model_name": "ProgressStyleModel",
          "state": {
            "_view_name": "StyleView",
            "_model_name": "ProgressStyleModel",
            "description_width": "initial",
            "_view_module": "@jupyter-widgets/base",
            "_model_module_version": "1.5.0",
            "_view_count": null,
            "_view_module_version": "1.2.0",
            "bar_color": null,
            "_model_module": "@jupyter-widgets/controls"
          }
        },
        "398fb46758e34fa8b221bccf5e99afc4": {
          "model_module": "@jupyter-widgets/base",
          "model_name": "LayoutModel",
          "state": {
            "_view_name": "LayoutView",
            "grid_template_rows": null,
            "right": null,
            "justify_content": null,
            "_view_module": "@jupyter-widgets/base",
            "overflow": null,
            "_model_module_version": "1.2.0",
            "_view_count": null,
            "flex_flow": null,
            "width": null,
            "min_width": null,
            "border": null,
            "align_items": null,
            "bottom": null,
            "_model_module": "@jupyter-widgets/base",
            "top": null,
            "grid_column": null,
            "overflow_y": null,
            "overflow_x": null,
            "grid_auto_flow": null,
            "grid_area": null,
            "grid_template_columns": null,
            "flex": null,
            "_model_name": "LayoutModel",
            "justify_items": null,
            "grid_row": null,
            "max_height": null,
            "align_content": null,
            "visibility": null,
            "align_self": null,
            "height": null,
            "min_height": null,
            "padding": null,
            "grid_auto_rows": null,
            "grid_gap": null,
            "max_width": null,
            "order": null,
            "_view_module_version": "1.2.0",
            "grid_template_areas": null,
            "object_position": null,
            "object_fit": null,
            "grid_auto_columns": null,
            "margin": null,
            "display": null,
            "left": null
          }
        },
        "f178a27fd9ee4aa5a6ec4c6ab6d00a9e": {
          "model_module": "@jupyter-widgets/controls",
          "model_name": "DescriptionStyleModel",
          "state": {
            "_view_name": "StyleView",
            "_model_name": "DescriptionStyleModel",
            "description_width": "",
            "_view_module": "@jupyter-widgets/base",
            "_model_module_version": "1.5.0",
            "_view_count": null,
            "_view_module_version": "1.2.0",
            "_model_module": "@jupyter-widgets/controls"
          }
        },
        "f5bdb36ba28f4e0e91dc097aa82c274c": {
          "model_module": "@jupyter-widgets/base",
          "model_name": "LayoutModel",
          "state": {
            "_view_name": "LayoutView",
            "grid_template_rows": null,
            "right": null,
            "justify_content": null,
            "_view_module": "@jupyter-widgets/base",
            "overflow": null,
            "_model_module_version": "1.2.0",
            "_view_count": null,
            "flex_flow": null,
            "width": null,
            "min_width": null,
            "border": null,
            "align_items": null,
            "bottom": null,
            "_model_module": "@jupyter-widgets/base",
            "top": null,
            "grid_column": null,
            "overflow_y": null,
            "overflow_x": null,
            "grid_auto_flow": null,
            "grid_area": null,
            "grid_template_columns": null,
            "flex": null,
            "_model_name": "LayoutModel",
            "justify_items": null,
            "grid_row": null,
            "max_height": null,
            "align_content": null,
            "visibility": null,
            "align_self": null,
            "height": null,
            "min_height": null,
            "padding": null,
            "grid_auto_rows": null,
            "grid_gap": null,
            "max_width": null,
            "order": null,
            "_view_module_version": "1.2.0",
            "grid_template_areas": null,
            "object_position": null,
            "object_fit": null,
            "grid_auto_columns": null,
            "margin": null,
            "display": null,
            "left": null
          }
        },
        "585d23237017498bb025030d7d40f586": {
          "model_module": "@jupyter-widgets/controls",
          "model_name": "HBoxModel",
          "state": {
            "_view_name": "HBoxView",
            "_dom_classes": [],
            "_model_name": "HBoxModel",
            "_view_module": "@jupyter-widgets/controls",
            "_model_module_version": "1.5.0",
            "_view_count": null,
            "_view_module_version": "1.5.0",
            "box_style": "",
            "layout": "IPY_MODEL_c774df6b95704b7f92008c237ead52dd",
            "_model_module": "@jupyter-widgets/controls",
            "children": [
              "IPY_MODEL_b0aaef0cde1b4a10abfaad7b6aae1a4b",
              "IPY_MODEL_ffa15ee6ea0d41ca85d21aa4f35fd2c2"
            ]
          }
        },
        "c774df6b95704b7f92008c237ead52dd": {
          "model_module": "@jupyter-widgets/base",
          "model_name": "LayoutModel",
          "state": {
            "_view_name": "LayoutView",
            "grid_template_rows": null,
            "right": null,
            "justify_content": null,
            "_view_module": "@jupyter-widgets/base",
            "overflow": null,
            "_model_module_version": "1.2.0",
            "_view_count": null,
            "flex_flow": null,
            "width": null,
            "min_width": null,
            "border": null,
            "align_items": null,
            "bottom": null,
            "_model_module": "@jupyter-widgets/base",
            "top": null,
            "grid_column": null,
            "overflow_y": null,
            "overflow_x": null,
            "grid_auto_flow": null,
            "grid_area": null,
            "grid_template_columns": null,
            "flex": null,
            "_model_name": "LayoutModel",
            "justify_items": null,
            "grid_row": null,
            "max_height": null,
            "align_content": null,
            "visibility": null,
            "align_self": null,
            "height": null,
            "min_height": null,
            "padding": null,
            "grid_auto_rows": null,
            "grid_gap": null,
            "max_width": null,
            "order": null,
            "_view_module_version": "1.2.0",
            "grid_template_areas": null,
            "object_position": null,
            "object_fit": null,
            "grid_auto_columns": null,
            "margin": null,
            "display": null,
            "left": null
          }
        },
        "b0aaef0cde1b4a10abfaad7b6aae1a4b": {
          "model_module": "@jupyter-widgets/controls",
          "model_name": "FloatProgressModel",
          "state": {
            "_view_name": "ProgressView",
            "style": "IPY_MODEL_1bf01334accd4cd6adba0be7511f7fcf",
            "_dom_classes": [],
            "description": "  0%",
            "_model_name": "FloatProgressModel",
            "bar_style": "danger",
            "max": 1193,
            "_view_module": "@jupyter-widgets/controls",
            "_model_module_version": "1.5.0",
            "value": 0,
            "_view_count": null,
            "_view_module_version": "1.5.0",
            "orientation": "horizontal",
            "min": 0,
            "description_tooltip": null,
            "_model_module": "@jupyter-widgets/controls",
            "layout": "IPY_MODEL_e29c1235f17d42b1b64e2e78ca9e7e08"
          }
        },
        "ffa15ee6ea0d41ca85d21aa4f35fd2c2": {
          "model_module": "@jupyter-widgets/controls",
          "model_name": "HTMLModel",
          "state": {
            "_view_name": "HTMLView",
            "style": "IPY_MODEL_814dd719eef646d38d8d18d800753828",
            "_dom_classes": [],
            "description": "",
            "_model_name": "HTMLModel",
            "placeholder": "​",
            "_view_module": "@jupyter-widgets/controls",
            "_model_module_version": "1.5.0",
            "value": " 0/1193 [00:00&lt;?, ? examples/s]",
            "_view_count": null,
            "_view_module_version": "1.5.0",
            "description_tooltip": null,
            "_model_module": "@jupyter-widgets/controls",
            "layout": "IPY_MODEL_a2d219c899504cf5b5e6d6db94a4ebe0"
          }
        },
        "1bf01334accd4cd6adba0be7511f7fcf": {
          "model_module": "@jupyter-widgets/controls",
          "model_name": "ProgressStyleModel",
          "state": {
            "_view_name": "StyleView",
            "_model_name": "ProgressStyleModel",
            "description_width": "initial",
            "_view_module": "@jupyter-widgets/base",
            "_model_module_version": "1.5.0",
            "_view_count": null,
            "_view_module_version": "1.2.0",
            "bar_color": null,
            "_model_module": "@jupyter-widgets/controls"
          }
        },
        "e29c1235f17d42b1b64e2e78ca9e7e08": {
          "model_module": "@jupyter-widgets/base",
          "model_name": "LayoutModel",
          "state": {
            "_view_name": "LayoutView",
            "grid_template_rows": null,
            "right": null,
            "justify_content": null,
            "_view_module": "@jupyter-widgets/base",
            "overflow": null,
            "_model_module_version": "1.2.0",
            "_view_count": null,
            "flex_flow": null,
            "width": null,
            "min_width": null,
            "border": null,
            "align_items": null,
            "bottom": null,
            "_model_module": "@jupyter-widgets/base",
            "top": null,
            "grid_column": null,
            "overflow_y": null,
            "overflow_x": null,
            "grid_auto_flow": null,
            "grid_area": null,
            "grid_template_columns": null,
            "flex": null,
            "_model_name": "LayoutModel",
            "justify_items": null,
            "grid_row": null,
            "max_height": null,
            "align_content": null,
            "visibility": null,
            "align_self": null,
            "height": null,
            "min_height": null,
            "padding": null,
            "grid_auto_rows": null,
            "grid_gap": null,
            "max_width": null,
            "order": null,
            "_view_module_version": "1.2.0",
            "grid_template_areas": null,
            "object_position": null,
            "object_fit": null,
            "grid_auto_columns": null,
            "margin": null,
            "display": null,
            "left": null
          }
        },
        "814dd719eef646d38d8d18d800753828": {
          "model_module": "@jupyter-widgets/controls",
          "model_name": "DescriptionStyleModel",
          "state": {
            "_view_name": "StyleView",
            "_model_name": "DescriptionStyleModel",
            "description_width": "",
            "_view_module": "@jupyter-widgets/base",
            "_model_module_version": "1.5.0",
            "_view_count": null,
            "_view_module_version": "1.2.0",
            "_model_module": "@jupyter-widgets/controls"
          }
        },
        "a2d219c899504cf5b5e6d6db94a4ebe0": {
          "model_module": "@jupyter-widgets/base",
          "model_name": "LayoutModel",
          "state": {
            "_view_name": "LayoutView",
            "grid_template_rows": null,
            "right": null,
            "justify_content": null,
            "_view_module": "@jupyter-widgets/base",
            "overflow": null,
            "_model_module_version": "1.2.0",
            "_view_count": null,
            "flex_flow": null,
            "width": null,
            "min_width": null,
            "border": null,
            "align_items": null,
            "bottom": null,
            "_model_module": "@jupyter-widgets/base",
            "top": null,
            "grid_column": null,
            "overflow_y": null,
            "overflow_x": null,
            "grid_auto_flow": null,
            "grid_area": null,
            "grid_template_columns": null,
            "flex": null,
            "_model_name": "LayoutModel",
            "justify_items": null,
            "grid_row": null,
            "max_height": null,
            "align_content": null,
            "visibility": null,
            "align_self": null,
            "height": null,
            "min_height": null,
            "padding": null,
            "grid_auto_rows": null,
            "grid_gap": null,
            "max_width": null,
            "order": null,
            "_view_module_version": "1.2.0",
            "grid_template_areas": null,
            "object_position": null,
            "object_fit": null,
            "grid_auto_columns": null,
            "margin": null,
            "display": null,
            "left": null
          }
        },
        "fa88ed0a96c44424a8127cbc5d37f176": {
          "model_module": "@jupyter-widgets/controls",
          "model_name": "HBoxModel",
          "state": {
            "_view_name": "HBoxView",
            "_dom_classes": [],
            "_model_name": "HBoxModel",
            "_view_module": "@jupyter-widgets/controls",
            "_model_module_version": "1.5.0",
            "_view_count": null,
            "_view_module_version": "1.5.0",
            "box_style": "",
            "layout": "IPY_MODEL_579d2076a6604e19bb5fb5957bc4d793",
            "_model_module": "@jupyter-widgets/controls",
            "children": [
              "IPY_MODEL_59e1cddb4ef14ddf98193d6ca2347651",
              "IPY_MODEL_448f5efbdbef41acb8d8152d8b59beaf"
            ]
          }
        },
        "579d2076a6604e19bb5fb5957bc4d793": {
          "model_module": "@jupyter-widgets/base",
          "model_name": "LayoutModel",
          "state": {
            "_view_name": "LayoutView",
            "grid_template_rows": null,
            "right": null,
            "justify_content": null,
            "_view_module": "@jupyter-widgets/base",
            "overflow": null,
            "_model_module_version": "1.2.0",
            "_view_count": null,
            "flex_flow": null,
            "width": null,
            "min_width": null,
            "border": null,
            "align_items": null,
            "bottom": null,
            "_model_module": "@jupyter-widgets/base",
            "top": null,
            "grid_column": null,
            "overflow_y": null,
            "overflow_x": null,
            "grid_auto_flow": null,
            "grid_area": null,
            "grid_template_columns": null,
            "flex": null,
            "_model_name": "LayoutModel",
            "justify_items": null,
            "grid_row": null,
            "max_height": null,
            "align_content": null,
            "visibility": null,
            "align_self": null,
            "height": null,
            "min_height": null,
            "padding": null,
            "grid_auto_rows": null,
            "grid_gap": null,
            "max_width": null,
            "order": null,
            "_view_module_version": "1.2.0",
            "grid_template_areas": null,
            "object_position": null,
            "object_fit": null,
            "grid_auto_columns": null,
            "margin": null,
            "display": null,
            "left": null
          }
        },
        "59e1cddb4ef14ddf98193d6ca2347651": {
          "model_module": "@jupyter-widgets/controls",
          "model_name": "FloatProgressModel",
          "state": {
            "_view_name": "ProgressView",
            "style": "IPY_MODEL_442d12b595aa4dcf92d9a5cafa1e8056",
            "_dom_classes": [],
            "description": "100%",
            "_model_name": "FloatProgressModel",
            "bar_style": "",
            "max": 1803,
            "_view_module": "@jupyter-widgets/controls",
            "_model_module_version": "1.5.0",
            "value": 1803,
            "_view_count": null,
            "_view_module_version": "1.5.0",
            "orientation": "horizontal",
            "min": 0,
            "description_tooltip": null,
            "_model_module": "@jupyter-widgets/controls",
            "layout": "IPY_MODEL_bdf3bb32e5614d11a150dc527ee3df04"
          }
        },
        "448f5efbdbef41acb8d8152d8b59beaf": {
          "model_module": "@jupyter-widgets/controls",
          "model_name": "HTMLModel",
          "state": {
            "_view_name": "HTMLView",
            "style": "IPY_MODEL_de093be2899d4dcf8e94bd2f3c32666a",
            "_dom_classes": [],
            "description": "",
            "_model_name": "HTMLModel",
            "placeholder": "​",
            "_view_module": "@jupyter-widgets/controls",
            "_model_module_version": "1.5.0",
            "value": " 1803/1803 [00:00&lt;00:00, 3133.38 examples/s]",
            "_view_count": null,
            "_view_module_version": "1.5.0",
            "description_tooltip": null,
            "_model_module": "@jupyter-widgets/controls",
            "layout": "IPY_MODEL_eaab8d1dd9cf4a96a917ea63cf7be543"
          }
        },
        "442d12b595aa4dcf92d9a5cafa1e8056": {
          "model_module": "@jupyter-widgets/controls",
          "model_name": "ProgressStyleModel",
          "state": {
            "_view_name": "StyleView",
            "_model_name": "ProgressStyleModel",
            "description_width": "initial",
            "_view_module": "@jupyter-widgets/base",
            "_model_module_version": "1.5.0",
            "_view_count": null,
            "_view_module_version": "1.2.0",
            "bar_color": null,
            "_model_module": "@jupyter-widgets/controls"
          }
        },
        "bdf3bb32e5614d11a150dc527ee3df04": {
          "model_module": "@jupyter-widgets/base",
          "model_name": "LayoutModel",
          "state": {
            "_view_name": "LayoutView",
            "grid_template_rows": null,
            "right": null,
            "justify_content": null,
            "_view_module": "@jupyter-widgets/base",
            "overflow": null,
            "_model_module_version": "1.2.0",
            "_view_count": null,
            "flex_flow": null,
            "width": null,
            "min_width": null,
            "border": null,
            "align_items": null,
            "bottom": null,
            "_model_module": "@jupyter-widgets/base",
            "top": null,
            "grid_column": null,
            "overflow_y": null,
            "overflow_x": null,
            "grid_auto_flow": null,
            "grid_area": null,
            "grid_template_columns": null,
            "flex": null,
            "_model_name": "LayoutModel",
            "justify_items": null,
            "grid_row": null,
            "max_height": null,
            "align_content": null,
            "visibility": null,
            "align_self": null,
            "height": null,
            "min_height": null,
            "padding": null,
            "grid_auto_rows": null,
            "grid_gap": null,
            "max_width": null,
            "order": null,
            "_view_module_version": "1.2.0",
            "grid_template_areas": null,
            "object_position": null,
            "object_fit": null,
            "grid_auto_columns": null,
            "margin": null,
            "display": null,
            "left": null
          }
        },
        "de093be2899d4dcf8e94bd2f3c32666a": {
          "model_module": "@jupyter-widgets/controls",
          "model_name": "DescriptionStyleModel",
          "state": {
            "_view_name": "StyleView",
            "_model_name": "DescriptionStyleModel",
            "description_width": "",
            "_view_module": "@jupyter-widgets/base",
            "_model_module_version": "1.5.0",
            "_view_count": null,
            "_view_module_version": "1.2.0",
            "_model_module": "@jupyter-widgets/controls"
          }
        },
        "eaab8d1dd9cf4a96a917ea63cf7be543": {
          "model_module": "@jupyter-widgets/base",
          "model_name": "LayoutModel",
          "state": {
            "_view_name": "LayoutView",
            "grid_template_rows": null,
            "right": null,
            "justify_content": null,
            "_view_module": "@jupyter-widgets/base",
            "overflow": null,
            "_model_module_version": "1.2.0",
            "_view_count": null,
            "flex_flow": null,
            "width": null,
            "min_width": null,
            "border": null,
            "align_items": null,
            "bottom": null,
            "_model_module": "@jupyter-widgets/base",
            "top": null,
            "grid_column": null,
            "overflow_y": null,
            "overflow_x": null,
            "grid_auto_flow": null,
            "grid_area": null,
            "grid_template_columns": null,
            "flex": null,
            "_model_name": "LayoutModel",
            "justify_items": null,
            "grid_row": null,
            "max_height": null,
            "align_content": null,
            "visibility": null,
            "align_self": null,
            "height": null,
            "min_height": null,
            "padding": null,
            "grid_auto_rows": null,
            "grid_gap": null,
            "max_width": null,
            "order": null,
            "_view_module_version": "1.2.0",
            "grid_template_areas": null,
            "object_position": null,
            "object_fit": null,
            "grid_auto_columns": null,
            "margin": null,
            "display": null,
            "left": null
          }
        },
        "64476e12fd1f4d99b9a45f551a34687f": {
          "model_module": "@jupyter-widgets/controls",
          "model_name": "HBoxModel",
          "state": {
            "_view_name": "HBoxView",
            "_dom_classes": [],
            "_model_name": "HBoxModel",
            "_view_module": "@jupyter-widgets/controls",
            "_model_module_version": "1.5.0",
            "_view_count": null,
            "_view_module_version": "1.5.0",
            "box_style": "",
            "layout": "IPY_MODEL_23d835c8feec47a09cf9a7648a18ab85",
            "_model_module": "@jupyter-widgets/controls",
            "children": [
              "IPY_MODEL_cfc3fd41532c4f2395c8a94ee6373baa",
              "IPY_MODEL_8d9426301d384a5f9b5e662634102b47"
            ]
          }
        },
        "23d835c8feec47a09cf9a7648a18ab85": {
          "model_module": "@jupyter-widgets/base",
          "model_name": "LayoutModel",
          "state": {
            "_view_name": "LayoutView",
            "grid_template_rows": null,
            "right": null,
            "justify_content": null,
            "_view_module": "@jupyter-widgets/base",
            "overflow": null,
            "_model_module_version": "1.2.0",
            "_view_count": null,
            "flex_flow": null,
            "width": null,
            "min_width": null,
            "border": null,
            "align_items": null,
            "bottom": null,
            "_model_module": "@jupyter-widgets/base",
            "top": null,
            "grid_column": null,
            "overflow_y": null,
            "overflow_x": null,
            "grid_auto_flow": null,
            "grid_area": null,
            "grid_template_columns": null,
            "flex": null,
            "_model_name": "LayoutModel",
            "justify_items": null,
            "grid_row": null,
            "max_height": null,
            "align_content": null,
            "visibility": null,
            "align_self": null,
            "height": null,
            "min_height": null,
            "padding": null,
            "grid_auto_rows": null,
            "grid_gap": null,
            "max_width": null,
            "order": null,
            "_view_module_version": "1.2.0",
            "grid_template_areas": null,
            "object_position": null,
            "object_fit": null,
            "grid_auto_columns": null,
            "margin": null,
            "display": null,
            "left": null
          }
        },
        "cfc3fd41532c4f2395c8a94ee6373baa": {
          "model_module": "@jupyter-widgets/controls",
          "model_name": "FloatProgressModel",
          "state": {
            "_view_name": "ProgressView",
            "style": "IPY_MODEL_832993ca027c45e5827be35b517c0df3",
            "_dom_classes": [],
            "description": "  0%",
            "_model_name": "FloatProgressModel",
            "bar_style": "danger",
            "max": 1803,
            "_view_module": "@jupyter-widgets/controls",
            "_model_module_version": "1.5.0",
            "value": 0,
            "_view_count": null,
            "_view_module_version": "1.5.0",
            "orientation": "horizontal",
            "min": 0,
            "description_tooltip": null,
            "_model_module": "@jupyter-widgets/controls",
            "layout": "IPY_MODEL_dd4c5e6f1c62490197bdb9c80f030096"
          }
        },
        "8d9426301d384a5f9b5e662634102b47": {
          "model_module": "@jupyter-widgets/controls",
          "model_name": "HTMLModel",
          "state": {
            "_view_name": "HTMLView",
            "style": "IPY_MODEL_dfa9d2190f22474380b17bd1f7ff5ac7",
            "_dom_classes": [],
            "description": "",
            "_model_name": "HTMLModel",
            "placeholder": "​",
            "_view_module": "@jupyter-widgets/controls",
            "_model_module_version": "1.5.0",
            "value": " 0/1803 [00:00&lt;?, ? examples/s]",
            "_view_count": null,
            "_view_module_version": "1.5.0",
            "description_tooltip": null,
            "_model_module": "@jupyter-widgets/controls",
            "layout": "IPY_MODEL_c14077a51f724a3b938c65d198793301"
          }
        },
        "832993ca027c45e5827be35b517c0df3": {
          "model_module": "@jupyter-widgets/controls",
          "model_name": "ProgressStyleModel",
          "state": {
            "_view_name": "StyleView",
            "_model_name": "ProgressStyleModel",
            "description_width": "initial",
            "_view_module": "@jupyter-widgets/base",
            "_model_module_version": "1.5.0",
            "_view_count": null,
            "_view_module_version": "1.2.0",
            "bar_color": null,
            "_model_module": "@jupyter-widgets/controls"
          }
        },
        "dd4c5e6f1c62490197bdb9c80f030096": {
          "model_module": "@jupyter-widgets/base",
          "model_name": "LayoutModel",
          "state": {
            "_view_name": "LayoutView",
            "grid_template_rows": null,
            "right": null,
            "justify_content": null,
            "_view_module": "@jupyter-widgets/base",
            "overflow": null,
            "_model_module_version": "1.2.0",
            "_view_count": null,
            "flex_flow": null,
            "width": null,
            "min_width": null,
            "border": null,
            "align_items": null,
            "bottom": null,
            "_model_module": "@jupyter-widgets/base",
            "top": null,
            "grid_column": null,
            "overflow_y": null,
            "overflow_x": null,
            "grid_auto_flow": null,
            "grid_area": null,
            "grid_template_columns": null,
            "flex": null,
            "_model_name": "LayoutModel",
            "justify_items": null,
            "grid_row": null,
            "max_height": null,
            "align_content": null,
            "visibility": null,
            "align_self": null,
            "height": null,
            "min_height": null,
            "padding": null,
            "grid_auto_rows": null,
            "grid_gap": null,
            "max_width": null,
            "order": null,
            "_view_module_version": "1.2.0",
            "grid_template_areas": null,
            "object_position": null,
            "object_fit": null,
            "grid_auto_columns": null,
            "margin": null,
            "display": null,
            "left": null
          }
        },
        "dfa9d2190f22474380b17bd1f7ff5ac7": {
          "model_module": "@jupyter-widgets/controls",
          "model_name": "DescriptionStyleModel",
          "state": {
            "_view_name": "StyleView",
            "_model_name": "DescriptionStyleModel",
            "description_width": "",
            "_view_module": "@jupyter-widgets/base",
            "_model_module_version": "1.5.0",
            "_view_count": null,
            "_view_module_version": "1.2.0",
            "_model_module": "@jupyter-widgets/controls"
          }
        },
        "c14077a51f724a3b938c65d198793301": {
          "model_module": "@jupyter-widgets/base",
          "model_name": "LayoutModel",
          "state": {
            "_view_name": "LayoutView",
            "grid_template_rows": null,
            "right": null,
            "justify_content": null,
            "_view_module": "@jupyter-widgets/base",
            "overflow": null,
            "_model_module_version": "1.2.0",
            "_view_count": null,
            "flex_flow": null,
            "width": null,
            "min_width": null,
            "border": null,
            "align_items": null,
            "bottom": null,
            "_model_module": "@jupyter-widgets/base",
            "top": null,
            "grid_column": null,
            "overflow_y": null,
            "overflow_x": null,
            "grid_auto_flow": null,
            "grid_area": null,
            "grid_template_columns": null,
            "flex": null,
            "_model_name": "LayoutModel",
            "justify_items": null,
            "grid_row": null,
            "max_height": null,
            "align_content": null,
            "visibility": null,
            "align_self": null,
            "height": null,
            "min_height": null,
            "padding": null,
            "grid_auto_rows": null,
            "grid_gap": null,
            "max_width": null,
            "order": null,
            "_view_module_version": "1.2.0",
            "grid_template_areas": null,
            "object_position": null,
            "object_fit": null,
            "grid_auto_columns": null,
            "margin": null,
            "display": null,
            "left": null
          }
        }
      }
    }
  },
  "cells": [
    {
      "cell_type": "markdown",
      "metadata": {
        "id": "view-in-github",
        "colab_type": "text"
      },
      "source": [
        "<a href=\"https://colab.research.google.com/github/UtpalMattoo/NLP-Attention-Transformers/blob/master/Transformer.ipynb\" target=\"_parent\"><img src=\"https://colab.research.google.com/assets/colab-badge.svg\" alt=\"Open In Colab\"/></a>"
      ]
    },
    {
      "cell_type": "markdown",
      "metadata": {
        "id": "s_qNSzzyaCbD"
      },
      "source": [
        "##### Copyright 2019 The TensorFlow Authors."
      ]
    },
    {
      "cell_type": "code",
      "metadata": {
        "cellView": "form",
        "id": "jmjh290raIky"
      },
      "source": [
        "#@title Licensed under the Apache License, Version 2.0 (the \"License\");\n",
        "# you may not use this file except in compliance with the License.\n",
        "# You may obtain a copy of the License at\n",
        "#\n",
        "# https://www.apache.org/licenses/LICENSE-2.0\n",
        "#\n",
        "# Unless required by applicable law or agreed to in writing, software\n",
        "# distributed under the License is distributed on an \"AS IS\" BASIS,\n",
        "# WITHOUT WARRANTIES OR CONDITIONS OF ANY KIND, either express or implied.\n",
        "# See the License for the specific language governing permissions and\n",
        "# limitations under the License."
      ],
      "execution_count": null,
      "outputs": []
    },
    {
      "cell_type": "markdown",
      "metadata": {
        "id": "J0Qjg6vuaHNt"
      },
      "source": [
        "# Transformer model for language understanding"
      ]
    },
    {
      "cell_type": "markdown",
      "metadata": {
        "id": "AOpGoE2T-YXS"
      },
      "source": [
        "<table class=\"tfo-notebook-buttons\" align=\"left\">\n",
        "  <td>\n",
        "    <a target=\"_blank\" href=\"https://www.tensorflow.org/tutorials/text/transformer\">\n",
        "    <img src=\"https://www.tensorflow.org/images/tf_logo_32px.png\" />\n",
        "    View on TensorFlow.org</a>\n",
        "  </td>\n",
        "  <td>\n",
        "    <a target=\"_blank\" href=\"https://colab.research.google.com/github/tensorflow/docs/blob/master/site/en/tutorials/text/transformer.ipynb\">\n",
        "    <img src=\"https://www.tensorflow.org/images/colab_logo_32px.png\" />\n",
        "    Run in Google Colab</a>\n",
        "  </td>\n",
        "  <td>\n",
        "    <a target=\"_blank\" href=\"https://github.com/tensorflow/docs/blob/master/site/en/tutorials/text/transformer.ipynb\">\n",
        "    <img src=\"https://www.tensorflow.org/images/GitHub-Mark-32px.png\" />\n",
        "    View source on GitHub</a>\n",
        "  </td>\n",
        "  <td>\n",
        "    <a href=\"https://storage.googleapis.com/tensorflow_docs/docs/site/en/tutorials/text/transformer.ipynb\"><img src=\"https://www.tensorflow.org/images/download_logo_32px.png\" />Download notebook</a>\n",
        "  </td>\n",
        "</table>"
      ]
    },
    {
      "cell_type": "markdown",
      "metadata": {
        "id": "M-f8TnGpE_ex"
      },
      "source": [
        "This tutorial trains a <a href=\"https://arxiv.org/abs/1706.03762\" class=\"external\">Transformer model</a> to translate Portuguese to English. This is an advanced example that assumes knowledge of [text generation](text_generation.ipynb) and [attention](nmt_with_attention.ipynb).\n",
        "\n",
        "The core idea behind the Transformer model is *self-attention*—the ability to attend to different positions of the input sequence to compute a representation of that sequence. Transformer creates stacks of self-attention layers and is explained below in the sections *Scaled dot product attention* and *Multi-head attention*.\n",
        "\n",
        "A transformer model handles variable-sized input using stacks of self-attention layers instead of [RNNs](text_classification_rnn.ipynb) or [CNNs](../images/intro_to_cnns.ipynb). This general architecture has a number of advantages:\n",
        "\n",
        "* It make no assumptions about the temporal/spatial relationships across the data. This is ideal for processing a set of objects (for example, [StarCraft units](https://deepmind.com/blog/alphastar-mastering-real-time-strategy-game-starcraft-ii/#block-8)).\n",
        "* Layer outputs can be calculated in parallel, instead of a series like an RNN.\n",
        "* Distant items can affect each other's output without passing through many RNN-steps, or convolution layers (see [Scene Memory Transformer](https://arxiv.org/pdf/1903.03878.pdf) for example).\n",
        "* It can learn long-range dependencies. This is a challenge in many sequence tasks.\n",
        "\n",
        "The downsides of this architecture are:\n",
        "\n",
        "* For a time-series, the output for a time-step is calculated from the *entire history* instead of only the inputs and current hidden-state. This _may_ be less efficient.   \n",
        "* If the input *does* have a  temporal/spatial relationship, like text, some positional encoding must be added or the model will effectively see a bag of words. \n",
        "\n",
        "After training the model in this notebook, you will be able to input a Portuguese sentence and return the English translation.\n",
        "\n",
        "<img src=\"https://www.tensorflow.org/images/tutorials/transformer/attention_map_portuguese.png\" width=\"800\" alt=\"Attention heatmap\">"
      ]
    },
    {
      "cell_type": "code",
      "metadata": {
        "id": "XFG0NDRu5mYQ",
        "colab": {
          "base_uri": "https://localhost:8080/"
        },
        "outputId": "38785cd4-b8f1-4593-cac6-cb20b8031c2c"
      },
      "source": [
        "!pip install -q tfds-nightly\n",
        "\n",
        "# Pin matplotlib version to 3.2.2 since in the latest version\n",
        "# transformer.ipynb fails with the following error:\n",
        "# https://stackoverflow.com/questions/62953704/valueerror-the-number-of-fixedlocator-locations-5-usually-from-a-call-to-set\n",
        "!pip install matplotlib==3.2.2"
      ],
      "execution_count": 2,
      "outputs": [
        {
          "output_type": "stream",
          "text": [
            "\u001b[K     |████████████████████████████████| 3.7MB 5.9MB/s \n",
            "\u001b[?25hRequirement already satisfied: matplotlib==3.2.2 in /usr/local/lib/python3.6/dist-packages (3.2.2)\n",
            "Requirement already satisfied: cycler>=0.10 in /usr/local/lib/python3.6/dist-packages (from matplotlib==3.2.2) (0.10.0)\n",
            "Requirement already satisfied: kiwisolver>=1.0.1 in /usr/local/lib/python3.6/dist-packages (from matplotlib==3.2.2) (1.3.1)\n",
            "Requirement already satisfied: numpy>=1.11 in /usr/local/lib/python3.6/dist-packages (from matplotlib==3.2.2) (1.18.5)\n",
            "Requirement already satisfied: python-dateutil>=2.1 in /usr/local/lib/python3.6/dist-packages (from matplotlib==3.2.2) (2.8.1)\n",
            "Requirement already satisfied: pyparsing!=2.0.4,!=2.1.2,!=2.1.6,>=2.0.1 in /usr/local/lib/python3.6/dist-packages (from matplotlib==3.2.2) (2.4.7)\n",
            "Requirement already satisfied: six in /usr/local/lib/python3.6/dist-packages (from cycler>=0.10->matplotlib==3.2.2) (1.15.0)\n"
          ],
          "name": "stdout"
        }
      ]
    },
    {
      "cell_type": "code",
      "metadata": {
        "id": "dKSOOalvbhhs"
      },
      "source": [
        "# tf.data: Build TensorFlow input pipelines\n",
        "# https://www.tensorflow.org/guide/data\n",
        "# https://www.tensorflow.org/api_docs/python/tf/data/experimental\n"
      ],
      "execution_count": null,
      "outputs": []
    },
    {
      "cell_type": "code",
      "metadata": {
        "id": "JjJJyJTZYebt"
      },
      "source": [
        "import tensorflow_datasets as tfds\n",
        "import tensorflow as tf\n",
        "\n",
        "import time\n",
        "import numpy as np\n",
        "import matplotlib.pyplot as plt"
      ],
      "execution_count": 3,
      "outputs": []
    },
    {
      "cell_type": "markdown",
      "metadata": {
        "id": "fd1NWMxjfsDd"
      },
      "source": [
        "## Setup input pipeline"
      ]
    },
    {
      "cell_type": "markdown",
      "metadata": {
        "id": "t4_Qt8W1hJE_"
      },
      "source": [
        "Use [TFDS](https://www.tensorflow.org/datasets) to load the [Portugese-English translation dataset](https://github.com/neulab/word-embeddings-for-nmt) from the [TED Talks Open Translation Project](https://www.ted.com/participate/translate).\n",
        "\n",
        "This dataset contains approximately 50000 training examples, 1100 validation examples, and 2000 test examples."
      ]
    },
    {
      "cell_type": "code",
      "metadata": {
        "id": "8q9t4FmN96eN",
        "colab": {
          "base_uri": "https://localhost:8080/",
          "height": 416,
          "referenced_widgets": [
            "2a53c0deee5746c2bea8e6b5d6ac4f79",
            "05dffddae8a04d5eb5abeb3ca924779d",
            "dde24de4e378417bbad96b1955b81321",
            "d40e389e1f3f4307b5171c5cd42cfd41",
            "f4e3018ae78945a6a2fdcef8baac09ea",
            "c3e0d50ee2024438af725cf0942b2142",
            "9e80a8018d6b4ce7886b53ddd6beb4e7",
            "fe47221ac5e440e6ab82dee15a92d0fd",
            "ac8d0d6c7bed4198a3d9e9ced32e1ad9",
            "d688ffa1872648a0b9251414e989a6de",
            "4a8169f698ad43e4ad8c9ba13e1c02b9",
            "0904aedd0d1541a2a589cf1556de32e4",
            "cdf872d42479412891569a3b43d2d370",
            "6258cc6d4ab64fbdbc4fecb329f31807",
            "523c6c2fa9c849fe94cab9e769792c31",
            "7ff5e38ccb004fc2b0e5c0f552274148",
            "58e50934d19943b5bed073082cb26c5a",
            "77a15f28332843c9b98c979278734fd7",
            "547a33fded634eff9aa28df1277cb01a",
            "2a21a36eb9674595ad75e57b1c180de0",
            "8492e27067e547789c03c0f233134831",
            "1b948312fead4ad0a827544d98cfe6ba",
            "cb5d57b1c7db4e26a13a0836a203cf6b",
            "8f21aeb996044f4196362f027cbe70be",
            "ff431d47d7f247788a227d47f044f040",
            "02b5db7b2fa14851829441b11ea2ed39",
            "a47381bbe0a04b759cd0646a25e57d46",
            "18fd43f400964fdc8533dc9dba28a968",
            "be5de0fbca5947128a76ce4ef1c9cb28",
            "ff8a2083096b4c3485b0bcb67cb55ec9",
            "59f6fa607821428990da7e17ecf738fb",
            "de72a0f1a723490d8e05989abb5f02af",
            "67fb0dc9932b4c38b709aad014223d0d",
            "f7cb1fcea7e842e995385c13c9a52925",
            "27d49951e64144e29ab7424f72b887c3",
            "5f8b69dfe2a6446988d740f689e5d55b",
            "8b126213fda3477a88012064a78db418",
            "d6002bdd0b114ab1acef49b140124f02",
            "2bbf7a6148a449ffbf1cd5a7641880ee",
            "8a480cba7545455ea5c305037692b358",
            "70cb19505b1c4680a04af60a40280861",
            "02cab5370dad414bab99ce4e4dbdbf9a",
            "6f6765d711c74fc69cecfb8bbebfec28",
            "ef7ab6c1ee7c4e19acfe430ab0895674",
            "d636b410cd3540dcbbc611b013ec910b",
            "dfe91080fb474fb3833f1a5ef9a13620",
            "304874b06ee944d6a52810d3cc783bed",
            "edcca1955ebe44e7b423b7cb3d5f3c13",
            "aac5fcb5e51845adbeabf1a97609a85c",
            "c865b8a9292f48fdaf34a7c55f73c8b1",
            "a15d366ca5d449c48d04c3cd0453b803",
            "be41d62bb6884c6c83f1c13e42c17a2c",
            "71f7f3ebe10d4fdfa544468024f49d65",
            "398fb46758e34fa8b221bccf5e99afc4",
            "f178a27fd9ee4aa5a6ec4c6ab6d00a9e",
            "f5bdb36ba28f4e0e91dc097aa82c274c",
            "585d23237017498bb025030d7d40f586",
            "c774df6b95704b7f92008c237ead52dd",
            "b0aaef0cde1b4a10abfaad7b6aae1a4b",
            "ffa15ee6ea0d41ca85d21aa4f35fd2c2",
            "1bf01334accd4cd6adba0be7511f7fcf",
            "e29c1235f17d42b1b64e2e78ca9e7e08",
            "814dd719eef646d38d8d18d800753828",
            "a2d219c899504cf5b5e6d6db94a4ebe0",
            "fa88ed0a96c44424a8127cbc5d37f176",
            "579d2076a6604e19bb5fb5957bc4d793",
            "59e1cddb4ef14ddf98193d6ca2347651",
            "448f5efbdbef41acb8d8152d8b59beaf",
            "442d12b595aa4dcf92d9a5cafa1e8056",
            "bdf3bb32e5614d11a150dc527ee3df04",
            "de093be2899d4dcf8e94bd2f3c32666a",
            "eaab8d1dd9cf4a96a917ea63cf7be543",
            "64476e12fd1f4d99b9a45f551a34687f",
            "23d835c8feec47a09cf9a7648a18ab85",
            "cfc3fd41532c4f2395c8a94ee6373baa",
            "8d9426301d384a5f9b5e662634102b47",
            "832993ca027c45e5827be35b517c0df3",
            "dd4c5e6f1c62490197bdb9c80f030096",
            "dfa9d2190f22474380b17bd1f7ff5ac7",
            "c14077a51f724a3b938c65d198793301"
          ]
        },
        "outputId": "fd7303c6-15dd-4f41-d894-0770102f6d47"
      },
      "source": [
        "examples, metadata = tfds.load('ted_hrlr_translate/pt_to_en', with_info=True,\n",
        "                               as_supervised=True)\n",
        "train_examples, val_examples = examples['train'], examples['validation']"
      ],
      "execution_count": 4,
      "outputs": [
        {
          "output_type": "stream",
          "text": [
            "\u001b[1mDownloading and preparing dataset ted_hrlr_translate/pt_to_en/1.0.0 (download: 124.94 MiB, generated: Unknown size, total: 124.94 MiB) to /root/tensorflow_datasets/ted_hrlr_translate/pt_to_en/1.0.0...\u001b[0m\n"
          ],
          "name": "stdout"
        },
        {
          "output_type": "display_data",
          "data": {
            "application/vnd.jupyter.widget-view+json": {
              "model_id": "2a53c0deee5746c2bea8e6b5d6ac4f79",
              "version_minor": 0,
              "version_major": 2
            },
            "text/plain": [
              "HBox(children=(FloatProgress(value=1.0, bar_style='info', description='Dl Completed...', max=1.0, style=Progre…"
            ]
          },
          "metadata": {
            "tags": []
          }
        },
        {
          "output_type": "display_data",
          "data": {
            "application/vnd.jupyter.widget-view+json": {
              "model_id": "ac8d0d6c7bed4198a3d9e9ced32e1ad9",
              "version_minor": 0,
              "version_major": 2
            },
            "text/plain": [
              "HBox(children=(FloatProgress(value=1.0, bar_style='info', description='Dl Size...', max=1.0, style=ProgressSty…"
            ]
          },
          "metadata": {
            "tags": []
          }
        },
        {
          "output_type": "display_data",
          "data": {
            "application/vnd.jupyter.widget-view+json": {
              "model_id": "58e50934d19943b5bed073082cb26c5a",
              "version_minor": 0,
              "version_major": 2
            },
            "text/plain": [
              "HBox(children=(FloatProgress(value=1.0, bar_style='info', description='Extraction completed...', max=1.0, styl…"
            ]
          },
          "metadata": {
            "tags": []
          }
        },
        {
          "output_type": "stream",
          "text": [
            "\n",
            "\n",
            "\n",
            "\n",
            "\n",
            "\n"
          ],
          "name": "stdout"
        },
        {
          "output_type": "display_data",
          "data": {
            "application/vnd.jupyter.widget-view+json": {
              "model_id": "ff431d47d7f247788a227d47f044f040",
              "version_minor": 0,
              "version_major": 2
            },
            "text/plain": [
              "HBox(children=(FloatProgress(value=0.0, max=3.0), HTML(value='')))"
            ]
          },
          "metadata": {
            "tags": []
          }
        },
        {
          "output_type": "display_data",
          "data": {
            "application/vnd.jupyter.widget-view+json": {
              "model_id": "67fb0dc9932b4c38b709aad014223d0d",
              "version_minor": 0,
              "version_major": 2
            },
            "text/plain": [
              "HBox(children=(FloatProgress(value=0.0, max=51785.0), HTML(value='')))"
            ]
          },
          "metadata": {
            "tags": []
          }
        },
        {
          "output_type": "stream",
          "text": [
            "Shuffling and writing examples to /root/tensorflow_datasets/ted_hrlr_translate/pt_to_en/1.0.0.incompleteY4XR55/ted_hrlr_translate-train.tfrecord\n"
          ],
          "name": "stdout"
        },
        {
          "output_type": "display_data",
          "data": {
            "application/vnd.jupyter.widget-view+json": {
              "model_id": "70cb19505b1c4680a04af60a40280861",
              "version_minor": 0,
              "version_major": 2
            },
            "text/plain": [
              "HBox(children=(FloatProgress(value=0.0, max=51785.0), HTML(value='')))"
            ]
          },
          "metadata": {
            "tags": []
          }
        },
        {
          "output_type": "display_data",
          "data": {
            "application/vnd.jupyter.widget-view+json": {
              "model_id": "aac5fcb5e51845adbeabf1a97609a85c",
              "version_minor": 0,
              "version_major": 2
            },
            "text/plain": [
              "HBox(children=(FloatProgress(value=0.0, max=1193.0), HTML(value='')))"
            ]
          },
          "metadata": {
            "tags": []
          }
        },
        {
          "output_type": "stream",
          "text": [
            "Shuffling and writing examples to /root/tensorflow_datasets/ted_hrlr_translate/pt_to_en/1.0.0.incompleteY4XR55/ted_hrlr_translate-validation.tfrecord\n"
          ],
          "name": "stdout"
        },
        {
          "output_type": "display_data",
          "data": {
            "application/vnd.jupyter.widget-view+json": {
              "model_id": "585d23237017498bb025030d7d40f586",
              "version_minor": 0,
              "version_major": 2
            },
            "text/plain": [
              "HBox(children=(FloatProgress(value=0.0, max=1193.0), HTML(value='')))"
            ]
          },
          "metadata": {
            "tags": []
          }
        },
        {
          "output_type": "display_data",
          "data": {
            "application/vnd.jupyter.widget-view+json": {
              "model_id": "fa88ed0a96c44424a8127cbc5d37f176",
              "version_minor": 0,
              "version_major": 2
            },
            "text/plain": [
              "HBox(children=(FloatProgress(value=0.0, max=1803.0), HTML(value='')))"
            ]
          },
          "metadata": {
            "tags": []
          }
        },
        {
          "output_type": "stream",
          "text": [
            "Shuffling and writing examples to /root/tensorflow_datasets/ted_hrlr_translate/pt_to_en/1.0.0.incompleteY4XR55/ted_hrlr_translate-test.tfrecord\n"
          ],
          "name": "stdout"
        },
        {
          "output_type": "display_data",
          "data": {
            "application/vnd.jupyter.widget-view+json": {
              "model_id": "64476e12fd1f4d99b9a45f551a34687f",
              "version_minor": 0,
              "version_major": 2
            },
            "text/plain": [
              "HBox(children=(FloatProgress(value=0.0, max=1803.0), HTML(value='')))"
            ]
          },
          "metadata": {
            "tags": []
          }
        },
        {
          "output_type": "stream",
          "text": [
            "\r\u001b[1mDataset ted_hrlr_translate downloaded and prepared to /root/tensorflow_datasets/ted_hrlr_translate/pt_to_en/1.0.0. Subsequent calls will reuse this data.\u001b[0m\n"
          ],
          "name": "stdout"
        }
      ]
    },
    {
      "cell_type": "markdown",
      "metadata": {
        "id": "RCEKotqosGfq"
      },
      "source": [
        "Create a custom subwords tokenizer from the training dataset. "
      ]
    },
    {
      "cell_type": "code",
      "metadata": {
        "id": "KVBg5Q8tBk5z",
        "colab": {
          "base_uri": "https://localhost:8080/"
        },
        "outputId": "03ea4ef7-f65b-4e31-feee-cfbace758db5"
      },
      "source": [
        "# https://www.tensorflow.org/datasets/api_docs/python/tfds/deprecated/text/SubwordTextEncoder#build_from_corpus\n",
        "# https://colab.research.google.com/github/tensorflow/examples/blob/master/courses/udacity_intro_to_tensorflow_for_deep_learning/l10c01_nlp_lstms_with_reviews_subwords_dataset.ipynb#scrollTo=33AthPiALFZK\n",
        "# SubwordTextEncoder.build_from_corpus() will create a tokenizer for us. You could also use this \n",
        "# functionality to get subwords from a much larger corpus of text as well\n",
        "\n",
        "tokenizer_en = tfds.deprecated.text.SubwordTextEncoder.build_from_corpus(\n",
        "    (en.numpy() for pt, en in train_examples), target_vocab_size=2**13)\n",
        "\n",
        "tokenizer_pt = tfds.deprecated.text.SubwordTextEncoder.build_from_corpus(\n",
        "    (pt.numpy() for pt, en in train_examples), target_vocab_size=2**13)\n",
        "\n",
        "print (type(tokenizer_en))"
      ],
      "execution_count": 179,
      "outputs": [
        {
          "output_type": "stream",
          "text": [
            "<class 'tensorflow.python.data.ops.dataset_ops.PrefetchDataset'>\n"
          ],
          "name": "stdout"
        }
      ]
    },
    {
      "cell_type": "code",
      "metadata": {
        "colab": {
          "base_uri": "https://localhost:8080/"
        },
        "id": "sV3rRQsMBues",
        "outputId": "9ea94302-668b-4779-8bf1-e34afbc63f2d"
      },
      "source": [
        "i=11\n",
        "j=0\n",
        "for data in train_examples:\n",
        "  if (j < i):\n",
        "    a, b = data\n",
        "    print (f\"a is: {a} and \\n b is: {b}\\n\") #a and b are byte strings\n",
        "    j+=1"
      ],
      "execution_count": 6,
      "outputs": [
        {
          "output_type": "stream",
          "text": [
            "a is: b'e quando melhoramos a procura , tiramos a \\xc3\\xbanica vantagem da impress\\xc3\\xa3o , que \\xc3\\xa9 a serendipidade .' and \n",
            " b is: b'and when you improve searchability , you actually take away the one advantage of print , which is serendipity .'\n",
            "\n",
            "a is: b'mas e se estes fatores fossem ativos ?' and \n",
            " b is: b'but what if it were active ?'\n",
            "\n",
            "a is: b'mas eles n\\xc3\\xa3o tinham a curiosidade de me testar .' and \n",
            " b is: b\"but they did n't test for curiosity .\"\n",
            "\n",
            "a is: b'e esta rebeldia consciente \\xc3\\xa9 a raz\\xc3\\xa3o pela qual eu , como agn\\xc3\\xb3stica , posso ainda ter f\\xc3\\xa9 .' and \n",
            " b is: b'and this conscious defiance is why i , as an agnostic , can still have faith .'\n",
            "\n",
            "a is: b\"`` `` '' podem usar tudo sobre a mesa no meu corpo . ''\" and \n",
            " b is: b'you can use everything on the table on me .'\n",
            "\n",
            "a is: b\"`` eu escrevo muito acerca do `` '' teatro de seguran\\xc3\\xa7a '' '' , que s\\xc3\\xa3o produtos que fazem as pessoas sentirem-se seguras mas que , na realidade , n\\xc3\\xa3o fazem nada . ''\" and \n",
            " b is: b\"`` i write a lot about `` '' security theater , '' '' which are products that make people feel secure , but do n't actually do anything . ''\"\n",
            "\n",
            "a is: b'colocaram-no bem no fundo duma mina de ferro no minnesota , nos \\xc3\\xbaltimos dois dias anunciaram os resultados mais sens\\xc3\\xadveis at\\xc3\\xa9 agora .' and \n",
            " b is: b\"and they 've put it deep down in an iron mine in minnesota , ok , deep under the ground , and in fact , in the last couple of days announced the most sensitive results so far .\"\n",
            "\n",
            "a is: b'algumas pessoas t\\xc3\\xaam medo de que n\\xc3\\xa3o gostem delas .' and \n",
            " b is: b'see , some people might fear girls not liking them back .'\n",
            "\n",
            "a is: b'n\\xc3\\xa3o , o que nos aconteceu , chris , \\xc3\\xa9 que o poder , o pre\\xc3\\xa7o est\\xc3\\xa1 fixado fora da margem .' and \n",
            " b is: b\"no , what happened to us , chris , is that power , it 's priced off the margin .\"\n",
            "\n",
            "a is: b'de volta \\xc3\\xa0 minha pergunta : porque \\xc3\\xa9 que fiquei ?' and \n",
            " b is: b'back to my question : why did i stay ?'\n",
            "\n",
            "a is: b\"`` quando descobri que havia uma s\\xc3\\xa9rie de ind\\xc3\\xbastrias sem prote\\xc3\\xa7\\xc3\\xa3o de direitos de autor , pensei : `` '' qual ser\\xc3\\xa1 a l\\xc3\\xb3gica subjacente ? ''\" and \n",
            " b is: b\"`` when i found out that there are a whole bunch of industries that did n't have copyright protection , i thought , `` '' what exactly is the underlying logic ? ''\"\n",
            "\n"
          ],
          "name": "stdout"
        }
      ]
    },
    {
      "cell_type": "code",
      "metadata": {
        "id": "4DYWukNFkGQN",
        "colab": {
          "base_uri": "https://localhost:8080/"
        },
        "outputId": "dedf7335-6ec0-4fb5-e672-f5dd4d6a1a59"
      },
      "source": [
        "sample_string = 'did they eat fish and chips ?'\n",
        "\n",
        "tokenized_string = tokenizer_en.encode(sample_string)\n",
        "print ('Tokenized string is {}'.format(tokenized_string))\n",
        "\n",
        "original_string = tokenizer_en.decode(tokenized_string)\n",
        "print ('The original string: {}'.format(original_string))\n",
        "\n",
        "assert original_string == sample_string"
      ],
      "execution_count": 142,
      "outputs": [
        {
          "output_type": "stream",
          "text": [
            "Tokenized string is [98, 25, 1037, 1903, 4, 7283, 33]\n",
            "The original string: did they eat fish and chips ?\n"
          ],
          "name": "stdout"
        }
      ]
    },
    {
      "cell_type": "markdown",
      "metadata": {
        "id": "o9KJWJjrsZ4Y"
      },
      "source": [
        "The tokenizer encodes the string by breaking it into subwords if the word is not in its dictionary."
      ]
    },
    {
      "cell_type": "code",
      "metadata": {
        "id": "bf2ntBxjkqK6",
        "colab": {
          "base_uri": "https://localhost:8080/"
        },
        "outputId": "431aa865-866e-449a-cedd-4b19255683f0"
      },
      "source": [
        "for ts in tokenized_string:\n",
        "  print ('{} ----> {}'.format(ts, tokenizer_en.decode([ts])))"
      ],
      "execution_count": 143,
      "outputs": [
        {
          "output_type": "stream",
          "text": [
            "98 ----> did \n",
            "25 ----> they \n",
            "1037 ----> eat \n",
            "1903 ----> fish \n",
            "4 ----> and \n",
            "7283 ----> chips\n",
            "33 ---->  ?\n"
          ],
          "name": "stdout"
        }
      ]
    },
    {
      "cell_type": "code",
      "metadata": {
        "id": "bcRp7VcQ5m6g"
      },
      "source": [
        "BUFFER_SIZE = 20000\n",
        "BATCH_SIZE = 64"
      ],
      "execution_count": 99,
      "outputs": []
    },
    {
      "cell_type": "markdown",
      "metadata": {
        "id": "kGi4PoVakxdc"
      },
      "source": [
        "Add a start and end token to the input and target. "
      ]
    },
    {
      "cell_type": "code",
      "metadata": {
        "id": "UZwnPr4R055s"
      },
      "source": [
        "def encode(lang1, lang2):\n",
        "\n",
        "  lst1 = [tokenizer_pt.vocab_size]\n",
        "  lst2 = [tokenizer_en.vocab_size]\n",
        "\n",
        "  print (f\"Protugese source sentence - = {lang1.numpy()}\")\n",
        "  lang1 = [tokenizer_pt.vocab_size] + tokenizer_pt.encode(\n",
        "      lang1.numpy()) + [tokenizer_pt.vocab_size+1]\n",
        "  print (f\"Protugese tokenized vector - beginning and end of vector is vocab_size and vocab_size+1 for Portugese = {lang1}\\n\")\n",
        "  \n",
        "  print (f\"English source sentence - = {lang2.numpy()}\")\n",
        "  lang2 = [tokenizer_en.vocab_size] + tokenizer_en.encode(\n",
        "      lang2.numpy()) + [tokenizer_en.vocab_size+1]\n",
        "  print (f\"English tokenized vector - beginning and end of vector is vocab_size and vocab_size+1 for English = {lang2}\\n\")\n",
        "  \n",
        "  return lang1, lang2"
      ],
      "execution_count": 150,
      "outputs": []
    },
    {
      "cell_type": "markdown",
      "metadata": {
        "id": "Tx1sFbR-9fRs"
      },
      "source": [
        "You want to use `Dataset.map` to apply this function to each element of the dataset.  `Dataset.map` runs in graph mode.\n",
        "\n",
        "* Graph tensors do not have a value. \n",
        "* In graph mode you can only use TensorFlow Ops and functions. \n",
        "\n",
        "So you can't `.map` this function directly: You need to wrap it in a `tf.py_function`. The `tf.py_function` will pass regular tensors (with a value and a `.numpy()` method to access it), to the wrapped python function."
      ]
    },
    {
      "cell_type": "code",
      "metadata": {
        "id": "Mah1cS-P70Iz"
      },
      "source": [
        "def tf_encode(pt, en):\n",
        "  result_pt, result_en = tf.py_function(encode, [pt, en], [tf.int64, tf.int64])\n",
        "  result_pt.set_shape([None])\n",
        "  result_en.set_shape([None])\n",
        "\n",
        "  return result_pt, result_en"
      ],
      "execution_count": 151,
      "outputs": []
    },
    {
      "cell_type": "markdown",
      "metadata": {
        "id": "6JrGp5Gek6Ql"
      },
      "source": [
        "Note: To keep this example small and relatively fast, drop examples with a length of over 40 tokens."
      ]
    },
    {
      "cell_type": "code",
      "metadata": {
        "id": "2QEgbjntk6Yf"
      },
      "source": [
        "MAX_LENGTH = 40"
      ],
      "execution_count": 146,
      "outputs": []
    },
    {
      "cell_type": "code",
      "metadata": {
        "id": "c081xPGv1CPI"
      },
      "source": [
        "def filter_max_length(x, y, max_length=MAX_LENGTH):\n",
        "  return tf.logical_and(tf.size(x) <= max_length,\n",
        "                        tf.size(y) <= max_length)"
      ],
      "execution_count": 147,
      "outputs": []
    },
    {
      "cell_type": "code",
      "metadata": {
        "id": "9mk9AZdZ5bcS",
        "colab": {
          "base_uri": "https://localhost:8080/"
        },
        "outputId": "c4f660b0-0e28-4802-cefc-562ab49501b8"
      },
      "source": [
        "# https://www.tensorflow.org/api_docs/python/tf/data/Dataset\n",
        "# https://www.tensorflow.org/tutorials/load_data/numpy\n",
        "# https://stackoverflow.com/questions/62436302/accessing-data-in-tensorflow-prefetchdataset\n",
        "\n",
        "\n",
        "print (f\"number of training examples: {len(train_examples)}\")\n",
        "print (f\"type of training examples: {type(train_examples)}\\n\") # <class 'tensorflow.python.data.ops.dataset_ops.PrefetchDataset'>\n",
        "lst = list(train_examples) # convert to list and then to tf.data.Dataset.from_tensor_slices\n",
        "tf_slices_train_examples = tf.data.Dataset.from_tensor_slices(lst)\n",
        "#Finally, access tensor elements in tensor of type tf.data.Dataset.from_tensor_slices\n",
        "for example_no, source_target in enumerate(tf_slices_train_examples.take(3)): \n",
        "  print (f\"example_no is: {example_no} and source_target is: {source_target}\\n\")\n",
        "\n",
        "train_dataset = train_examples.map(tf_encode)\n",
        "# train_dataset = tf_slices_train_examples.map(tf_encode) - Fix: TO DO - not really needed\n",
        "print (f\"number of training examples: {len(train_dataset)} - type of training examples: {type(train_dataset)}\\n\")\n",
        "\n",
        "train_dataset = train_dataset.filter(filter_max_length)\n",
        "# cache the dataset to memory to get a speedup while reading from it.\n",
        "train_dataset = train_dataset.cache()\n",
        "train_dataset = train_dataset.shuffle(BUFFER_SIZE).padded_batch(BATCH_SIZE)\n",
        "train_dataset = train_dataset.prefetch(tf.data.experimental.AUTOTUNE)\n",
        "\n",
        "val_dataset = val_examples.map(tf_encode)\n",
        "val_dataset = val_dataset.filter(filter_max_length).padded_batch(BATCH_SIZE)"
      ],
      "execution_count": 177,
      "outputs": [
        {
          "output_type": "stream",
          "text": [
            "number of training examples: 51785\n",
            "type of training examples: <class 'tensorflow.python.data.ops.dataset_ops.PrefetchDataset'>\n",
            "\n",
            "example_no is: 0 and source_target is: [b'e quando melhoramos a procura , tiramos a \\xc3\\xbanica vantagem da impress\\xc3\\xa3o , que \\xc3\\xa9 a serendipidade .'\n",
            " b'and when you improve searchability , you actually take away the one advantage of print , which is serendipity .']\n",
            "\n",
            "example_no is: 1 and source_target is: [b'mas e se estes fatores fossem ativos ?' b'but what if it were active ?']\n",
            "\n",
            "example_no is: 2 and source_target is: [b'mas eles n\\xc3\\xa3o tinham a curiosidade de me testar .'\n",
            " b\"but they did n't test for curiosity .\"]\n",
            "\n",
            "number of training examples: 51785 - type of training examples: <class 'tensorflow.python.data.ops.dataset_ops.MapDataset'>\n",
            "\n"
          ],
          "name": "stdout"
        }
      ]
    },
    {
      "cell_type": "code",
      "metadata": {
        "id": "_fXvfYVfQr2n",
        "colab": {
          "base_uri": "https://localhost:8080/"
        },
        "outputId": "1f3064e5-3c7c-4d4c-9f38-2c11d95122de"
      },
      "source": [
        "pt_batch, en_batch = next(iter(val_dataset))\n",
        "pt_batch, en_batch"
      ],
      "execution_count": 178,
      "outputs": [
        {
          "output_type": "stream",
          "text": [
            "Protugese source sentence - = b'tinham comido peixe com batatas fritas ?'\n",
            "Protugese tokenized vector - beginning and end of vector is vocab_size and vocab_size+1 for Portugese = [8214, 342, 3032, 15, 5917, 20, 4347, 1189, 17, 1784, 1412, 29, 8215]\n",
            "\n",
            "English source sentence - = b'did they eat fish and chips ?'\n",
            "English tokenized vector - beginning and end of vector is vocab_size and vocab_size+1 for English = [8087, 98, 25, 1037, 1903, 4, 7283, 33, 8088]\n",
            "\n",
            "Protugese source sentence - = b'estava sempre preocupado em ser apanhado e enviado de volta .'\n",
            "Protugese tokenized vector - beginning and end of vector is vocab_size and vocab_size+1 for Portugese = [8214, 95, 198, 6850, 7990, 14, 44, 6732, 7, 6, 2211, 15, 4, 555, 2, 8215]\n",
            "\n",
            "English source sentence - = b'i was always worried about being caught and sent back .'\n",
            "English tokenized vector - beginning and end of vector is vocab_size and vocab_size+1 for English = [8087, 12, 20, 260, 5796, 35, 183, 2955, 4, 1565, 380, 2, 8088]\n",
            "\n",
            "Protugese source sentence - = b'escolhi um com o tom de pele de uma lagosta com um escald\\xc3\\xa3o .'\n",
            "Protugese tokenized vector - beginning and end of vector is vocab_size and vocab_size+1 for Portugese = [8214, 4479, 7990, 9, 20, 7, 5611, 4, 4416, 4, 10, 4622, 2878, 20, 9, 1348, 2682, 97, 2, 8215]\n",
            "\n",
            "English source sentence - = b'i chose one with the skin color of a lobster when sunburnt .'\n",
            "English tokenized vector - beginning and end of vector is vocab_size and vocab_size+1 for English = [8087, 12, 5453, 47, 28, 3, 3176, 1960, 6, 7, 3730, 1560, 7863, 59, 1148, 3254, 7947, 2, 8088]\n",
            "\n",
            "Protugese source sentence - = b'mas eu penso que isto \\xc3\\xa9 claramente falso .'\n",
            "Protugese tokenized vector - beginning and end of vector is vocab_size and vocab_size+1 for Portugese = [8214, 25, 27, 278, 5, 42, 8, 3850, 3308, 8069, 2, 8215]\n",
            "\n",
            "English source sentence - = b'but i think this is quite clearly untrue .'\n",
            "English tokenized vector - beginning and end of vector is vocab_size and vocab_size+1 for English = [8087, 23, 12, 84, 16, 13, 367, 1917, 1923, 1071, 7932, 2, 8088]\n",
            "\n",
            "Protugese source sentence - = b'temos medido o nosso progresso muito rigorosamente .'\n",
            "Protugese tokenized vector - beginning and end of vector is vocab_size and vocab_size+1 for Portugese = [8214, 62, 1181, 15, 7, 122, 3173, 7990, 33, 3264, 2745, 5868, 585, 2, 8215]\n",
            "\n",
            "English source sentence - = b'we have measured our progress very rigorously .'\n",
            "English tokenized vector - beginning and end of vector is vocab_size and vocab_size+1 for English = [8087, 14, 24, 5938, 43, 5067, 68, 4573, 7524, 171, 167, 2, 8088]\n",
            "\n",
            "Protugese source sentence - = b'e , na minha opini\\xc3\\xa3o , \\xc3\\xa9 uma cura n\\xc3\\xa3o s\\xc3\\xb3 para mim , mas para toda a gente .'\n",
            "Protugese tokenized vector - beginning and end of vector is vocab_size and vocab_size+1 for Portugese = [8214, 8059, 1, 24, 69, 7276, 1, 8, 10, 6346, 13, 105, 11, 297, 1, 25, 11, 166, 3, 2002, 2, 8215]\n",
            "\n",
            "English source sentence - = b\"and from what i feel , it 's a cure for me , but for us all .\"\n",
            "English tokenized vector - beginning and end of vector is vocab_size and vocab_size+1 for English = [8087, 4, 48, 29, 12, 3483, 1, 19, 8, 9, 7, 3373, 21, 131, 1, 23, 21, 93, 287, 2, 8088]\n",
            "\n",
            "Protugese source sentence - = b'\\xc3\\xa9 um trabalho em desenvolvimento de uma hist\\xc3\\xb3ria pessoal para uma hist\\xc3\\xb3ria global .'\n",
            "Protugese tokenized vector - beginning and end of vector is vocab_size and vocab_size+1 for Portugese = [8214, 8, 9, 259, 14, 1248, 4, 10, 249, 3067, 11, 10, 249, 927, 2, 8215]\n",
            "\n",
            "English source sentence - = b\"it 's a work in progress from a personal story to a global history .\"\n",
            "English tokenized vector - beginning and end of vector is vocab_size and vocab_size+1 for English = [8087, 19, 8, 9, 7, 187, 11, 5067, 48, 7, 791, 360, 5, 7, 350, 843, 2, 8088]\n",
            "\n",
            "Protugese source sentence - = b'quero dizer , \\xc3\\xa9 uma proposta perdedora .'\n",
            "Protugese tokenized vector - beginning and end of vector is vocab_size and vocab_size+1 for Portugese = [8214, 167, 210, 1, 8, 10, 6844, 7990, 4073, 4310, 2, 8215]\n",
            "\n",
            "English source sentence - = b\"i mean , it 's just a losing proposition .\"\n",
            "English tokenized vector - beginning and end of vector is vocab_size and vocab_size+1 for English = [8087, 12, 333, 1, 19, 8, 9, 54, 7, 4613, 5891, 4052, 2, 8088]\n",
            "\n",
            "Protugese source sentence - = b'ent\\xc3\\xa3o , como \\xc3\\xa9 que temos estas conversas mais facilmente e mais vezes ?'\n",
            "Protugese tokenized vector - beginning and end of vector is vocab_size and vocab_size+1 for Portugese = [8214, 119, 1, 21, 8, 5, 62, 128, 6350, 26, 6984, 6, 26, 413, 29, 8215]\n",
            "\n",
            "English source sentence - = b'so , how do we have these conversations more easily and more often ?'\n",
            "English tokenized vector - beginning and end of vector is vocab_size and vocab_size+1 for English = [8087, 169, 1, 61, 30, 14, 24, 58, 6414, 67, 3489, 4, 67, 2685, 33, 8088]\n",
            "\n",
            "Protugese source sentence - = b'e emitam certificados falsos .'\n",
            "Protugese tokenized vector - beginning and end of vector is vocab_size and vocab_size+1 for Portugese = [8214, 6, 5490, 90, 4877, 36, 6299, 2, 8215]\n",
            "\n",
            "English source sentence - = b'and issue rogue certificates .'\n",
            "English tokenized vector - beginning and end of vector is vocab_size and vocab_size+1 for English = [8087, 4, 2039, 6573, 4994, 7760, 7293, 7946, 2, 8088]\n",
            "\n",
            "Protugese source sentence - = b\"`` ent\\xc3\\xa3o e se n\\xc3\\xb3s come\\xc3\\xa7\\xc3\\xa1ssemos a usar a teoria dos cinco sentidos em todos os nossos `` '' designs '' '' ? ''\"\n",
            "Protugese tokenized vector - beginning and end of vector is vocab_size and vocab_size+1 for Portugese = [8214, 32, 77, 6, 16, 64, 1236, 6762, 1317, 3, 258, 3, 1379, 36, 460, 1161, 17, 14, 63, 12, 7289, 8073, 51, 1036, 8073, 6119, 8215]\n",
            "\n",
            "English source sentence - = b'so what if we started using the five senses theory in all of our designs ?'\n",
            "English tokenized vector - beginning and end of vector is vocab_size and vocab_size+1 for English = [8087, 18, 29, 44, 14, 198, 283, 3, 341, 920, 9, 1650, 11, 39, 6, 43, 1132, 7946, 33, 8088]\n",
            "\n",
            "Protugese source sentence - = b'tba \\xe2\\x80\\x94 para anunciar .'\n",
            "Protugese tokenized vector - beginning and end of vector is vocab_size and vocab_size+1 for Portugese = [8214, 8074, 866, 58, 11, 5104, 281, 2, 8215]\n",
            "\n",
            "English source sentence - = b'tba , to be announced .'\n",
            "English tokenized vector - beginning and end of vector is vocab_size and vocab_size+1 for English = [8087, 7947, 1225, 1, 5, 34, 7808, 2, 8088]\n",
            "\n",
            "Protugese source sentence - = b'a estrutura tem apenas cinco metros de altura e sete andares .'\n",
            "Protugese tokenized vector - beginning and end of vector is vocab_size and vocab_size+1 for Portugese = [8214, 3, 1035, 70, 80, 460, 2037, 4, 760, 6, 1160, 2945, 181, 2, 8215]\n",
            "\n",
            "English source sentence - = b'the building is only five meters tall with seven floors .'\n",
            "English tokenized vector - beginning and end of vector is vocab_size and vocab_size+1 for English = [8087, 3, 440, 13, 122, 341, 2473, 3278, 7863, 28, 860, 2776, 7946, 2, 8088]\n",
            "\n",
            "Protugese source sentence - = b'ok , se existe algo mais estranho penso que tem que ser a energia negra .'\n",
            "Protugese tokenized vector - beginning and end of vector is vocab_size and vocab_size+1 for Portugese = [8214, 368, 1, 16, 399, 121, 26, 4127, 278, 5, 70, 5, 44, 3, 423, 2300, 2, 8215]\n",
            "\n",
            "English source sentence - = b\"okay , if there 's anything stranger i think it has to be dark energy .\"\n",
            "English tokenized vector - beginning and end of vector is vocab_size and vocab_size+1 for English = [8087, 326, 1, 44, 79, 8, 9, 544, 3672, 7863, 12, 84, 17, 86, 5, 34, 1046, 856, 2, 8088]\n",
            "\n",
            "Protugese source sentence - = b'trabalhei para a guarda costeira , fui embaixador da boa vontade da onu .'\n",
            "Protugese tokenized vector - beginning and end of vector is vocab_size and vocab_size+1 for Portugese = [8214, 5144, 11, 3, 1388, 7990, 1235, 1399, 366, 1, 385, 3827, 3000, 4705, 19, 521, 3044, 19, 602, 8075, 2, 8215]\n",
            "\n",
            "English source sentence - = b'i worked for the coastguard , was made a u.n. goodwill ambassador .'\n",
            "English tokenized vector - beginning and end of vector is vocab_size and vocab_size+1 for English = [8087, 12, 675, 21, 3, 3247, 4255, 1, 20, 182, 7, 7948, 7877, 7941, 302, 483, 97, 2389, 3390, 3034, 2, 8088]\n",
            "\n",
            "Protugese source sentence - = b'infelizmente , no meu pa\\xc3\\xads , n\\xc3\\xa3o havia dormit\\xc3\\xb3rio para raparigas , portanto fui aceite na escola de medicina mas n\\xc3\\xa3o pude ir para l\\xc3\\xa1 .'\n",
            "Protugese tokenized vector - beginning and end of vector is vocab_size and vocab_size+1 for Portugese = [8214, 1516, 1, 22, 73, 641, 1, 13, 324, 536, 1511, 2866, 7990, 11, 3267, 8073, 1, 584, 385, 5109, 7990, 24, 548, 4, 3191, 25, 13, 2461, 7990, 205, 11, 410, 2, 8215]\n",
            "\n",
            "English source sentence - = b\"unfortunately , in my country , there was n't a dormitory for girls , so i was accepted in medical school , but i could not go there .\"\n",
            "English tokenized vector - beginning and end of vector is vocab_size and vocab_size+1 for English = [8087, 1711, 1, 11, 32, 513, 1, 64, 20, 7941, 7870, 26, 7, 3034, 1280, 4414, 21, 3747, 1, 18, 12, 20, 5784, 11, 1201, 425, 1, 23, 12, 88, 36, 120, 79, 2, 8088]\n",
            "\n",
            "Protugese source sentence - = b'podem ver por que \\xc3\\xa9 que odeio o chris .'\n",
            "Protugese tokenized vector - beginning and end of vector is vocab_size and vocab_size+1 for Portugese = [8214, 74, 79, 23, 5, 8, 5, 1546, 586, 7, 7, 993, 1587, 2, 8215]\n",
            "\n",
            "English source sentence - = b'you can see why i hate chris .'\n",
            "English tokenized vector - beginning and end of vector is vocab_size and vocab_size+1 for English = [8087, 15, 31, 80, 154, 12, 3606, 715, 1883, 2, 8088]\n",
            "\n",
            "Protugese source sentence - = b'gostaria de falar sobre o porqu\\xc3\\xaa de isto acontecer , de ser uma calamidade para a sociedade , o que podemos fazer e , para terminar , o porqu\\xc3\\xaa de esta altura ser fant\\xc3\\xa1stica para se ser professor de matem\\xc3\\xa1tica .'\n",
            "Protugese tokenized vector - beginning and end of vector is vocab_size and vocab_size+1 for Portugese = [8214, 732, 4, 182, 60, 7, 2981, 4, 42, 488, 1, 4, 44, 10, 663, 1436, 516, 11, 3, 1483, 1, 7, 5, 76, 55, 8059, 1, 11, 2185, 8072, 1, 7, 2981, 4, 54, 760, 44, 1961, 7990, 11, 16, 44, 1506, 4, 1306, 2, 8215]\n",
            "\n",
            "English source sentence - = b\"so , i 'd like to talk about why that is , why that 's such a calamity for society , what we can do about it and , to close with , why this is an amazing time to be a math teacher .\"\n",
            "English tokenized vector - beginning and end of vector is vocab_size and vocab_size+1 for English = [8087, 169, 1, 7936, 8, 49, 53, 5, 209, 35, 154, 10, 156, 1, 154, 40, 8, 9, 320, 7, 1010, 2802, 733, 21, 919, 1, 29, 14, 31, 30, 35, 17, 359, 1, 5, 839, 705, 1, 154, 16, 13, 45, 550, 130, 5, 34, 7, 2125, 3073, 2, 8088]\n",
            "\n",
            "Protugese source sentence - = b'e foi um acontecimento incr\\xc3\\xadvel e uma aprendizagem incr\\xc3\\xadvel .'\n",
            "Protugese tokenized vector - beginning and end of vector is vocab_size and vocab_size+1 for Portugese = [8214, 6, 53, 9, 3868, 7990, 1627, 6, 10, 1666, 1917, 2, 8215]\n",
            "\n",
            "English source sentence - = b'and it was an amazing occurrence and an amazing understanding .'\n",
            "English tokenized vector - beginning and end of vector is vocab_size and vocab_size+1 for English = [8087, 4, 17, 20, 45, 550, 7535, 1544, 4, 45, 550, 6933, 2, 8088]\n",
            "\n",
            "Protugese source sentence - = b'n\\xc3\\xa3o havia arte visual , era tudo um audit\\xc3\\xb3rio .'\n",
            "Protugese tokenized vector - beginning and end of vector is vocab_size and vocab_size+1 for Portugese = [8214, 13, 324, 705, 3753, 1, 56, 123, 9, 5093, 5136, 2, 8215]\n",
            "\n",
            "English source sentence - = b'there was no visual art , everything was auditory .'\n",
            "English tokenized vector - beginning and end of vector is vocab_size and vocab_size+1 for English = [8087, 64, 20, 110, 1403, 831, 1, 308, 20, 7791, 5005, 2, 8088]\n",
            "\n",
            "Protugese source sentence - = b'e isso significa que pessoas , como muitos de n\\xc3\\xb3s , que temos dirigido organiza\\xc3\\xa7\\xc3\\xb5es , e que \\xc3\\xa0 nossa maneira tent\\xc3\\xa1mos encontrar as melhores pessoas que pudemos , na maioria , fracass\\xc3\\xa1mos em conseguir obter o melhor delas .'\n",
            "Protugese tokenized vector - beginning and end of vector is vocab_size and vocab_size+1 for Portugese = [8214, 6, 52, 303, 5, 225, 1, 21, 199, 4, 243, 1, 5, 62, 3213, 15, 5673, 7916, 1, 6, 5, 48, 98, 409, 7183, 7990, 361, 18, 579, 45, 5, 2461, 193, 1, 24, 5950, 8055, 1, 6290, 1088, 285, 14, 836, 942, 7, 222, 1662, 2, 8215]\n",
            "\n",
            "English source sentence - = b'and it means that people like many of us , who have run organizations , and gone out of our way to try to find the very best people we can , mostly fail to get the best out of them .'\n",
            "English tokenized vector - beginning and end of vector is vocab_size and vocab_size+1 for English = [8087, 4, 17, 292, 10, 57, 53, 138, 6, 171, 1, 82, 24, 527, 2523, 7946, 1, 4, 1237, 77, 6, 43, 123, 5, 340, 5, 189, 3, 68, 332, 57, 14, 641, 1, 2411, 6362, 5, 85, 3, 332, 77, 6, 161, 2, 8088]\n",
            "\n",
            "Protugese source sentence - = b'( mota a acelerar ) [ som ] [ toque ] [ vis\\xc3\\xa3o ] [ cheiro ] [ sabor ] jl : e \\xc3\\xa9 assim que o gr\\xc3\\xa1fico dos cinco sentidos funciona .'\n",
            "Protugese tokenized vector - beginning and end of vector is vocab_size and vocab_size+1 for Portugese = [8214, 67, 3286, 3, 3, 5326, 65, 1331, 1538, 722, 1331, 4918, 722, 1331, 3488, 722, 1331, 4875, 722, 1331, 6813, 722, 8064, 8066, 39, 6, 8, 192, 5, 7, 2690, 36, 460, 1161, 17, 637, 2, 8215]\n",
            "\n",
            "English source sentence - = b\"( motorcyle revving ) [ sound ] [ touch ] [ sight ] [ smell ] [ taste ] jl : and that 's how the five senses graph works .\"\n",
            "English tokenized vector - beginning and end of vector is vocab_size and vocab_size+1 for English = [8087, 94, 2353, 779, 615, 460, 7949, 4757, 92, 1620, 1512, 524, 1620, 6515, 524, 1620, 2456, 524, 1620, 3827, 524, 1620, 6530, 524, 7937, 7939, 56, 4, 40, 8, 9, 61, 3, 341, 920, 9, 4648, 805, 2, 8088]\n",
            "\n",
            "Protugese source sentence - = b'por exemplo , factorizar express\\xc3\\xb5es quadr\\xc3\\xa1ticas com coeficientes maiores que um .'\n",
            "Protugese tokenized vector - beginning and end of vector is vocab_size and vocab_size+1 for Portugese = [8214, 23, 251, 1, 5988, 2412, 2841, 145, 6193, 4908, 17, 20, 3595, 2369, 1349, 876, 5, 424, 2, 8215]\n",
            "\n",
            "English source sentence - = b'for example , factoring quadratics with leading coefficients greater than one .'\n",
            "English tokenized vector - beginning and end of vector is vocab_size and vocab_size+1 for English = [8087, 21, 269, 1, 1549, 46, 6593, 2800, 9, 28, 2534, 759, 5689, 9, 1944, 112, 227, 2, 8088]\n",
            "\n",
            "Protugese source sentence - = b'nuna , j\\xc3\\xa1 fazem 10 anos que n\\xc3\\xa3o te vejo .'\n",
            "Protugese tokenized vector - beginning and end of vector is vocab_size and vocab_size+1 for Portugese = [8214, 963, 367, 1, 106, 422, 349, 115, 5, 13, 333, 4911, 8069, 2, 8215]\n",
            "\n",
            "English source sentence - = b'nuna , it has been already 10 years that i haven\\xe2\\x80\\x99t seen you .'\n",
            "English tokenized vector - beginning and end of vector is vocab_size and vocab_size+1 for English = [8087, 1433, 612, 1, 17, 86, 106, 400, 343, 148, 10, 12, 651, 7941, 5794, 26, 436, 51, 2, 8088]\n",
            "\n",
            "Protugese source sentence - = b'e isso significava que ela sabia que tinha apenas uma oportunidade para recolher os seus dados .'\n",
            "Protugese tokenized vector - beginning and end of vector is vocab_size and vocab_size+1 for Portugese = [8214, 6, 52, 7202, 7990, 5, 126, 683, 5, 103, 80, 10, 982, 11, 4758, 12, 162, 740, 2, 8215]\n",
            "\n",
            "English source sentence - = b'and that meant she knew she only had one shot at collecting her data .'\n",
            "English tokenized vector - beginning and end of vector is vocab_size and vocab_size+1 for English = [8087, 4, 10, 1386, 142, 473, 142, 122, 70, 47, 3554, 38, 7745, 7863, 176, 493, 2, 8088]\n",
            "\n",
            "Protugese source sentence - = b'e resultou .'\n",
            "Protugese tokenized vector - beginning and end of vector is vocab_size and vocab_size+1 for Portugese = [8214, 6, 3380, 5703, 8075, 2, 8215]\n",
            "\n",
            "English source sentence - = b'and , it worked .'\n",
            "English tokenized vector - beginning and end of vector is vocab_size and vocab_size+1 for English = [8087, 359, 1, 17, 5494, 2, 8088]\n",
            "\n",
            "Protugese source sentence - = b'ele bateu com a cabe\\xc3\\xa7a .'\n",
            "Protugese tokenized vector - beginning and end of vector is vocab_size and vocab_size+1 for Portugese = [8214, 61, 3033, 91, 20, 3, 1238, 2, 8215]\n",
            "\n",
            "English source sentence - = b'he hit his head .'\n",
            "English tokenized vector - beginning and end of vector is vocab_size and vocab_size+1 for English = [8087, 65, 1110, 128, 853, 2, 8088]\n",
            "\n",
            "Protugese source sentence - = b'n\\xc3\\xa3o era que eu n\\xc3\\xa3o tentasse .'\n",
            "Protugese tokenized vector - beginning and end of vector is vocab_size and vocab_size+1 for Portugese = [8214, 13, 56, 5, 27, 13, 1060, 751, 2, 8215]\n",
            "\n",
            "English source sentence - = b\"it 's not because he did n't try .\"\n",
            "English tokenized vector - beginning and end of vector is vocab_size and vocab_size+1 for English = [8087, 19, 8, 9, 36, 66, 65, 98, 7941, 7870, 26, 4998, 2, 8088]\n",
            "\n",
            "Protugese source sentence - = b'eu sou um dos seus gestos de ensinar .'\n",
            "Protugese tokenized vector - beginning and end of vector is vocab_size and vocab_size+1 for Portugese = [8214, 27, 227, 9, 36, 162, 4281, 12, 4, 3209, 2, 8215]\n",
            "\n",
            "English source sentence - = b'i am one of her teaching gestures .'\n",
            "English tokenized vector - beginning and end of vector is vocab_size and vocab_size+1 for English = [8087, 12, 313, 47, 6, 176, 1458, 3017, 2893, 7946, 2, 8088]\n",
            "\n",
            "Protugese source sentence - = b'( aplausos )'\n",
            "Protugese tokenized vector - beginning and end of vector is vocab_size and vocab_size+1 for Portugese = [8214, 67, 107, 173, 8215]\n",
            "\n",
            "English source sentence - = b'( applause )'\n",
            "English tokenized vector - beginning and end of vector is vocab_size and vocab_size+1 for English = [8087, 94, 136, 192, 8088]\n",
            "\n",
            "Protugese source sentence - = b'tinham consumido bebidas com corantes ?'\n",
            "Protugese tokenized vector - beginning and end of vector is vocab_size and vocab_size+1 for Portugese = [8214, 342, 7053, 7, 7092, 3680, 20, 2378, 999, 29, 8215]\n",
            "\n",
            "English source sentence - = b'had they consumed colored drinks ?'\n",
            "English tokenized vector - beginning and end of vector is vocab_size and vocab_size+1 for English = [8087, 70, 25, 6418, 49, 1209, 55, 4278, 7946, 33, 8088]\n",
            "\n",
            "Protugese source sentence - = b'lembro-me das minhas primeiras aulas de desenho na escola como um conjunto de sentimentos contradit\\xc3\\xb3rios .'\n",
            "Protugese tokenized vector - beginning and end of vector is vocab_size and vocab_size+1 for Portugese = [8214, 1417, 8003, 38, 43, 529, 3064, 2782, 4, 6024, 24, 548, 21, 9, 863, 4, 4389, 879, 7021, 2866, 8073, 2, 8215]\n",
            "\n",
            "English source sentence - = b'i remember my first drawing lessons in school as a bunch of contradictory feelings .'\n",
            "English tokenized vector - beginning and end of vector is vocab_size and vocab_size+1 for English = [8087, 12, 466, 32, 124, 5694, 5956, 11, 377, 37, 7, 2153, 6, 4698, 1954, 5005, 7863, 2706, 7946, 2, 8088]\n",
            "\n",
            "Protugese source sentence - = b'ou seja , o impacto \\xc3\\xa9 gerado pelas pessoas , o que consomem na sua riqueza , e como isso \\xc3\\xa9 produzido .'\n",
            "Protugese tokenized vector - beginning and end of vector is vocab_size and vocab_size+1 for Portugese = [8214, 35, 1017, 1, 7, 1031, 8, 1811, 15, 726, 225, 1, 7, 5, 4669, 2752, 7990, 24, 86, 6819, 935, 1, 6, 21, 52, 8, 6847, 8069, 2, 8215]\n",
            "\n",
            "English source sentence - = b'that is , impact is generated by people , what they consume in their affluence , and how it is produced .'\n",
            "English tokenized vector - beginning and end of vector is vocab_size and vocab_size+1 for English = [8087, 10, 156, 1, 1153, 13, 6727, 7863, 60, 181, 1, 29, 25, 6418, 7863, 11, 69, 2320, 1202, 1448, 1, 4, 61, 17, 13, 2514, 7931, 2, 8088]\n",
            "\n",
            "Protugese source sentence - = b'sem piada nenhuma .'\n",
            "Protugese tokenized vector - beginning and end of vector is vocab_size and vocab_size+1 for Portugese = [8214, 136, 3783, 7990, 4247, 8055, 2, 8215]\n",
            "\n",
            "English source sentence - = b'and without the humor .'\n",
            "English tokenized vector - beginning and end of vector is vocab_size and vocab_size+1 for English = [8087, 4, 294, 3, 1990, 331, 2, 8088]\n",
            "\n",
            "Protugese source sentence - = b'por isso , juntei tudo .'\n",
            "Protugese tokenized vector - beginning and end of vector is vocab_size and vocab_size+1 for Portugese = [8214, 23, 88, 1, 3424, 304, 482, 2, 8215]\n",
            "\n",
            "English source sentence - = b'so i set up everything .'\n",
            "English tokenized vector - beginning and end of vector is vocab_size and vocab_size+1 for English = [8087, 18, 12, 398, 87, 1036, 2, 8088]\n",
            "\n",
            "Protugese source sentence - = b'o que quer que aconte\\xc3\\xa7a , n\\xc3\\xa3o desistam .'\n",
            "Protugese tokenized vector - beginning and end of vector is vocab_size and vocab_size+1 for Portugese = [8214, 7, 5, 282, 5, 5323, 1, 13, 7852, 200, 2, 8215]\n",
            "\n",
            "English source sentence - = b\"whatever happens , do n't give up .\"\n",
            "English tokenized vector - beginning and end of vector is vocab_size and vocab_size+1 for English = [8087, 1013, 1494, 1, 30, 7941, 7870, 26, 221, 217, 2, 8088]\n",
            "\n",
            "Protugese source sentence - = b'alguns s\\xc3\\xa3o mais sobre assuntos sociais , outros mais sobre assuntos econ\\xc3\\xb3micos .'\n",
            "Protugese tokenized vector - beginning and end of vector is vocab_size and vocab_size+1 for Portugese = [8214, 159, 34, 26, 60, 2057, 17, 1586, 1, 242, 26, 60, 2057, 17, 5494, 2, 8215]\n",
            "\n",
            "English source sentence - = b'some games are more about social issues , some are more about economic issues .'\n",
            "English tokenized vector - beginning and end of vector is vocab_size and vocab_size+1 for English = [8087, 89, 4653, 7863, 22, 67, 35, 280, 3331, 1, 89, 22, 67, 35, 574, 3331, 2, 8088]\n",
            "\n",
            "Protugese source sentence - = b'e na realidade , se olharem atentamente poder\\xc3\\xa3o ver an\\xc3\\xa9is \\xc3\\xa0 volta deste aglomerado .'\n",
            "Protugese tokenized vector - beginning and end of vector is vocab_size and vocab_size+1 for Portugese = [8214, 6, 24, 540, 1, 16, 1688, 3139, 7581, 2132, 79, 1298, 2952, 48, 356, 364, 1712, 7722, 527, 120, 2, 8215]\n",
            "\n",
            "English source sentence - = b\"and , in fact , if you look very carefully you 'll be able to see rings around this cluster .\"\n",
            "English tokenized vector - beginning and end of vector is vocab_size and vocab_size+1 for English = [8087, 359, 1, 11, 259, 1, 44, 15, 129, 68, 4115, 51, 8, 164, 34, 180, 5, 80, 2026, 9, 165, 16, 3780, 2, 8088]\n",
            "\n",
            "Protugese source sentence - = b'hawken cumpriu neg\\xc3\\xb3cios e ind\\xc3\\xbastria , liderando a humanidade para longe do abismo porque , com o continuado decl\\xc3\\xadnio n\\xc3\\xa3o verificado da biosfera , uma pessoa muito querida est\\xc3\\xa1 em risco aqui \\xe2\\x80\\x94 e , francamente , um risco inaceit\\xc3\\xa1vel .'\n",
            "Protugese tokenized vector - beginning and end of vector is vocab_size and vocab_size+1 for Portugese = [8214, 591, 4542, 2048, 6035, 91, 3188, 6, 1843, 5115, 601, 1, 6596, 132, 3, 3300, 11, 1343, 15, 1583, 2208, 659, 1, 20, 7, 1753, 15, 1434, 2257, 2355, 13, 4546, 439, 19, 7483, 1078, 8055, 1, 10, 311, 33, 5888, 19, 49, 14, 1131, 276, 58, 8059, 1, 6970, 147, 1, 9, 1131, 4633, 2922, 597, 2, 8215]\n",
            "\n",
            "English source sentence - = b'hawken fulfilled business and industry , leading humankind away from the abyss because , with continued unchecked decline of the biosphere , a very dear person is at risk here \\xe2\\x80\\x94 frankly , an unacceptable risk .'\n",
            "English tokenized vector - beginning and end of vector is vocab_size and vocab_size+1 for English = [8087, 954, 4148, 664, 6728, 55, 576, 4, 2130, 1, 2534, 1219, 166, 378, 48, 3, 897, 2014, 9, 1499, 1, 28, 2866, 49, 3661, 243, 1862, 49, 6404, 7863, 6, 3, 913, 6992, 1, 7, 68, 3040, 216, 374, 13, 38, 1089, 137, 42, 6351, 1, 45, 1743, 6088, 2427, 2980, 2169, 2, 8088]\n",
            "\n",
            "Protugese source sentence - = b'seria , \\xc3\\xa9 claro , uma linha horizontal no topo .'\n",
            "Protugese tokenized vector - beginning and end of vector is vocab_size and vocab_size+1 for Portugese = [8214, 5157, 1, 8, 347, 1, 10, 966, 5015, 505, 22, 6459, 2, 8215]\n",
            "\n",
            "English source sentence - = b'it would , of course , be a horizontal line along the top .'\n",
            "English tokenized vector - beginning and end of vector is vocab_size and vocab_size+1 for English = [8087, 17, 4981, 1, 6, 278, 1, 34, 7, 4250, 2900, 7863, 757, 754, 3, 1457, 2, 8088]\n",
            "\n",
            "Protugese source sentence - = b'apenas queria dizer que tenho saudades tuas e que te amo , e , por favor , volta para mim e mantem-te viva .'\n",
            "Protugese tokenized vector - beginning and end of vector is vocab_size and vocab_size+1 for Portugese = [8214, 80, 397, 224, 5, 164, 471, 6141, 5270, 6776, 17, 6, 5, 333, 4011, 1, 8059, 1, 23, 2146, 1, 356, 11, 472, 6, 3667, 8067, 8003, 333, 2589, 2, 8215]\n",
            "\n",
            "English source sentence - = b'i just wanted to say that i miss you , and i love you , and please come back to me and stay alive .'\n",
            "English tokenized vector - beginning and end of vector is vocab_size and vocab_size+1 for English = [8087, 12, 54, 267, 5, 258, 10, 12, 6651, 51, 1, 4, 12, 295, 51, 1, 4, 1814, 172, 158, 5, 81, 4, 877, 2196, 2, 8088]\n",
            "\n",
            "Protugese source sentence - = b'a minha fam\\xc3\\xadlia comia uma refei\\xc3\\xa7\\xc3\\xa3o por dia , \\xc3\\xa0 noite .'\n",
            "Protugese tokenized vector - beginning and end of vector is vocab_size and vocab_size+1 for Portugese = [8214, 3, 69, 702, 3032, 3, 10, 7632, 68, 23, 196, 1, 48, 1104, 2, 8215]\n",
            "\n",
            "English source sentence - = b'my family ate one meal per day , at night .'\n",
            "English tokenized vector - beginning and end of vector is vocab_size and vocab_size+1 for English = [8087, 32, 541, 659, 47, 5608, 7863, 494, 224, 1, 38, 698, 2, 8088]\n",
            "\n",
            "Protugese source sentence - = b'e isso tornou-se no t\\xc3\\xadtulo de um artigo da fortune .'\n",
            "Protugese tokenized vector - beginning and end of vector is vocab_size and vocab_size+1 for Portugese = [8214, 6, 52, 1224, 8003, 16, 22, 6452, 7990, 4, 9, 6728, 19, 5472, 812, 8059, 2, 8215]\n",
            "\n",
            "English source sentence - = b'and that became the headline of a fortune article .'\n",
            "English tokenized vector - beginning and end of vector is vocab_size and vocab_size+1 for English = [8087, 4, 10, 431, 3, 7642, 3599, 6, 7, 5401, 104, 4322, 2, 8088]\n",
            "\n",
            "Protugese source sentence - = b'no entanto , aqui est\\xc3\\xa1 o rel\\xc3\\xb3gio do chris .'\n",
            "Protugese tokenized vector - beginning and end of vector is vocab_size and vocab_size+1 for Portugese = [8214, 22, 758, 1, 84, 49, 7, 2805, 6124, 7, 15, 993, 1587, 2, 8215]\n",
            "\n",
            "English source sentence - = b\"however , here 's chris 's clock .\"\n",
            "English tokenized vector - beginning and end of vector is vocab_size and vocab_size+1 for English = [8087, 1252, 1, 137, 8, 9, 715, 1883, 8, 9, 4934, 2, 8088]\n",
            "\n",
            "Protugese source sentence - = b'o que aconteceu \\xc3\\xa9 o mesmo que num acelerador de part\\xc3\\xadculas por\\xc3\\xa9m a muito grande , grande escala .'\n",
            "Protugese tokenized vector - beginning and end of vector is vocab_size and vocab_size+1 for Portugese = [8214, 7, 5, 710, 8, 7, 78, 5, 100, 5832, 360, 4, 2744, 614, 5341, 3, 33, 1345, 1, 148, 1347, 2, 8215]\n",
            "\n",
            "English source sentence - = b\"what 's happened is a particle accelerator at a huge , huge scale .\"\n",
            "English tokenized vector - beginning and end of vector is vocab_size and vocab_size+1 for English = [8087, 196, 8, 9, 521, 13, 7, 5588, 3398, 5957, 6162, 38, 7, 4639, 1, 630, 1212, 2, 8088]\n",
            "\n",
            "Protugese source sentence - = b'e estas s\\xc3\\xa3o as quest\\xc3\\xb5es com que temos de nos preocupar durante os pr\\xc3\\xb3ximos 50 anos .'\n",
            "Protugese tokenized vector - beginning and end of vector is vocab_size and vocab_size+1 for Portugese = [8214, 6, 128, 34, 18, 1213, 20, 5, 62, 4, 31, 2811, 7990, 183, 12, 1724, 729, 102, 2, 8215]\n",
            "\n",
            "English source sentence - = b'and these are the questions that we have to worry about for the next 50 years .'\n",
            "English tokenized vector - beginning and end of vector is vocab_size and vocab_size+1 for English = [8087, 4, 58, 22, 3, 739, 10, 14, 24, 5, 2392, 35, 21, 3, 244, 665, 228, 2, 8088]\n",
            "\n",
            "Protugese source sentence - = b'a energia renov\\xc3\\xa1vel \\xc3\\xa9 27 % do nosso total , a caminhar para os 100 % .'\n",
            "Protugese tokenized vector - beginning and end of vector is vocab_size and vocab_size+1 for Portugese = [8214, 3, 423, 4754, 184, 8, 8008, 8013, 233, 15, 122, 2659, 1, 3, 6711, 7990, 11, 12, 4363, 1421, 8215]\n",
            "\n",
            "English source sentence - = b'renewable energy is 27 percent of our total , going for 100 percent .'\n",
            "English tokenized vector - beginning and end of vector is vocab_size and vocab_size+1 for English = [8087, 7457, 482, 13, 4335, 7863, 193, 6, 43, 6161, 312, 1, 73, 21, 643, 636, 2, 8088]\n",
            "\n",
            "Protugese source sentence - = b'\\xc3\\xa9 uma coisa maravilhosa passar esse testemunho .'\n",
            "Protugese tokenized vector - beginning and end of vector is vocab_size and vocab_size+1 for Portugese = [8214, 8, 10, 133, 2256, 7990, 636, 180, 2121, 5204, 595, 2, 8215]\n",
            "\n",
            "English source sentence - = b\"it 's an amazing feeling to have that lineage .\"\n",
            "English tokenized vector - beginning and end of vector is vocab_size and vocab_size+1 for English = [8087, 19, 8, 9, 45, 550, 1022, 5, 24, 10, 660, 686, 2, 8088]\n",
            "\n",
            "Protugese source sentence - = b\"`` `` '' a forma como o custo do que desperdi\\xc3\\xa7o , o que \\xc3\\xa9 perdido , `` '' se alguma vez me esquecer de que tu `` um dia vir\\xc3\\xa1s viver aqui tamb\\xc3\\xa9m . '' bem , todos os dias da minha vida desde ent\\xc3\\xa3o , `` '' a crian\\xc3\\xa7a de amanh\\xc3\\xa3 '' '' tem falado para mim com uma mensagem simples , mas profunda , que eu pretendi partilhar convosco . ''\"\n",
            "Protugese tokenized vector - beginning and end of vector is vocab_size and vocab_size+1 for Portugese = [8214, 149, 3, 96, 21, 7, 1496, 15, 5, 3218, 2769, 8069, 1, 7, 5, 8, 4072, 177, 16, 287, 134, 38, 6658, 7990, 4, 5, 795, 777, 9, 231, 2063, 1761, 7990, 500, 84, 640, 503, 104, 1, 63, 12, 473, 19, 69, 143, 316, 119, 177, 3, 1169, 4, 5824, 108, 70, 1919, 15, 11, 472, 20, 10, 1305, 506, 1, 25, 2979, 1, 5, 27, 5175, 203, 873, 6349, 37, 8215]\n",
            "\n",
            "English source sentence - = b\"`` the way the cost of what i squander , what is lost , if ever i forget that you will someday come and live here too . '' '' well , every day of my life since , `` '' tomorrow 's child '' '' has spoken to me with one simple but profound message , which i presume to share with you . ''\"\n",
            "English tokenized vector - beginning and end of vector is vocab_size and vocab_size+1 for English = [8087, 62, 3, 123, 3, 867, 6, 29, 12, 7946, 1932, 7545, 7945, 1, 29, 13, 6664, 1, 44, 276, 12, 2369, 10, 15, 97, 1879, 251, 172, 4, 271, 145, 463, 139, 133, 1, 146, 251, 6, 32, 219, 3828, 116, 3414, 8, 9, 1038, 286, 86, 5838, 212, 5, 81, 28, 47, 476, 23, 4012, 3723, 1, 91, 12, 3443, 7372, 7863, 5, 533, 28, 51, 75, 8088]\n",
            "\n",
            "Protugese source sentence - = b'e a boa vontade do mercado \\xc3\\xa9 espantosa .'\n",
            "Protugese tokenized vector - beginning and end of vector is vocab_size and vocab_size+1 for Portugese = [8214, 6, 3, 521, 3044, 15, 1548, 8, 5486, 2, 8215]\n",
            "\n",
            "English source sentence - = b'and the goodwill of the marketplace is astonishing .'\n",
            "English tokenized vector - beginning and end of vector is vocab_size and vocab_size+1 for English = [8087, 4, 3, 483, 97, 6, 3, 1436, 306, 13, 7315, 117, 2, 8088]\n",
            "\n",
            "Protugese source sentence - = b'\\xc3\\xa9 uma cole\\xc3\\xa7\\xc3\\xa3o de rostos .'\n",
            "Protugese tokenized vector - beginning and end of vector is vocab_size and vocab_size+1 for Portugese = [8214, 8, 10, 2711, 68, 4, 5163, 8073, 2, 8215]\n",
            "\n",
            "English source sentence - = b\"it 's a collection of faces .\"\n",
            "English tokenized vector - beginning and end of vector is vocab_size and vocab_size+1 for English = [8087, 19, 8, 9, 7, 5448, 6, 7209, 2, 8088]\n",
            "\n",
            "Protugese source sentence - = b'emiss\\xc3\\xb5es l\\xc3\\xadquidas de gases de efeito de estufa desceram 82 % em tonelagem absoluta .'\n",
            "Protugese tokenized vector - beginning and end of vector is vocab_size and vocab_size+1 for Portugese = [8214, 5755, 6584, 18, 4, 1881, 129, 4, 1745, 4, 5742, 803, 7990, 7857, 90, 8014, 8008, 233, 14, 6785, 318, 756, 6113, 8055, 2, 8215]\n",
            "\n",
            "English source sentence - = b'net greenhouse gas emissions down 82 percent in absolute tonnage .'\n",
            "English tokenized vector - beginning and end of vector is vocab_size and vocab_size+1 for English = [8087, 2841, 1638, 1282, 2182, 7231, 213, 7887, 898, 193, 11, 6128, 1404, 612, 1415, 2, 8088]\n",
            "\n",
            "Protugese source sentence - = b\"`` pensei que o espa\\xc3\\xa7o principal para mostrar o meu trabalho era a internet porque eu queria um conceito aberto que convidasse todos a clicar no bot\\xc3\\xa3o `` '' partilhar '' '' , tanto no computador como no c\\xc3\\xa9rebro . ''\"\n",
            "Protugese tokenized vector - beginning and end of vector is vocab_size and vocab_size+1 for Portugese = [8214, 32, 1384, 5, 7, 427, 1591, 11, 621, 7, 73, 259, 56, 3, 763, 47, 27, 397, 9, 1851, 2949, 7990, 5, 3843, 465, 63, 3, 3731, 127, 22, 6378, 51, 3071, 8072, 268, 524, 22, 889, 21, 22, 581, 37, 8215]\n",
            "\n",
            "English source sentence - = b'i thought that the main space to show my work was the internet because i want an open concept that invites everybody to push the share button in both the computer and their brain .'\n",
            "English tokenized vector - beginning and end of vector is vocab_size and vocab_size+1 for English = [8087, 12, 293, 10, 3, 1437, 404, 5, 261, 32, 187, 20, 3, 662, 66, 12, 102, 45, 495, 2564, 10, 4441, 175, 620, 5, 2278, 3, 533, 3934, 7863, 11, 395, 3, 554, 4, 69, 475, 2, 8088]\n",
            "\n",
            "Protugese source sentence - = b'estava t\\xc3\\xa3o habituado a essa pessoa que n\\xc3\\xa3o queria parar .'\n",
            "Protugese tokenized vector - beginning and end of vector is vocab_size and vocab_size+1 for Portugese = [8214, 95, 131, 2836, 15, 3, 185, 311, 5, 13, 397, 2610, 2, 8215]\n",
            "\n",
            "English source sentence - = b'i was so used to that person that i didn\\xe2\\x80\\x99t want to stop .'\n",
            "English tokenized vector - beginning and end of vector is vocab_size and vocab_size+1 for English = [8087, 12, 20, 18, 237, 5, 10, 374, 10, 12, 809, 7941, 5794, 26, 102, 5, 1537, 2, 8088]\n",
            "\n",
            "Protugese source sentence - = b'e penso que existem quatro tipos principais , e o primeiro tipo que quero descrever \\xc3\\xa9 analisar o muito grande .'\n",
            "Protugese tokenized vector - beginning and end of vector is vocab_size and vocab_size+1 for Portugese = [8214, 6, 278, 5, 355, 421, 667, 5392, 171, 1, 6, 7, 270, 154, 5, 167, 5061, 8, 4181, 7, 33, 1345, 2, 8215]\n",
            "\n",
            "English source sentence - = b'and i think there are four major types , and the first type that i want to describe is probing the very big .'\n",
            "English tokenized vector - beginning and end of vector is vocab_size and vocab_size+1 for English = [8087, 4, 12, 84, 64, 22, 358, 1074, 4355, 7946, 1, 4, 3, 124, 847, 10, 12, 102, 5, 2635, 13, 951, 7782, 7863, 3, 68, 1833, 2, 8088]\n",
            "\n",
            "Protugese source sentence - = b'ora , alice teve dificuldades em obter financiamento para a sua pesquisa .'\n",
            "Protugese tokenized vector - beginning and end of vector is vocab_size and vocab_size+1 for Portugese = [8214, 443, 1, 415, 2712, 653, 7846, 14, 942, 6973, 816, 11, 3, 86, 1509, 2, 8215]\n",
            "\n",
            "English source sentence - = b'now , alice had trouble getting funding for her research .'\n",
            "English tokenized vector - beginning and end of vector is vocab_size and vocab_size+1 for English = [8087, 111, 1, 958, 588, 70, 6510, 318, 5661, 7863, 21, 176, 1679, 2, 8088]\n",
            "\n",
            "Protugese source sentence - = b'para onde est\\xc3\\xa1s a olhar ?'\n",
            "Protugese tokenized vector - beginning and end of vector is vocab_size and vocab_size+1 for Portugese = [8214, 11, 85, 2267, 3, 4971, 29, 8215]\n",
            "\n",
            "English source sentence - = b'what are you looking at ?'\n",
            "English tokenized vector - beginning and end of vector is vocab_size and vocab_size+1 for English = [8087, 29, 22, 15, 281, 830, 33, 8088]\n",
            "\n",
            "Protugese source sentence - = b'alguns jogos s\\xc3\\xa3o mais sobre assuntos de guerra .'\n",
            "Protugese tokenized vector - beginning and end of vector is vocab_size and vocab_size+1 for Portugese = [8214, 159, 7734, 34, 26, 60, 2057, 17, 4, 2042, 2, 8215]\n",
            "\n",
            "English source sentence - = b'some games are more about warfare .'\n",
            "English tokenized vector - beginning and end of vector is vocab_size and vocab_size+1 for English = [8087, 89, 4653, 7863, 22, 67, 35, 561, 1000, 7932, 2, 8088]\n",
            "\n",
            "Protugese source sentence - = b'eu era um jovem , e j\\xc3\\xa1 tinha entrado e desistido da faculdade algumas vezes .'\n",
            "Protugese tokenized vector - beginning and end of vector is vocab_size and vocab_size+1 for Portugese = [8214, 27, 56, 9, 3804, 1, 6, 106, 103, 5488, 15, 6, 7852, 676, 19, 3310, 7990, 217, 413, 2, 8215]\n",
            "\n",
            "English source sentence - = b'i was a young man , and i had been dropping in and out of college .'\n",
            "English tokenized vector - beginning and end of vector is vocab_size and vocab_size+1 for English = [8087, 12, 20, 7, 366, 406, 1, 4, 12, 70, 106, 7239, 46, 11, 4, 77, 6, 2953, 2, 8088]\n",
            "\n",
            "Protugese source sentence - = b'o google era meu amigo .'\n",
            "Protugese tokenized vector - beginning and end of vector is vocab_size and vocab_size+1 for Portugese = [8214, 7, 1880, 56, 73, 4703, 2, 8215]\n",
            "\n",
            "English source sentence - = b'google was my friend .'\n",
            "English tokenized vector - beginning and end of vector is vocab_size and vocab_size+1 for English = [8087, 1344, 20, 32, 1445, 2, 8088]\n",
            "\n",
            "Protugese source sentence - = b'e a pequena caixa indicadora faz as luzes brilhar .'\n",
            "Protugese tokenized vector - beginning and end of vector is vocab_size and vocab_size+1 for Portugese = [8214, 6, 3, 463, 1611, 7752, 1289, 280, 18, 5951, 3229, 8072, 2, 8215]\n",
            "\n",
            "English source sentence - = b'and the indicator box makes the lights flash .'\n",
            "English tokenized vector - beginning and end of vector is vocab_size and vocab_size+1 for English = [8087, 4, 3, 7617, 50, 1497, 344, 3, 3589, 6022, 2, 8088]\n",
            "\n",
            "Protugese source sentence - = b't\\xc3\\xaam infraestruturas caseiras e uma vida urbana vibrante .'\n",
            "Protugese tokenized vector - beginning and end of vector is vocab_size and vocab_size+1 for Portugese = [8214, 87, 3427, 17, 1479, 7829, 6, 10, 143, 5604, 3, 5592, 336, 2, 8215]\n",
            "\n",
            "English source sentence - = b'they have home-brewed infrastructure and vibrant urban life .'\n",
            "English tokenized vector - beginning and end of vector is vocab_size and vocab_size+1 for English = [8087, 25, 24, 410, 7876, 2253, 2104, 7863, 5130, 4, 1259, 6843, 26, 1922, 199, 2, 8088]\n",
            "\n",
            "Protugese source sentence - = b'acho que , pelo menos um deles , ter\\xc3\\xa1 algo de interessante a dizer .'\n",
            "Protugese tokenized vector - beginning and end of vector is vocab_size and vocab_size+1 for Portugese = [8214, 291, 99, 1, 135, 220, 9, 915, 1, 3368, 121, 4, 789, 3, 210, 2, 8215]\n",
            "\n",
            "English source sentence - = b'my guess is at least one of them has something interesting to say .'\n",
            "English tokenized vector - beginning and end of vector is vocab_size and vocab_size+1 for English = [8087, 32, 1610, 13, 38, 777, 47, 6, 100, 86, 127, 462, 5, 252, 2, 8088]\n",
            "\n",
            "Protugese source sentence - = b'estava a entrar em bancarrota no outono passado porque algu\\xc3\\xa9m os hackou .'\n",
            "Protugese tokenized vector - beginning and end of vector is vocab_size and vocab_size+1 for Portugese = [8214, 95, 3, 1276, 14, 1330, 1634, 404, 22, 3530, 602, 7, 1145, 47, 284, 12, 591, 1852, 290, 2, 8215]\n",
            "\n",
            "English source sentence - = b'it was running into bankruptcy last fall because they were hacked into .'\n",
            "English tokenized vector - beginning and end of vector is vocab_size and vocab_size+1 for English = [8087, 17, 20, 1262, 99, 1919, 1071, 1783, 2378, 214, 1475, 66, 25, 72, 3476, 55, 2178, 7942, 2, 8088]\n",
            "\n",
            "Protugese source sentence - = b'eu vendo um produto a um mercado que n\\xc3\\xa3o o quer , mas \\xc3\\xa9 for\\xc3\\xa7ado por lei a compr\\xc3\\xa1-lo .'\n",
            "Protugese tokenized vector - beginning and end of vector is vocab_size and vocab_size+1 for Portugese = [8214, 27, 1300, 15, 9, 2810, 3, 9, 1548, 5, 13, 7, 2130, 1, 25, 8, 7377, 7, 23, 1780, 3, 4868, 178, 8003, 232, 2, 8215]\n",
            "\n",
            "English source sentence - = b\"i sell a product to a market that does n't want it , but is forced by law to buy it .\"\n",
            "English tokenized vector - beginning and end of vector is vocab_size and vocab_size+1 for English = [8087, 12, 2509, 7, 2031, 5, 7, 1603, 10, 149, 7941, 7870, 26, 102, 19, 1, 23, 13, 2626, 60, 1366, 5, 1079, 19, 2, 8088]\n",
            "\n",
            "Protugese source sentence - = b'mas , atualmente , vivemos num mundo muito audioc\\xc3\\xaantrico .'\n",
            "Protugese tokenized vector - beginning and end of vector is vocab_size and vocab_size+1 for Portugese = [8214, 195, 1, 2112, 1, 1673, 100, 111, 33, 5093, 2081, 6760, 3057, 2, 8215]\n",
            "\n",
            "English source sentence - = b'however , in this day and age , we live in a very audio-centric world .'\n",
            "English tokenized vector - beginning and end of vector is vocab_size and vocab_size+1 for English = [8087, 1252, 1, 11, 16, 251, 4, 686, 1, 14, 271, 11, 7, 68, 6453, 7876, 6833, 263, 150, 2, 8088]\n",
            "\n",
            "Protugese source sentence - = b\"`` apresento-vos `` '' a crian\\xc3\\xa7a de amanh\\xc3\\xa3 '' '' . `` `` sem um nome , um rosto invis\\xc3\\xadvel e sem saber o teu tempo ou lugar , `` '' crian\\xc3\\xa7a de amanh\\xc3\\xa3 , ainda antes da nascen\\xc3\\xa7a , `` '' conheci-te pela primeira vez na manh\\xc3\\xa3 da passada ter\\xc3\\xa7a-feira . ''\"\n",
            "Protugese tokenized vector - beginning and end of vector is vocab_size and vocab_size+1 for Portugese = [8214, 32, 4893, 8069, 8003, 780, 51, 3, 1169, 4, 5824, 315, 299, 136, 9, 1570, 1, 9, 5376, 3425, 7990, 6, 136, 479, 7, 2798, 163, 35, 965, 177, 1169, 4, 5824, 1, 130, 269, 19, 4084, 2989, 177, 5074, 8003, 333, 139, 252, 134, 24, 5702, 19, 4593, 7990, 440, 635, 8003, 3012, 37, 8215]\n",
            "\n",
            "English source sentence - = b\"`` please meet `` '' tomorrow 's child . '' '' `` `` without a name , an unseen face , and knowing not your time or place , tomorrow 's child , though yet unborn , i met you first last tuesday morn . ''\"\n",
            "English tokenized vector - beginning and end of vector is vocab_size and vocab_size+1 for English = [8087, 62, 1814, 5935, 159, 3414, 8, 9, 1038, 4142, 62, 294, 7, 1232, 1, 45, 1924, 1765, 212, 1077, 1, 4, 1894, 36, 76, 130, 50, 510, 1, 3414, 8, 9, 1038, 1, 721, 716, 823, 2194, 1, 12, 761, 15, 124, 214, 1139, 239, 251, 1411, 7941, 75, 8088]\n",
            "\n",
            "Protugese source sentence - = b'levei a escola a s\\xc3\\xa9rio e pela primeira vez , em toda a minha vida , eu recebi um pr\\xc3\\xa9mio acad\\xc3\\xa9mico por excel\\xc3\\xaancia e e recebi uma men\\xc3\\xa7\\xc3\\xa3o honrosa , no primeiro semestre do ensino secund\\xc3\\xa1rio .'\n",
            "Protugese tokenized vector - beginning and end of vector is vocab_size and vocab_size+1 for Portugese = [8214, 1777, 203, 3, 548, 3, 1831, 7990, 6, 139, 252, 363, 1, 14, 166, 3, 69, 218, 1, 27, 5643, 9, 4233, 7136, 7, 23, 2045, 4258, 1147, 7990, 6, 6, 5643, 10, 3287, 68, 4818, 3898, 1, 22, 270, 1208, 2046, 7990, 15, 1221, 3258, 2, 8215]\n",
            "\n",
            "English source sentence - = b\"i took school seriously , and for the first time ever in my life , i received an academic award for excellence , and made dean 's list from the first semester in high school .\"\n",
            "English tokenized vector - beginning and end of vector is vocab_size and vocab_size+1 for English = [8087, 12, 314, 377, 3555, 1, 4, 21, 3, 124, 130, 276, 11, 32, 199, 1, 12, 3096, 45, 5216, 7863, 5468, 7863, 21, 7220, 386, 1, 4, 182, 3040, 7941, 8, 9, 1986, 48, 3, 124, 5032, 6757, 216, 11, 437, 425, 2, 8088]\n",
            "\n",
            "Protugese source sentence - = b'portanto os governos ocidentais est\\xc3\\xa3o a fornecer ferramentas aos governos totalitaristas para fazer isto contra os seus cidad\\xc3\\xa3os .'\n",
            "Protugese tokenized vector - beginning and end of vector is vocab_size and vocab_size+1 for Portugese = [8214, 584, 12, 2142, 3184, 3118, 213, 71, 3, 5473, 7990, 1093, 140, 2142, 2659, 6926, 2414, 11, 55, 42, 403, 12, 162, 4874, 8073, 2, 8215]\n",
            "\n",
            "English source sentence - = b'so western governments are providing totalitarian governments with tools to do this against their own citizens .'\n",
            "English tokenized vector - beginning and end of vector is vocab_size and vocab_size+1 for English = [8087, 18, 2059, 1991, 22, 4008, 6161, 958, 4365, 864, 1991, 28, 915, 5, 30, 16, 487, 69, 205, 3639, 2, 8088]\n",
            "\n",
            "Protugese source sentence - = b'este mercado \\xc3\\xa9 doido , minha gente .'\n",
            "Protugese tokenized vector - beginning and end of vector is vocab_size and vocab_size+1 for Portugese = [8214, 59, 1548, 8, 120, 1430, 1, 69, 2002, 2, 8215]\n",
            "\n",
            "English source sentence - = b\"this market 's crazy , everybody .\"\n",
            "English tokenized vector - beginning and end of vector is vocab_size and vocab_size+1 for English = [8087, 16, 1436, 8, 9, 2379, 1, 1581, 2, 8088]\n",
            "\n",
            "Protugese source sentence - = b'quando n\\xc3\\xa3o conseguia adormecer devido ao intenso frio , ou \\xc3\\xa0s dores da fome , eu esperava que , na manh\\xc3\\xa3 seguinte , a minha irm\\xc3\\xa3 voltasse para me acordar com a minha comida preferida .'\n",
            "Protugese tokenized vector - beginning and end of vector is vocab_size and vocab_size+1 for Portugese = [8214, 40, 13, 1296, 2718, 3796, 383, 791, 41, 3808, 2396, 2764, 1, 35, 165, 478, 19, 2634, 1, 27, 5484, 7990, 99, 1, 24, 5702, 1229, 1, 3, 69, 5968, 555, 465, 11, 38, 2513, 30, 20, 3, 69, 1125, 6530, 2, 8215]\n",
            "\n",
            "English source sentence - = b'when i could not fall asleep from bitter cold or hunger pains , i hoped that , the next morning , my sister would come back to wake me up with my favorite food .'\n",
            "English tokenized vector - beginning and end of vector is vocab_size and vocab_size+1 for English = [8087, 59, 12, 88, 36, 1475, 886, 6294, 702, 48, 946, 1557, 2721, 50, 5988, 235, 2119, 7946, 1, 12, 1236, 49, 40, 1, 3, 244, 2354, 1, 32, 4558, 71, 172, 158, 5, 4987, 81, 87, 28, 32, 1474, 694, 2, 8088]\n",
            "\n",
            "Protugese source sentence - = b'voc\\xc3\\xaas s\\xc3\\xa3o os meus altifalantes e amplificam o som .'\n",
            "Protugese tokenized vector - beginning and end of vector is vocab_size and vocab_size+1 for Portugese = [8214, 118, 34, 12, 266, 351, 706, 1919, 468, 6, 7935, 1275, 7, 1538, 2, 8215]\n",
            "\n",
            "English source sentence - = b'you people are like my loudspeakers , and amplify sound .'\n",
            "English tokenized vector - beginning and end of vector is vocab_size and vocab_size+1 for English = [8087, 15, 57, 22, 53, 32, 2036, 5269, 1, 4, 6465, 1127, 3344, 1512, 2, 8088]\n",
            "\n"
          ],
          "name": "stdout"
        },
        {
          "output_type": "execute_result",
          "data": {
            "text/plain": [
              "(<tf.Tensor: shape=(64, 38), dtype=int64, numpy=\n",
              " array([[8214,  342, 3032, ...,    0,    0,    0],\n",
              "        [8214,   95,  198, ...,    0,    0,    0],\n",
              "        [8214, 4479, 7990, ...,    0,    0,    0],\n",
              "        ...,\n",
              "        [8214,  584,   12, ...,    0,    0,    0],\n",
              "        [8214,   59, 1548, ...,    0,    0,    0],\n",
              "        [8214,  118,   34, ...,    0,    0,    0]])>,\n",
              " <tf.Tensor: shape=(64, 40), dtype=int64, numpy=\n",
              " array([[8087,   98,   25, ...,    0,    0,    0],\n",
              "        [8087,   12,   20, ...,    0,    0,    0],\n",
              "        [8087,   12, 5453, ...,    0,    0,    0],\n",
              "        ...,\n",
              "        [8087,   18, 2059, ...,    0,    0,    0],\n",
              "        [8087,   16, 1436, ...,    0,    0,    0],\n",
              "        [8087,   15,   57, ...,    0,    0,    0]])>)"
            ]
          },
          "metadata": {
            "tags": []
          },
          "execution_count": 178
        }
      ]
    },
    {
      "cell_type": "markdown",
      "metadata": {
        "id": "nBQuibYA4n0n"
      },
      "source": [
        "## Positional encoding\n",
        "\n",
        "Since this model doesn't contain any recurrence or convolution, positional encoding is added to give the model some information about the relative position of the words in the sentence. \n",
        "\n",
        "The positional encoding vector is added to the embedding vector. Embeddings represent a token in a d-dimensional space where tokens with similar meaning will be closer to each other. But the embeddings do not encode the relative position of words in a sentence. So after adding the positional encoding, words will be closer to each other based on the *similarity of their meaning and their position in the sentence*, in the d-dimensional space.\n",
        "\n",
        "See the notebook on [positional encoding](https://github.com/tensorflow/examples/blob/master/community/en/position_encoding.ipynb) to learn more about it. The formula for calculating the positional encoding is as follows:\n",
        "\n",
        "$$\\Large{PE_{(pos, 2i)} = sin(pos / 10000^{2i / d_{model}})} $$\n",
        "$$\\Large{PE_{(pos, 2i+1)} = cos(pos / 10000^{2i / d_{model}})} $$"
      ]
    },
    {
      "cell_type": "code",
      "metadata": {
        "id": "WhIOZjMNKujn"
      },
      "source": [
        "def get_angles(pos, i, d_model):\n",
        "  angle_rates = 1 / np.power(10000, (2 * (i//2)) / np.float32(d_model))\n",
        "  return pos * angle_rates"
      ],
      "execution_count": null,
      "outputs": []
    },
    {
      "cell_type": "code",
      "metadata": {
        "id": "1Rz82wEs5biZ"
      },
      "source": [
        "def positional_encoding(position, d_model):\n",
        "  angle_rads = get_angles(np.arange(position)[:, np.newaxis],\n",
        "                          np.arange(d_model)[np.newaxis, :],\n",
        "                          d_model)\n",
        "  \n",
        "  # apply sin to even indices in the array; 2i\n",
        "  angle_rads[:, 0::2] = np.sin(angle_rads[:, 0::2])\n",
        "  \n",
        "  # apply cos to odd indices in the array; 2i+1\n",
        "  angle_rads[:, 1::2] = np.cos(angle_rads[:, 1::2])\n",
        "    \n",
        "  pos_encoding = angle_rads[np.newaxis, ...]\n",
        "    \n",
        "  return tf.cast(pos_encoding, dtype=tf.float32)"
      ],
      "execution_count": null,
      "outputs": []
    },
    {
      "cell_type": "code",
      "metadata": {
        "id": "1kLCla68EloE"
      },
      "source": [
        "pos_encoding = positional_encoding(50, 512)\n",
        "print (pos_encoding.shape)\n",
        "\n",
        "plt.pcolormesh(pos_encoding[0], cmap='RdBu')\n",
        "plt.xlabel('Depth')\n",
        "plt.xlim((0, 512))\n",
        "plt.ylabel('Position')\n",
        "plt.colorbar()\n",
        "plt.show()"
      ],
      "execution_count": null,
      "outputs": []
    },
    {
      "cell_type": "markdown",
      "metadata": {
        "id": "a_b4ou4TYqUN"
      },
      "source": [
        "## Masking"
      ]
    },
    {
      "cell_type": "markdown",
      "metadata": {
        "id": "s42Uydjkv0hF"
      },
      "source": [
        "Mask all the pad tokens in the batch of sequence. It ensures that the model does not treat padding as the input. The mask indicates where pad value `0` is present: it outputs a `1` at those locations, and a `0` otherwise."
      ]
    },
    {
      "cell_type": "code",
      "metadata": {
        "id": "U2i8-e1s8ti9"
      },
      "source": [
        "def create_padding_mask(seq):\n",
        "  seq = tf.cast(tf.math.equal(seq, 0), tf.float32)\n",
        "  \n",
        "  # add extra dimensions to add the padding\n",
        "  # to the attention logits.\n",
        "  return seq[:, tf.newaxis, tf.newaxis, :]  # (batch_size, 1, 1, seq_len)"
      ],
      "execution_count": null,
      "outputs": []
    },
    {
      "cell_type": "code",
      "metadata": {
        "id": "A7BYeBCNvi7n"
      },
      "source": [
        "x = tf.constant([[7, 6, 0, 0, 1], [1, 2, 3, 0, 0], [0, 0, 0, 4, 5]])\n",
        "create_padding_mask(x)"
      ],
      "execution_count": null,
      "outputs": []
    },
    {
      "cell_type": "markdown",
      "metadata": {
        "id": "Z0hzukDBgVom"
      },
      "source": [
        "The look-ahead mask is used to mask the future tokens in a sequence. In other words, the mask indicates which entries should not be used.\n",
        "\n",
        "This means that to predict the third word, only the first and second word will be used. Similarly to predict the fourth word, only the first, second and the third word will be used and so on."
      ]
    },
    {
      "cell_type": "code",
      "metadata": {
        "id": "dVxS8OPI9uI0"
      },
      "source": [
        "def create_look_ahead_mask(size):\n",
        "  mask = 1 - tf.linalg.band_part(tf.ones((size, size)), -1, 0)\n",
        "  return mask  # (seq_len, seq_len)"
      ],
      "execution_count": null,
      "outputs": []
    },
    {
      "cell_type": "code",
      "metadata": {
        "id": "yxKGuXxaBeeE"
      },
      "source": [
        "x = tf.random.uniform((1, 3))\n",
        "temp = create_look_ahead_mask(x.shape[1])\n",
        "temp"
      ],
      "execution_count": null,
      "outputs": []
    },
    {
      "cell_type": "markdown",
      "metadata": {
        "id": "xluDl5cXYy4y"
      },
      "source": [
        "## Scaled dot product attention"
      ]
    },
    {
      "cell_type": "markdown",
      "metadata": {
        "id": "vsxEE_-Wa1gF"
      },
      "source": [
        "<img src=\"https://www.tensorflow.org/images/tutorials/transformer/scaled_attention.png\" width=\"500\" alt=\"scaled_dot_product_attention\">\n",
        "\n",
        "The attention function used by the transformer takes three inputs: Q (query), K (key), V (value). The equation used to calculate the attention weights is:\n",
        "\n",
        "$$\\Large{Attention(Q, K, V) = softmax_k(\\frac{QK^T}{\\sqrt{d_k}}) V} $$\n",
        "\n",
        "The dot-product attention is scaled by a factor of square root of the depth. This is done because for large values of depth, the dot product grows large in magnitude pushing the softmax function where it has small gradients resulting in a very hard softmax. \n",
        "\n",
        "For example, consider that `Q` and `K` have a mean of 0 and variance of 1. Their matrix multiplication will have a mean of 0 and variance of `dk`. Hence, *square root of `dk`* is used for scaling (and not any other number) because the matmul of `Q` and `K` should have a mean of 0 and variance of 1, and you get a gentler softmax.\n",
        "\n",
        "The mask is multiplied with -1e9 (close to negative infinity). This is done because the mask is summed with the scaled matrix multiplication of Q and K and is applied immediately before a softmax. The goal is to zero out these cells, and large negative inputs to softmax are near zero in the output."
      ]
    },
    {
      "cell_type": "code",
      "metadata": {
        "id": "LazzUq3bJ5SH"
      },
      "source": [
        "def scaled_dot_product_attention(q, k, v, mask):\n",
        "  \"\"\"Calculate the attention weights.\n",
        "  q, k, v must have matching leading dimensions.\n",
        "  k, v must have matching penultimate dimension, i.e.: seq_len_k = seq_len_v.\n",
        "  The mask has different shapes depending on its type(padding or look ahead) \n",
        "  but it must be broadcastable for addition.\n",
        "  \n",
        "  Args:\n",
        "    q: query shape == (..., seq_len_q, depth)\n",
        "    k: key shape == (..., seq_len_k, depth)\n",
        "    v: value shape == (..., seq_len_v, depth_v)\n",
        "    mask: Float tensor with shape broadcastable \n",
        "          to (..., seq_len_q, seq_len_k). Defaults to None.\n",
        "    \n",
        "  Returns:\n",
        "    output, attention_weights\n",
        "  \"\"\"\n",
        "\n",
        "  matmul_qk = tf.matmul(q, k, transpose_b=True)  # (..., seq_len_q, seq_len_k)\n",
        "  \n",
        "  # scale matmul_qk\n",
        "  dk = tf.cast(tf.shape(k)[-1], tf.float32)\n",
        "  scaled_attention_logits = matmul_qk / tf.math.sqrt(dk)\n",
        "\n",
        "  # add the mask to the scaled tensor.\n",
        "  if mask is not None:\n",
        "    scaled_attention_logits += (mask * -1e9)  \n",
        "\n",
        "  # softmax is normalized on the last axis (seq_len_k) so that the scores\n",
        "  # add up to 1.\n",
        "  attention_weights = tf.nn.softmax(scaled_attention_logits, axis=-1)  # (..., seq_len_q, seq_len_k)\n",
        "\n",
        "  output = tf.matmul(attention_weights, v)  # (..., seq_len_q, depth_v)\n",
        "\n",
        "  return output, attention_weights"
      ],
      "execution_count": null,
      "outputs": []
    },
    {
      "cell_type": "markdown",
      "metadata": {
        "id": "FiqETnhCkoXh"
      },
      "source": [
        "As the softmax normalization is done on K, its values decide the amount of importance given to Q.\n",
        "\n",
        "The output represents the multiplication of the attention weights and the V (value) vector. This ensures that the words you want to focus on are kept as-is and the irrelevant words are flushed out."
      ]
    },
    {
      "cell_type": "code",
      "metadata": {
        "id": "n90YjClyInFy"
      },
      "source": [
        "def print_out(q, k, v):\n",
        "  temp_out, temp_attn = scaled_dot_product_attention(\n",
        "      q, k, v, None)\n",
        "  print ('Attention weights are:')\n",
        "  print (temp_attn)\n",
        "  print ('Output is:')\n",
        "  print (temp_out)"
      ],
      "execution_count": null,
      "outputs": []
    },
    {
      "cell_type": "code",
      "metadata": {
        "id": "yAzUAf2DPlNt"
      },
      "source": [
        "np.set_printoptions(suppress=True)\n",
        "\n",
        "temp_k = tf.constant([[10,0,0],\n",
        "                      [0,10,0],\n",
        "                      [0,0,10],\n",
        "                      [0,0,10]], dtype=tf.float32)  # (4, 3)\n",
        "\n",
        "temp_v = tf.constant([[   1,0],\n",
        "                      [  10,0],\n",
        "                      [ 100,5],\n",
        "                      [1000,6]], dtype=tf.float32)  # (4, 2)\n",
        "\n",
        "# This `query` aligns with the second `key`,\n",
        "# so the second `value` is returned.\n",
        "temp_q = tf.constant([[0, 10, 0]], dtype=tf.float32)  # (1, 3)\n",
        "print_out(temp_q, temp_k, temp_v)"
      ],
      "execution_count": null,
      "outputs": []
    },
    {
      "cell_type": "code",
      "metadata": {
        "id": "zg6k-fGhgXra"
      },
      "source": [
        "# This query aligns with a repeated key (third and fourth), \n",
        "# so all associated values get averaged.\n",
        "temp_q = tf.constant([[0, 0, 10]], dtype=tf.float32)  # (1, 3)\n",
        "print_out(temp_q, temp_k, temp_v)"
      ],
      "execution_count": null,
      "outputs": []
    },
    {
      "cell_type": "code",
      "metadata": {
        "id": "UAq3YOzUgXhb"
      },
      "source": [
        "# This query aligns equally with the first and second key, \n",
        "# so their values get averaged.\n",
        "temp_q = tf.constant([[10, 10, 0]], dtype=tf.float32)  # (1, 3)\n",
        "print_out(temp_q, temp_k, temp_v)"
      ],
      "execution_count": null,
      "outputs": []
    },
    {
      "cell_type": "markdown",
      "metadata": {
        "id": "aOz-4_XIhaTP"
      },
      "source": [
        "Pass all the queries together."
      ]
    },
    {
      "cell_type": "code",
      "metadata": {
        "id": "6dlU8Tm-hYrF"
      },
      "source": [
        "temp_q = tf.constant([[0, 0, 10], [0, 10, 0], [10, 10, 0]], dtype=tf.float32)  # (3, 3)\n",
        "print_out(temp_q, temp_k, temp_v)"
      ],
      "execution_count": null,
      "outputs": []
    },
    {
      "cell_type": "markdown",
      "metadata": {
        "id": "kmzGPEy64qmA"
      },
      "source": [
        "## Multi-head attention"
      ]
    },
    {
      "cell_type": "markdown",
      "metadata": {
        "id": "fz5BMC8Kaoqo"
      },
      "source": [
        "<img src=\"https://www.tensorflow.org/images/tutorials/transformer/multi_head_attention.png\" width=\"500\" alt=\"multi-head attention\">\n",
        "\n",
        "\n",
        "Multi-head attention consists of four parts:\n",
        "*    Linear layers and split into heads.\n",
        "*    Scaled dot-product attention.\n",
        "*    Concatenation of heads.\n",
        "*    Final linear layer."
      ]
    },
    {
      "cell_type": "markdown",
      "metadata": {
        "id": "JPmbr6F1C-v_"
      },
      "source": [
        "Each multi-head attention block gets three inputs; Q (query), K (key), V (value). These are put through linear (Dense) layers and split up into multiple heads. \n",
        "\n",
        "The `scaled_dot_product_attention` defined above is applied to each head (broadcasted for efficiency). An appropriate mask must be used in the attention step.  The attention output for each head is then concatenated (using `tf.transpose`, and `tf.reshape`) and put through a final `Dense` layer.\n",
        "\n",
        "Instead of one single attention head, Q, K, and V are split into multiple heads because it allows the model to jointly attend to information at different positions from different representational spaces. After the split each head has a reduced dimensionality, so the total computation cost is the same as a single head attention with full dimensionality."
      ]
    },
    {
      "cell_type": "code",
      "metadata": {
        "id": "BSV3PPKsYecw"
      },
      "source": [
        "class MultiHeadAttention(tf.keras.layers.Layer):\n",
        "  def __init__(self, d_model, num_heads):\n",
        "    super(MultiHeadAttention, self).__init__()\n",
        "    self.num_heads = num_heads\n",
        "    self.d_model = d_model\n",
        "    \n",
        "    assert d_model % self.num_heads == 0\n",
        "    \n",
        "    self.depth = d_model // self.num_heads\n",
        "    \n",
        "    self.wq = tf.keras.layers.Dense(d_model)\n",
        "    self.wk = tf.keras.layers.Dense(d_model)\n",
        "    self.wv = tf.keras.layers.Dense(d_model)\n",
        "    \n",
        "    self.dense = tf.keras.layers.Dense(d_model)\n",
        "        \n",
        "  def split_heads(self, x, batch_size):\n",
        "    \"\"\"Split the last dimension into (num_heads, depth).\n",
        "    Transpose the result such that the shape is (batch_size, num_heads, seq_len, depth)\n",
        "    \"\"\"\n",
        "    x = tf.reshape(x, (batch_size, -1, self.num_heads, self.depth))\n",
        "    return tf.transpose(x, perm=[0, 2, 1, 3])\n",
        "    \n",
        "  def call(self, v, k, q, mask):\n",
        "    batch_size = tf.shape(q)[0]\n",
        "    \n",
        "    q = self.wq(q)  # (batch_size, seq_len, d_model)\n",
        "    k = self.wk(k)  # (batch_size, seq_len, d_model)\n",
        "    v = self.wv(v)  # (batch_size, seq_len, d_model)\n",
        "    \n",
        "    q = self.split_heads(q, batch_size)  # (batch_size, num_heads, seq_len_q, depth)\n",
        "    k = self.split_heads(k, batch_size)  # (batch_size, num_heads, seq_len_k, depth)\n",
        "    v = self.split_heads(v, batch_size)  # (batch_size, num_heads, seq_len_v, depth)\n",
        "    \n",
        "    # scaled_attention.shape == (batch_size, num_heads, seq_len_q, depth)\n",
        "    # attention_weights.shape == (batch_size, num_heads, seq_len_q, seq_len_k)\n",
        "    scaled_attention, attention_weights = scaled_dot_product_attention(\n",
        "        q, k, v, mask)\n",
        "    \n",
        "    scaled_attention = tf.transpose(scaled_attention, perm=[0, 2, 1, 3])  # (batch_size, seq_len_q, num_heads, depth)\n",
        "\n",
        "    concat_attention = tf.reshape(scaled_attention, \n",
        "                                  (batch_size, -1, self.d_model))  # (batch_size, seq_len_q, d_model)\n",
        "\n",
        "    output = self.dense(concat_attention)  # (batch_size, seq_len_q, d_model)\n",
        "        \n",
        "    return output, attention_weights"
      ],
      "execution_count": null,
      "outputs": []
    },
    {
      "cell_type": "markdown",
      "metadata": {
        "id": "0D8FJue5lDyZ"
      },
      "source": [
        "Create a `MultiHeadAttention` layer to try out. At each location in the sequence, `y`, the `MultiHeadAttention` runs all 8 attention heads across all other locations in the sequence, returning a new vector of the same length at each location."
      ]
    },
    {
      "cell_type": "code",
      "metadata": {
        "id": "Hu94p-_-2_BX"
      },
      "source": [
        "temp_mha = MultiHeadAttention(d_model=512, num_heads=8)\n",
        "y = tf.random.uniform((1, 60, 512))  # (batch_size, encoder_sequence, d_model)\n",
        "out, attn = temp_mha(y, k=y, q=y, mask=None)\n",
        "out.shape, attn.shape"
      ],
      "execution_count": null,
      "outputs": []
    },
    {
      "cell_type": "markdown",
      "metadata": {
        "id": "RdDqGayx67vv"
      },
      "source": [
        "## Point wise feed forward network"
      ]
    },
    {
      "cell_type": "markdown",
      "metadata": {
        "id": "gBqzJXGfHK3X"
      },
      "source": [
        "Point wise feed forward network consists of two fully-connected layers with a ReLU activation in between."
      ]
    },
    {
      "cell_type": "code",
      "metadata": {
        "id": "ET7xLt0yCT6Z"
      },
      "source": [
        "def point_wise_feed_forward_network(d_model, dff):\n",
        "  return tf.keras.Sequential([\n",
        "      tf.keras.layers.Dense(dff, activation='relu'),  # (batch_size, seq_len, dff)\n",
        "      tf.keras.layers.Dense(d_model)  # (batch_size, seq_len, d_model)\n",
        "  ])"
      ],
      "execution_count": null,
      "outputs": []
    },
    {
      "cell_type": "code",
      "metadata": {
        "id": "mytb1lPyOHLB"
      },
      "source": [
        "sample_ffn = point_wise_feed_forward_network(512, 2048)\n",
        "sample_ffn(tf.random.uniform((64, 50, 512))).shape"
      ],
      "execution_count": null,
      "outputs": []
    },
    {
      "cell_type": "markdown",
      "metadata": {
        "id": "7e7hKcxn6-zd"
      },
      "source": [
        "## Encoder and decoder"
      ]
    },
    {
      "cell_type": "markdown",
      "metadata": {
        "id": "yScbC0MUH8dS"
      },
      "source": [
        "<img src=\"https://www.tensorflow.org/images/tutorials/transformer/transformer.png\" width=\"600\" alt=\"transformer\">"
      ]
    },
    {
      "cell_type": "markdown",
      "metadata": {
        "id": "MfYJG-Kvgwy2"
      },
      "source": [
        "The transformer model follows the same general pattern as a standard [sequence to sequence with attention model](nmt_with_attention.ipynb). \n",
        "\n",
        "* The input sentence is passed through `N` encoder layers that generates an output for each word/token in the sequence.\n",
        "* The decoder attends on the encoder's output and its own input (self-attention) to predict the next word. "
      ]
    },
    {
      "cell_type": "markdown",
      "metadata": {
        "id": "QFv-FNYUmvpn"
      },
      "source": [
        "### Encoder layer\n",
        "\n",
        "Each encoder layer consists of sublayers:\n",
        "\n",
        "1.   Multi-head attention (with padding mask) \n",
        "2.    Point wise feed forward networks. \n",
        "\n",
        "Each of these sublayers has a residual connection around it followed by a layer normalization. Residual connections help in avoiding the vanishing gradient problem in deep networks.\n",
        "\n",
        "The output of each sublayer is `LayerNorm(x + Sublayer(x))`. The normalization is done on the `d_model` (last) axis. There are N encoder layers in the transformer."
      ]
    },
    {
      "cell_type": "code",
      "metadata": {
        "id": "ncyS-Ms3i2x_"
      },
      "source": [
        "class EncoderLayer(tf.keras.layers.Layer):\n",
        "  def __init__(self, d_model, num_heads, dff, rate=0.1):\n",
        "    super(EncoderLayer, self).__init__()\n",
        "\n",
        "    self.mha = MultiHeadAttention(d_model, num_heads)\n",
        "    self.ffn = point_wise_feed_forward_network(d_model, dff)\n",
        "\n",
        "    self.layernorm1 = tf.keras.layers.LayerNormalization(epsilon=1e-6)\n",
        "    self.layernorm2 = tf.keras.layers.LayerNormalization(epsilon=1e-6)\n",
        "    \n",
        "    self.dropout1 = tf.keras.layers.Dropout(rate)\n",
        "    self.dropout2 = tf.keras.layers.Dropout(rate)\n",
        "    \n",
        "  def call(self, x, training, mask):\n",
        "\n",
        "    attn_output, _ = self.mha(x, x, x, mask)  # (batch_size, input_seq_len, d_model)\n",
        "    attn_output = self.dropout1(attn_output, training=training)\n",
        "    out1 = self.layernorm1(x + attn_output)  # (batch_size, input_seq_len, d_model)\n",
        "    \n",
        "    ffn_output = self.ffn(out1)  # (batch_size, input_seq_len, d_model)\n",
        "    ffn_output = self.dropout2(ffn_output, training=training)\n",
        "    out2 = self.layernorm2(out1 + ffn_output)  # (batch_size, input_seq_len, d_model)\n",
        "    \n",
        "    return out2"
      ],
      "execution_count": null,
      "outputs": []
    },
    {
      "cell_type": "code",
      "metadata": {
        "id": "AzZRXdO0mI48"
      },
      "source": [
        "sample_encoder_layer = EncoderLayer(512, 8, 2048)\n",
        "\n",
        "sample_encoder_layer_output = sample_encoder_layer(\n",
        "    tf.random.uniform((64, 43, 512)), False, None)\n",
        "\n",
        "sample_encoder_layer_output.shape  # (batch_size, input_seq_len, d_model)"
      ],
      "execution_count": null,
      "outputs": []
    },
    {
      "cell_type": "markdown",
      "metadata": {
        "id": "6LO_48Owmx_o"
      },
      "source": [
        "### Decoder layer\n",
        "\n",
        "Each decoder layer consists of sublayers:\n",
        "\n",
        "1.   Masked multi-head attention (with look ahead mask and padding mask)\n",
        "2.   Multi-head attention (with padding mask). V (value) and K (key) receive the *encoder output* as inputs. Q (query) receives the *output from the masked multi-head attention sublayer.*\n",
        "3.   Point wise feed forward networks\n",
        "\n",
        "Each of these sublayers has a residual connection around it followed by a layer normalization. The output of each sublayer is `LayerNorm(x + Sublayer(x))`. The normalization is done on the `d_model` (last) axis.\n",
        "\n",
        "There are N decoder layers in the transformer.\n",
        "\n",
        "As Q receives the output from decoder's first attention block, and K receives the encoder output, the attention weights represent the importance given to the decoder's input based on the encoder's output. In other words, the decoder predicts the next word by looking at the encoder output and self-attending to its own output. See the demonstration above in the scaled dot product attention section."
      ]
    },
    {
      "cell_type": "code",
      "metadata": {
        "id": "9SoX0-vd1hue"
      },
      "source": [
        "class DecoderLayer(tf.keras.layers.Layer):\n",
        "  def __init__(self, d_model, num_heads, dff, rate=0.1):\n",
        "    super(DecoderLayer, self).__init__()\n",
        "\n",
        "    self.mha1 = MultiHeadAttention(d_model, num_heads)\n",
        "    self.mha2 = MultiHeadAttention(d_model, num_heads)\n",
        "\n",
        "    self.ffn = point_wise_feed_forward_network(d_model, dff)\n",
        " \n",
        "    self.layernorm1 = tf.keras.layers.LayerNormalization(epsilon=1e-6)\n",
        "    self.layernorm2 = tf.keras.layers.LayerNormalization(epsilon=1e-6)\n",
        "    self.layernorm3 = tf.keras.layers.LayerNormalization(epsilon=1e-6)\n",
        "    \n",
        "    self.dropout1 = tf.keras.layers.Dropout(rate)\n",
        "    self.dropout2 = tf.keras.layers.Dropout(rate)\n",
        "    self.dropout3 = tf.keras.layers.Dropout(rate)\n",
        "    \n",
        "    \n",
        "  def call(self, x, enc_output, training, \n",
        "           look_ahead_mask, padding_mask):\n",
        "    # enc_output.shape == (batch_size, input_seq_len, d_model)\n",
        "\n",
        "    attn1, attn_weights_block1 = self.mha1(x, x, x, look_ahead_mask)  # (batch_size, target_seq_len, d_model)\n",
        "    attn1 = self.dropout1(attn1, training=training)\n",
        "    out1 = self.layernorm1(attn1 + x)\n",
        "    \n",
        "    attn2, attn_weights_block2 = self.mha2(\n",
        "        enc_output, enc_output, out1, padding_mask)  # (batch_size, target_seq_len, d_model)\n",
        "    attn2 = self.dropout2(attn2, training=training)\n",
        "    out2 = self.layernorm2(attn2 + out1)  # (batch_size, target_seq_len, d_model)\n",
        "    \n",
        "    ffn_output = self.ffn(out2)  # (batch_size, target_seq_len, d_model)\n",
        "    ffn_output = self.dropout3(ffn_output, training=training)\n",
        "    out3 = self.layernorm3(ffn_output + out2)  # (batch_size, target_seq_len, d_model)\n",
        "    \n",
        "    return out3, attn_weights_block1, attn_weights_block2"
      ],
      "execution_count": null,
      "outputs": []
    },
    {
      "cell_type": "code",
      "metadata": {
        "id": "Ne2Bqx8k71l0"
      },
      "source": [
        "sample_decoder_layer = DecoderLayer(512, 8, 2048)\n",
        "\n",
        "sample_decoder_layer_output, _, _ = sample_decoder_layer(\n",
        "    tf.random.uniform((64, 50, 512)), sample_encoder_layer_output, \n",
        "    False, None, None)\n",
        "\n",
        "sample_decoder_layer_output.shape  # (batch_size, target_seq_len, d_model)"
      ],
      "execution_count": null,
      "outputs": []
    },
    {
      "cell_type": "markdown",
      "metadata": {
        "id": "SE1H51Ajm0q1"
      },
      "source": [
        "### Encoder\n",
        "\n",
        "The `Encoder` consists of:\n",
        "1.   Input Embedding\n",
        "2.   Positional Encoding\n",
        "3.   N encoder layers\n",
        "\n",
        "The input is put through an embedding which is summed with the positional encoding. The output of this summation is the input to the encoder layers. The output of the encoder is the input to the decoder."
      ]
    },
    {
      "cell_type": "code",
      "metadata": {
        "id": "jpEox7gJ8FCI"
      },
      "source": [
        "class Encoder(tf.keras.layers.Layer):\n",
        "  def __init__(self, num_layers, d_model, num_heads, dff, input_vocab_size,\n",
        "               maximum_position_encoding, rate=0.1):\n",
        "    super(Encoder, self).__init__()\n",
        "\n",
        "    self.d_model = d_model\n",
        "    self.num_layers = num_layers\n",
        "    \n",
        "    self.embedding = tf.keras.layers.Embedding(input_vocab_size, d_model)\n",
        "    self.pos_encoding = positional_encoding(maximum_position_encoding, \n",
        "                                            self.d_model)\n",
        "    \n",
        "    \n",
        "    self.enc_layers = [EncoderLayer(d_model, num_heads, dff, rate) \n",
        "                       for _ in range(num_layers)]\n",
        "  \n",
        "    self.dropout = tf.keras.layers.Dropout(rate)\n",
        "        \n",
        "  def call(self, x, training, mask):\n",
        "\n",
        "    seq_len = tf.shape(x)[1]\n",
        "    \n",
        "    # adding embedding and position encoding.\n",
        "    x = self.embedding(x)  # (batch_size, input_seq_len, d_model)\n",
        "    x *= tf.math.sqrt(tf.cast(self.d_model, tf.float32))\n",
        "    x += self.pos_encoding[:, :seq_len, :]\n",
        "\n",
        "    x = self.dropout(x, training=training)\n",
        "    \n",
        "    for i in range(self.num_layers):\n",
        "      x = self.enc_layers[i](x, training, mask)\n",
        "    \n",
        "    return x  # (batch_size, input_seq_len, d_model)"
      ],
      "execution_count": null,
      "outputs": []
    },
    {
      "cell_type": "code",
      "metadata": {
        "id": "8QG9nueFQKXx"
      },
      "source": [
        "sample_encoder = Encoder(num_layers=2, d_model=512, num_heads=8, \n",
        "                         dff=2048, input_vocab_size=8500,\n",
        "                         maximum_position_encoding=10000)\n",
        "temp_input = tf.random.uniform((64, 62), dtype=tf.int64, minval=0, maxval=200)\n",
        "\n",
        "sample_encoder_output = sample_encoder(temp_input, training=False, mask=None)\n",
        "\n",
        "print (sample_encoder_output.shape)  # (batch_size, input_seq_len, d_model)"
      ],
      "execution_count": null,
      "outputs": []
    },
    {
      "cell_type": "markdown",
      "metadata": {
        "id": "p-uO6ls8m2O5"
      },
      "source": [
        "### Decoder"
      ]
    },
    {
      "cell_type": "markdown",
      "metadata": {
        "id": "ZtT7PKzrXkNr"
      },
      "source": [
        " The `Decoder` consists of:\n",
        "1.   Output Embedding\n",
        "2.   Positional Encoding\n",
        "3.   N decoder layers\n",
        "\n",
        "The target is put through an embedding which is summed with the positional encoding. The output of this summation is the input to the decoder layers. The output of the decoder is the input to the final linear layer."
      ]
    },
    {
      "cell_type": "code",
      "metadata": {
        "id": "d5_d5-PLQXwY"
      },
      "source": [
        "class Decoder(tf.keras.layers.Layer):\n",
        "  def __init__(self, num_layers, d_model, num_heads, dff, target_vocab_size,\n",
        "               maximum_position_encoding, rate=0.1):\n",
        "    super(Decoder, self).__init__()\n",
        "\n",
        "    self.d_model = d_model\n",
        "    self.num_layers = num_layers\n",
        "    \n",
        "    self.embedding = tf.keras.layers.Embedding(target_vocab_size, d_model)\n",
        "    self.pos_encoding = positional_encoding(maximum_position_encoding, d_model)\n",
        "    \n",
        "    self.dec_layers = [DecoderLayer(d_model, num_heads, dff, rate) \n",
        "                       for _ in range(num_layers)]\n",
        "    self.dropout = tf.keras.layers.Dropout(rate)\n",
        "    \n",
        "  def call(self, x, enc_output, training, \n",
        "           look_ahead_mask, padding_mask):\n",
        "\n",
        "    seq_len = tf.shape(x)[1]\n",
        "    attention_weights = {}\n",
        "    \n",
        "    x = self.embedding(x)  # (batch_size, target_seq_len, d_model)\n",
        "    x *= tf.math.sqrt(tf.cast(self.d_model, tf.float32))\n",
        "    x += self.pos_encoding[:, :seq_len, :]\n",
        "    \n",
        "    x = self.dropout(x, training=training)\n",
        "\n",
        "    for i in range(self.num_layers):\n",
        "      x, block1, block2 = self.dec_layers[i](x, enc_output, training,\n",
        "                                             look_ahead_mask, padding_mask)\n",
        "      \n",
        "      attention_weights['decoder_layer{}_block1'.format(i+1)] = block1\n",
        "      attention_weights['decoder_layer{}_block2'.format(i+1)] = block2\n",
        "    \n",
        "    # x.shape == (batch_size, target_seq_len, d_model)\n",
        "    return x, attention_weights"
      ],
      "execution_count": null,
      "outputs": []
    },
    {
      "cell_type": "code",
      "metadata": {
        "id": "a1jXoAMRZyvu"
      },
      "source": [
        "sample_decoder = Decoder(num_layers=2, d_model=512, num_heads=8, \n",
        "                         dff=2048, target_vocab_size=8000,\n",
        "                         maximum_position_encoding=5000)\n",
        "temp_input = tf.random.uniform((64, 26), dtype=tf.int64, minval=0, maxval=200)\n",
        "\n",
        "output, attn = sample_decoder(temp_input, \n",
        "                              enc_output=sample_encoder_output, \n",
        "                              training=False,\n",
        "                              look_ahead_mask=None, \n",
        "                              padding_mask=None)\n",
        "\n",
        "output.shape, attn['decoder_layer2_block2'].shape"
      ],
      "execution_count": null,
      "outputs": []
    },
    {
      "cell_type": "markdown",
      "metadata": {
        "id": "y54xnJnuYgJ7"
      },
      "source": [
        "## Create the Transformer"
      ]
    },
    {
      "cell_type": "markdown",
      "metadata": {
        "id": "uERO1y54cOKq"
      },
      "source": [
        "Transformer consists of the encoder, decoder and a final linear layer. The output of the decoder is the input to the linear layer and its output is returned."
      ]
    },
    {
      "cell_type": "code",
      "metadata": {
        "id": "PED3bIpOYkBu"
      },
      "source": [
        "class Transformer(tf.keras.Model):\n",
        "  def __init__(self, num_layers, d_model, num_heads, dff, input_vocab_size, \n",
        "               target_vocab_size, pe_input, pe_target, rate=0.1):\n",
        "    super(Transformer, self).__init__()\n",
        "\n",
        "    self.encoder = Encoder(num_layers, d_model, num_heads, dff, \n",
        "                           input_vocab_size, pe_input, rate)\n",
        "\n",
        "    self.decoder = Decoder(num_layers, d_model, num_heads, dff, \n",
        "                           target_vocab_size, pe_target, rate)\n",
        "\n",
        "    self.final_layer = tf.keras.layers.Dense(target_vocab_size)\n",
        "    \n",
        "  def call(self, inp, tar, training, enc_padding_mask, \n",
        "           look_ahead_mask, dec_padding_mask):\n",
        "\n",
        "    enc_output = self.encoder(inp, training, enc_padding_mask)  # (batch_size, inp_seq_len, d_model)\n",
        "    \n",
        "    # dec_output.shape == (batch_size, tar_seq_len, d_model)\n",
        "    dec_output, attention_weights = self.decoder(\n",
        "        tar, enc_output, training, look_ahead_mask, dec_padding_mask)\n",
        "    \n",
        "    final_output = self.final_layer(dec_output)  # (batch_size, tar_seq_len, target_vocab_size)\n",
        "    \n",
        "    return final_output, attention_weights"
      ],
      "execution_count": null,
      "outputs": []
    },
    {
      "cell_type": "code",
      "metadata": {
        "id": "tJ4fbQcIkHW1"
      },
      "source": [
        "sample_transformer = Transformer(\n",
        "    num_layers=2, d_model=512, num_heads=8, dff=2048, \n",
        "    input_vocab_size=8500, target_vocab_size=8000, \n",
        "    pe_input=10000, pe_target=6000)\n",
        "\n",
        "temp_input = tf.random.uniform((64, 38), dtype=tf.int64, minval=0, maxval=200)\n",
        "temp_target = tf.random.uniform((64, 36), dtype=tf.int64, minval=0, maxval=200)\n",
        "\n",
        "fn_out, _ = sample_transformer(temp_input, temp_target, training=False, \n",
        "                               enc_padding_mask=None, \n",
        "                               look_ahead_mask=None,\n",
        "                               dec_padding_mask=None)\n",
        "\n",
        "fn_out.shape  # (batch_size, tar_seq_len, target_vocab_size)"
      ],
      "execution_count": null,
      "outputs": []
    },
    {
      "cell_type": "markdown",
      "metadata": {
        "id": "wsINyf1VEQLC"
      },
      "source": [
        "## Set hyperparameters"
      ]
    },
    {
      "cell_type": "markdown",
      "metadata": {
        "id": "zVjWCxFNcgbt"
      },
      "source": [
        "To keep this example small and relatively fast, the values for *num_layers, d_model, and dff* have been reduced. \n",
        "\n",
        "The values used in the base model of transformer were; *num_layers=6*, *d_model = 512*, *dff = 2048*. See the [paper](https://arxiv.org/abs/1706.03762) for all the other versions of the transformer.\n",
        "\n",
        "Note: By changing the values below, you can get the model that achieved state of the art on many tasks."
      ]
    },
    {
      "cell_type": "code",
      "metadata": {
        "id": "lnJn5SLA2ahP"
      },
      "source": [
        "num_layers = 4\n",
        "d_model = 128\n",
        "dff = 512\n",
        "num_heads = 8\n",
        "\n",
        "input_vocab_size = tokenizer_pt.vocab_size + 2\n",
        "target_vocab_size = tokenizer_en.vocab_size + 2\n",
        "dropout_rate = 0.1"
      ],
      "execution_count": null,
      "outputs": []
    },
    {
      "cell_type": "markdown",
      "metadata": {
        "id": "xYEGhEOtzn5W"
      },
      "source": [
        "## Optimizer"
      ]
    },
    {
      "cell_type": "markdown",
      "metadata": {
        "id": "GOmWW--yP3zx"
      },
      "source": [
        "Use the Adam optimizer with a custom learning rate scheduler according to the formula in the [paper](https://arxiv.org/abs/1706.03762).\n",
        "\n",
        "$$\\Large{lrate = d_{model}^{-0.5} * min(step{\\_}num^{-0.5}, step{\\_}num * warmup{\\_}steps^{-1.5})}$$\n"
      ]
    },
    {
      "cell_type": "code",
      "metadata": {
        "id": "iYQdOO1axwEI"
      },
      "source": [
        "class CustomSchedule(tf.keras.optimizers.schedules.LearningRateSchedule):\n",
        "  def __init__(self, d_model, warmup_steps=4000):\n",
        "    super(CustomSchedule, self).__init__()\n",
        "    \n",
        "    self.d_model = d_model\n",
        "    self.d_model = tf.cast(self.d_model, tf.float32)\n",
        "\n",
        "    self.warmup_steps = warmup_steps\n",
        "    \n",
        "  def __call__(self, step):\n",
        "    arg1 = tf.math.rsqrt(step)\n",
        "    arg2 = step * (self.warmup_steps ** -1.5)\n",
        "    \n",
        "    return tf.math.rsqrt(self.d_model) * tf.math.minimum(arg1, arg2)"
      ],
      "execution_count": null,
      "outputs": []
    },
    {
      "cell_type": "code",
      "metadata": {
        "id": "7r4scdulztRx"
      },
      "source": [
        "learning_rate = CustomSchedule(d_model)\n",
        "\n",
        "optimizer = tf.keras.optimizers.Adam(learning_rate, beta_1=0.9, beta_2=0.98, \n",
        "                                     epsilon=1e-9)"
      ],
      "execution_count": null,
      "outputs": []
    },
    {
      "cell_type": "code",
      "metadata": {
        "id": "f33ZCgvHpPdG"
      },
      "source": [
        "temp_learning_rate_schedule = CustomSchedule(d_model)\n",
        "\n",
        "plt.plot(temp_learning_rate_schedule(tf.range(40000, dtype=tf.float32)))\n",
        "plt.ylabel(\"Learning Rate\")\n",
        "plt.xlabel(\"Train Step\")"
      ],
      "execution_count": null,
      "outputs": []
    },
    {
      "cell_type": "markdown",
      "metadata": {
        "id": "YgkDE7hzo8r5"
      },
      "source": [
        "## Loss and metrics"
      ]
    },
    {
      "cell_type": "markdown",
      "metadata": {
        "id": "oxGJtoDuYIHL"
      },
      "source": [
        "Since the target sequences are padded, it is important to apply a padding mask when calculating the loss."
      ]
    },
    {
      "cell_type": "code",
      "metadata": {
        "id": "MlhsJMm0TW_B"
      },
      "source": [
        "loss_object = tf.keras.losses.SparseCategoricalCrossentropy(\n",
        "    from_logits=True, reduction='none')"
      ],
      "execution_count": null,
      "outputs": []
    },
    {
      "cell_type": "code",
      "metadata": {
        "id": "67oqVHiT0Eiu"
      },
      "source": [
        "def loss_function(real, pred):\n",
        "  mask = tf.math.logical_not(tf.math.equal(real, 0))\n",
        "  loss_ = loss_object(real, pred)\n",
        "\n",
        "  mask = tf.cast(mask, dtype=loss_.dtype)\n",
        "  loss_ *= mask\n",
        "  \n",
        "  return tf.reduce_sum(loss_)/tf.reduce_sum(mask)\n",
        "\n",
        "\n",
        "def accuracy_function(real, pred):\n",
        "  accuracies = tf.equal(real, tf.argmax(pred, axis=2))\n",
        "  \n",
        "  mask = tf.math.logical_not(tf.math.equal(real, 0))\n",
        "  accuracies = tf.math.logical_and(mask, accuracies)\n",
        "\n",
        "  accuracies = tf.cast(accuracies, dtype=tf.float32)\n",
        "  mask = tf.cast(mask, dtype=tf.float32)\n",
        "  return tf.reduce_sum(accuracies)/tf.reduce_sum(mask)"
      ],
      "execution_count": null,
      "outputs": []
    },
    {
      "cell_type": "code",
      "metadata": {
        "id": "phlyxMnm-Tpx"
      },
      "source": [
        "train_loss = tf.keras.metrics.Mean(name='train_loss')\n",
        "train_accuracy = tf.keras.metrics.Mean(name='train_accuracy')"
      ],
      "execution_count": null,
      "outputs": []
    },
    {
      "cell_type": "markdown",
      "metadata": {
        "id": "aeHumfr7zmMa"
      },
      "source": [
        "## Training and checkpointing"
      ]
    },
    {
      "cell_type": "code",
      "metadata": {
        "id": "UiysUa--4tOU"
      },
      "source": [
        "transformer = Transformer(num_layers, d_model, num_heads, dff,\n",
        "                          input_vocab_size, target_vocab_size, \n",
        "                          pe_input=input_vocab_size, \n",
        "                          pe_target=target_vocab_size,\n",
        "                          rate=dropout_rate)"
      ],
      "execution_count": null,
      "outputs": []
    },
    {
      "cell_type": "code",
      "metadata": {
        "id": "ZOJUSB1T8GjM"
      },
      "source": [
        "def create_masks(inp, tar):\n",
        "  # Encoder padding mask\n",
        "  enc_padding_mask = create_padding_mask(inp)\n",
        "  \n",
        "  # Used in the 2nd attention block in the decoder.\n",
        "  # This padding mask is used to mask the encoder outputs.\n",
        "  dec_padding_mask = create_padding_mask(inp)\n",
        "  \n",
        "  # Used in the 1st attention block in the decoder.\n",
        "  # It is used to pad and mask future tokens in the input received by \n",
        "  # the decoder.\n",
        "  look_ahead_mask = create_look_ahead_mask(tf.shape(tar)[1])\n",
        "  dec_target_padding_mask = create_padding_mask(tar)\n",
        "  combined_mask = tf.maximum(dec_target_padding_mask, look_ahead_mask)\n",
        "  \n",
        "  return enc_padding_mask, combined_mask, dec_padding_mask"
      ],
      "execution_count": null,
      "outputs": []
    },
    {
      "cell_type": "markdown",
      "metadata": {
        "id": "Fzuf06YZp66w"
      },
      "source": [
        "Create the checkpoint path and the checkpoint manager. This will be used to save checkpoints every `n` epochs."
      ]
    },
    {
      "cell_type": "code",
      "metadata": {
        "id": "hNhuYfllndLZ"
      },
      "source": [
        "checkpoint_path = \"./checkpoints/train\"\n",
        "\n",
        "ckpt = tf.train.Checkpoint(transformer=transformer,\n",
        "                           optimizer=optimizer)\n",
        "\n",
        "ckpt_manager = tf.train.CheckpointManager(ckpt, checkpoint_path, max_to_keep=5)\n",
        "\n",
        "# if a checkpoint exists, restore the latest checkpoint.\n",
        "if ckpt_manager.latest_checkpoint:\n",
        "  ckpt.restore(ckpt_manager.latest_checkpoint)\n",
        "  print ('Latest checkpoint restored!!')"
      ],
      "execution_count": null,
      "outputs": []
    },
    {
      "cell_type": "markdown",
      "metadata": {
        "id": "0Di_Yaa1gf9r"
      },
      "source": [
        "The target is divided into tar_inp and tar_real. tar_inp is passed as an input to the decoder. `tar_real` is that same input shifted by 1: At each location in `tar_input`, `tar_real` contains the  next token that should be predicted.\n",
        "\n",
        "For example, `sentence` = \"SOS A lion in the jungle is sleeping EOS\"\n",
        "\n",
        "`tar_inp` =  \"SOS A lion in the jungle is sleeping\"\n",
        "\n",
        "`tar_real` = \"A lion in the jungle is sleeping EOS\"\n",
        "\n",
        "The transformer is an auto-regressive model: it makes predictions one part at a time, and uses its output so far to decide what to do next. \n",
        "\n",
        "During training this example uses teacher-forcing (like in the [text generation tutorial](./text_generation.ipynb)). Teacher forcing is passing the true output to the next time step regardless of what the model predicts at the current time step.\n",
        "\n",
        "As the transformer predicts each word, *self-attention* allows it to look at the previous words in the input sequence to better predict the next word.\n",
        "\n",
        "To prevent the model from peeking at the expected output the model uses a look-ahead mask."
      ]
    },
    {
      "cell_type": "code",
      "metadata": {
        "id": "LKpoA6q1sJFj"
      },
      "source": [
        "EPOCHS = 20"
      ],
      "execution_count": null,
      "outputs": []
    },
    {
      "cell_type": "code",
      "metadata": {
        "id": "iJwmp9OE29oj"
      },
      "source": [
        "# The @tf.function trace-compiles train_step into a TF graph for faster\n",
        "# execution. The function specializes to the precise shape of the argument\n",
        "# tensors. To avoid re-tracing due to the variable sequence lengths or variable\n",
        "# batch sizes (the last batch is smaller), use input_signature to specify\n",
        "# more generic shapes.\n",
        "\n",
        "train_step_signature = [\n",
        "    tf.TensorSpec(shape=(None, None), dtype=tf.int64),\n",
        "    tf.TensorSpec(shape=(None, None), dtype=tf.int64),\n",
        "]\n",
        "\n",
        "@tf.function(input_signature=train_step_signature)\n",
        "def train_step(inp, tar):\n",
        "  tar_inp = tar[:, :-1]\n",
        "  tar_real = tar[:, 1:]\n",
        "  \n",
        "  enc_padding_mask, combined_mask, dec_padding_mask = create_masks(inp, tar_inp)\n",
        "  \n",
        "  with tf.GradientTape() as tape:\n",
        "    predictions, _ = transformer(inp, tar_inp, \n",
        "                                 True, \n",
        "                                 enc_padding_mask, \n",
        "                                 combined_mask, \n",
        "                                 dec_padding_mask)\n",
        "    loss = loss_function(tar_real, predictions)\n",
        "\n",
        "  gradients = tape.gradient(loss, transformer.trainable_variables)    \n",
        "  optimizer.apply_gradients(zip(gradients, transformer.trainable_variables))\n",
        "  \n",
        "  train_loss(loss)\n",
        "  train_accuracy(accuracy_function(tar_real, predictions))"
      ],
      "execution_count": null,
      "outputs": []
    },
    {
      "cell_type": "markdown",
      "metadata": {
        "id": "qM2PDWGDJ_8V"
      },
      "source": [
        "Portuguese is used as the input language and English is the target language."
      ]
    },
    {
      "cell_type": "code",
      "metadata": {
        "id": "bbvmaKNiznHZ"
      },
      "source": [
        "for epoch in range(EPOCHS):\n",
        "  start = time.time()\n",
        "  \n",
        "  train_loss.reset_states()\n",
        "  train_accuracy.reset_states()\n",
        "  \n",
        "  # inp -> portuguese, tar -> english\n",
        "  for (batch, (inp, tar)) in enumerate(train_dataset):\n",
        "    train_step(inp, tar)\n",
        "    \n",
        "    if batch % 50 == 0:\n",
        "      print ('Epoch {} Batch {} Loss {:.4f} Accuracy {:.4f}'.format(\n",
        "          epoch + 1, batch, train_loss.result(), train_accuracy.result()))\n",
        "      \n",
        "  if (epoch + 1) % 5 == 0:\n",
        "    ckpt_save_path = ckpt_manager.save()\n",
        "    print ('Saving checkpoint for epoch {} at {}'.format(epoch+1,\n",
        "                                                         ckpt_save_path))\n",
        "    \n",
        "  print ('Epoch {} Loss {:.4f} Accuracy {:.4f}'.format(epoch + 1, \n",
        "                                                train_loss.result(), \n",
        "                                                train_accuracy.result()))\n",
        "\n",
        "  print ('Time taken for 1 epoch: {} secs\\n'.format(time.time() - start))"
      ],
      "execution_count": null,
      "outputs": []
    },
    {
      "cell_type": "markdown",
      "metadata": {
        "id": "QfcsSWswSdGV"
      },
      "source": [
        "## Evaluate"
      ]
    },
    {
      "cell_type": "markdown",
      "metadata": {
        "id": "y6APsFrgImLW"
      },
      "source": [
        "The following steps are used for evaluation:\n",
        "\n",
        "* Encode the input sentence using the Portuguese tokenizer (`tokenizer_pt`). Moreover, add the start and end token so the input is equivalent to what the model is trained with. This is the encoder input.\n",
        "* The decoder input is the `start token == tokenizer_en.vocab_size`.\n",
        "* Calculate the padding masks and the look ahead masks.\n",
        "* The `decoder` then outputs the predictions by looking at the `encoder output` and its own output (self-attention).\n",
        "* Select the last word and calculate the argmax of that.\n",
        "* Concatentate the predicted word to the decoder input as pass it to the decoder.\n",
        "* In this approach, the decoder predicts the next word based on the previous words it predicted.\n",
        "\n",
        "Note: The model used here has less capacity to keep the example relatively faster so the predictions maybe less right. To reproduce the results in the paper, use the entire dataset and base transformer model or transformer XL, by changing the hyperparameters above."
      ]
    },
    {
      "cell_type": "code",
      "metadata": {
        "id": "5buvMlnvyrFm"
      },
      "source": [
        "def evaluate(inp_sentence):\n",
        "  start_token = [tokenizer_pt.vocab_size]\n",
        "  end_token = [tokenizer_pt.vocab_size + 1]\n",
        "  \n",
        "  # inp sentence is portuguese, hence adding the start and end token\n",
        "  inp_sentence = start_token + tokenizer_pt.encode(inp_sentence) + end_token\n",
        "  encoder_input = tf.expand_dims(inp_sentence, 0)\n",
        "  \n",
        "  # as the target is english, the first word to the transformer should be the\n",
        "  # english start token.\n",
        "  decoder_input = [tokenizer_en.vocab_size]\n",
        "  output = tf.expand_dims(decoder_input, 0)\n",
        "    \n",
        "  for i in range(MAX_LENGTH):\n",
        "    enc_padding_mask, combined_mask, dec_padding_mask = create_masks(\n",
        "        encoder_input, output)\n",
        "  \n",
        "    # predictions.shape == (batch_size, seq_len, vocab_size)\n",
        "    predictions, attention_weights = transformer(encoder_input, \n",
        "                                                 output,\n",
        "                                                 False,\n",
        "                                                 enc_padding_mask,\n",
        "                                                 combined_mask,\n",
        "                                                 dec_padding_mask)\n",
        "    \n",
        "    # select the last word from the seq_len dimension\n",
        "    predictions = predictions[: ,-1:, :]  # (batch_size, 1, vocab_size)\n",
        "\n",
        "    predicted_id = tf.cast(tf.argmax(predictions, axis=-1), tf.int32)\n",
        "    \n",
        "    # return the result if the predicted_id is equal to the end token\n",
        "    if predicted_id == tokenizer_en.vocab_size+1:\n",
        "      return tf.squeeze(output, axis=0), attention_weights\n",
        "    \n",
        "    # concatentate the predicted_id to the output which is given to the decoder\n",
        "    # as its input.\n",
        "    output = tf.concat([output, predicted_id], axis=-1)\n",
        "\n",
        "  return tf.squeeze(output, axis=0), attention_weights"
      ],
      "execution_count": null,
      "outputs": []
    },
    {
      "cell_type": "code",
      "metadata": {
        "id": "CN-BV43FMBej"
      },
      "source": [
        "def plot_attention_weights(attention, sentence, result, layer):\n",
        "  fig = plt.figure(figsize=(16, 8))\n",
        "  \n",
        "  sentence = tokenizer_pt.encode(sentence)\n",
        "  \n",
        "  attention = tf.squeeze(attention[layer], axis=0)\n",
        "  \n",
        "  for head in range(attention.shape[0]):\n",
        "    ax = fig.add_subplot(2, 4, head+1)\n",
        "    \n",
        "    # plot the attention weights\n",
        "    ax.matshow(attention[head][:-1, :], cmap='viridis')\n",
        "\n",
        "    fontdict = {'fontsize': 10}\n",
        "    \n",
        "    ax.set_xticks(range(len(sentence)+2))\n",
        "    ax.set_yticks(range(len(result)))\n",
        "    \n",
        "    ax.set_ylim(len(result)-1.5, -0.5)\n",
        "        \n",
        "    ax.set_xticklabels(\n",
        "        ['<start>']+[tokenizer_pt.decode([i]) for i in sentence]+['<end>'], \n",
        "        fontdict=fontdict, rotation=90)\n",
        "    \n",
        "    ax.set_yticklabels([tokenizer_en.decode([i]) for i in result \n",
        "                        if i < tokenizer_en.vocab_size], \n",
        "                       fontdict=fontdict)\n",
        "    \n",
        "    ax.set_xlabel('Head {}'.format(head+1))\n",
        "  \n",
        "  plt.tight_layout()\n",
        "  plt.show()"
      ],
      "execution_count": null,
      "outputs": []
    },
    {
      "cell_type": "code",
      "metadata": {
        "id": "lU2_yG_vBGza"
      },
      "source": [
        "def translate(sentence, plot=''):\n",
        "  result, attention_weights = evaluate(sentence)\n",
        "  \n",
        "  predicted_sentence = tokenizer_en.decode([i for i in result \n",
        "                                            if i < tokenizer_en.vocab_size])  \n",
        "\n",
        "  print('Input: {}'.format(sentence))\n",
        "  print('Predicted translation: {}'.format(predicted_sentence))\n",
        "  \n",
        "  if plot:\n",
        "    plot_attention_weights(attention_weights, sentence, result, plot)"
      ],
      "execution_count": null,
      "outputs": []
    },
    {
      "cell_type": "code",
      "metadata": {
        "id": "YsxrAlvFG8SZ"
      },
      "source": [
        "translate(\"este é um problema que temos que resolver.\")\n",
        "print (\"Real translation: this is a problem we have to solve .\")"
      ],
      "execution_count": null,
      "outputs": []
    },
    {
      "cell_type": "code",
      "metadata": {
        "id": "7EH5y_aqI4t1"
      },
      "source": [
        "translate(\"os meus vizinhos ouviram sobre esta ideia.\")\n",
        "print (\"Real translation: and my neighboring homes heard about this idea .\")"
      ],
      "execution_count": null,
      "outputs": []
    },
    {
      "cell_type": "code",
      "metadata": {
        "id": "J-hVCTSUMlkb"
      },
      "source": [
        "translate(\"vou então muito rapidamente partilhar convosco algumas histórias de algumas coisas mágicas que aconteceram.\")\n",
        "print (\"Real translation: so i 'll just share with you some stories very quickly of some magical things that have happened .\")"
      ],
      "execution_count": null,
      "outputs": []
    },
    {
      "cell_type": "markdown",
      "metadata": {
        "id": "_1MxkSZvz0jX"
      },
      "source": [
        "You can pass different layers and attention blocks of the decoder to the `plot` parameter."
      ]
    },
    {
      "cell_type": "code",
      "metadata": {
        "id": "t-kFyiOLH0xg"
      },
      "source": [
        "translate(\"este é o primeiro livro que eu fiz.\", plot='decoder_layer4_block2')\n",
        "print (\"Real translation: this is the first book i've ever done.\")"
      ],
      "execution_count": null,
      "outputs": []
    },
    {
      "cell_type": "markdown",
      "metadata": {
        "id": "RqQ1fIsLwkGE"
      },
      "source": [
        "## Summary\n",
        "\n",
        "In this tutorial, you learned about positional encoding, multi-head attention, the importance of masking and how to create a transformer.\n",
        "\n",
        "Try using a different dataset to train the transformer. You can also create the base transformer or transformer XL by changing the hyperparameters above. You can also use the layers defined here to create [BERT](https://arxiv.org/abs/1810.04805) and train state of the art models. Futhermore, you can implement beam search to get better predictions."
      ]
    }
  ]
}